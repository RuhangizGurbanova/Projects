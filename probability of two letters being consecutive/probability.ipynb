{
 "cells": [
  {
   "cell_type": "code",
   "execution_count": 193,
   "id": "aae6086f",
   "metadata": {},
   "outputs": [],
   "source": [
    "import warnings\n",
    "warnings.filterwarnings('ignore')"
   ]
  },
  {
   "cell_type": "code",
   "execution_count": 225,
   "id": "e0f34f62",
   "metadata": {},
   "outputs": [],
   "source": [
    "import pandas as pd\n",
    "import numpy as np\n",
    "import re\n",
    "import copy"
   ]
  },
  {
   "cell_type": "code",
   "execution_count": 195,
   "id": "38c4e3c4",
   "metadata": {
    "scrolled": true
   },
   "outputs": [
    {
     "name": "stdout",
     "output_type": "stream",
     "text": [
      "<class 'str'>\n",
      "['Çillə axşamı idi. Qoca balıq dəryanın dibində nəvə-nəticələrini ətrafına toplayıb onlara nağıl danışırdı:\\n', '- Biri var idi, biri yox idi, bir balaca qara balıq var idi. O anası ilə birlikdə kiçik bir arxda yaşayırdı. Arxın suyu dərəyə axırdı. Balaca qara balıqla anasının bir qara daşın dalında, yosunların arasında evləri var idi. Ana və bala səhərdən axşama qədər bir-birinin dalına düşüb üzür, hərdən başqa balıqlara qoşulub sürətlə balaca bir yerdə gəzişir və geri qayıdırdılar. Qara balıq anasının bircəsi idi.\\n', '\\n', 'Bir neçə gün idi ki, o, fikrə dalır, az danışırdı. Könülsüz və tənbəl-tənbəl o tərəf-bu-tərəfə gedir, geri qayıdırdı. Çox vaxt anasından xeyli geri qalırdı. Anası əvvəlcə elə bilirdi ki, sadəcə olaraq balasının kefi yoxdur, bu kefsizlik tezliklə keçib gedəcəkdir. Lakin... Demə, balaca balığın dərdi varmış...\\n', '\\n', 'Bir gün səhər tezdən, günəş doğmamış, balaca balıq anasını yuxudan oyadıb:\\n', '\\n', '- Anacan, - dedi, sənə bir neçə kəlmə sözüm var.\\n', '\\n', '- Eh, sən də vaxt tapdın! Danışmağı sonraya saxla. Yaxşı olar ki, gəzməyə çixaq, - deyə ana balıq gözlərini ovuşdurdu və əsnədi.\\n', '\\n', '- Yox, anacan, mən daha belə gəzməyi istəmirəm. Gərək burdan gedəm, - deyə balaca balıq etiraz etdi.\\n', '\\n', 'Anası heyrətlə ona baxıb soruşdu:\\n', '\\n', '- Doğrudan getmək istəyirsən?\\n', '\\n', '- Bəli, anacan, hökmən getməliyəm!\\n', '\\n', '- Axı, alaqaranlıqda hara getmək istəyirsən?\\n', '\\n', '- İstəyirəm gedim görüm arx harada qurtarır. Bilirsənmi, anacan, uzun müddətdir ki, fikirləşirəm, görəsən arx harada qurtarır? Amma indiyə qədər bir nəticəyə gələ bilməmişəm. Dünən gecədən gözümü yummayıb hər şeyi götür-qoy etmişəm. Belə qərara gəlmişəm ki, özüm gedib arxın qurtaracağını tapım. Bilmək istəyirəm başqa yerlərdə nə var, nə yox...\\n', '\\n', '- Mən də uşaq olanda belə fikirlərə düşmüşəm, balacan! Arxın nə əvvəli var, nə axırı. Elə gördüyün nə varsa odur. Arx həmişə axır və qurtarmır.\\n', '\\n', '- Yox anacan, belə deyil. Hər şeyin axırı var.\\n', '\\n', 'Məsələn, gecə sona çatır, gündüz sona çatır, həftə, ay, il... Məgər bunların sonu olmur?\\n', '\\n', 'Balaca qara balığın qızışdığını və dil-ağıza qoymayıb danışdığını görən ana balıq dedi:\\n', '\\n', '- Boş-boş sözləri bir kənara qoy, dur gəzməyə çıxaq. İndi danışmaq yox, gəzib-dolaşmaq vaxtıdır.\\n', '\\n', '- Yox, ana, mən belə gəzintilərdən yorulmuşam. Buradan uzaqlaşmaq və başqa yerlərdə nələr olduğunu bilmək istəyirəm. Birdən elə bilərsən ki, bunları mənə kimsə öyrədib, yox, ana, çoxdan bu fikrə düşmüşəm. Əlbəttə, ondan-bundan çox şeylər öyrənmişəm. Məsələn, bunu başa düşmüşəm ki, balıqların çoxu həyatlarını boş-boşuna keçirdiklərindən gileylənirlər. Daim ah-nalə edir, hər şeydən şikayətlənirlər. Bilmək istəyirəm görüm həyat elə bir qarış yerdə o yan-bu yana gedib-qayıtmaqdanmı, qocalıb heç nə görməməkdənmi ibarətdir, yoxsa başqa dünya da mövcuddur?\\n', '\\n', '- Balacan, dəli olubsan? Dünya! Dünya! O başqa dünya nə deməkdir? Dünya elə həmin dünyadır ki, biz yaşayırıq, həyat da ki, elə gördüyün yaşayışdan ibarətdir!\\n', '\\n', 'Bu zaman iri bir balıq onların evinə yaxınlaşdı:\\n', '\\n', '- Qonşu, bəhsə girmisən, - dedi, - uşaqla nəyin üstündə belə höcətləşirsən? Deyəsən, bu gün gəzmək fikriniz yoxdur?\\n', '\\n', 'Ana balıq qonşunun səsini eşidib cavab verdi:\\n', '\\n', '- Gör, zəmanə necə dəyişib?! Uşaqlar öz analarına cib-cib öyrətməyə başlayıblar.\\n', '\\n', '- Necə məgər? - deyə qonşu iri balıq soruşdu.\\n', '\\n', '- Gör bu cırtdan haralara getmək istəyir?! Hey deyir ki, istəyirəm gedim görüm dünyada nələr olur? Nə bilim, axmaq-axmaq sözlər!\\n', '\\n', 'Qonşu iri balıq:\\n', '\\n', '- Balaca, - dedi, - de görüm sən nə vaxtan belə filosof və alim olubsan ki, bizim xəbərimiz yoxdur?\\n', '\\n', 'Balaca balıq dedi:\\n', '\\n', '- Xanım, mən bilmirəm siz alim, filosof nəyə deyirsiniz? Hər gün təkrar olunan cansıxıcı gəzintilərdən cana doymuşam. Belə yorucu həyatı daha davam etdirmək istəmirəm. İstəmirəm ki, bir də gözümü açanda görüm sizin kimi qocalmışam, özü də göz-qulaqları bağlı balıqlar kimi qalmışam.\\n', '\\n', 'Qonşu balıq:\\n', '\\n', '- Vay, - dedi, - gör bu nələr danışır?!\\n', '\\n', 'Ana balıq dilləndi :\\n', '\\n', '- Heç düşünməzdim ki, bir dənə uşağım ola, o da belə çıxa! Bilmirəm, balamın qulağını hansı bədcins doldurub...\\n', '\\n', 'Balaca balıq dedi:\\n', '\\n', '- Heç kəs mənim qulağımı doldurmayıb. Anlamaq üçün mənim özümün ağlım, huşum, görmək üçün də gözüm var!\\n', '\\n', 'Qonşu balıq balaca balığın anasına dedi:\\n', '\\n', '- Bacı o pıç-pıç danışan İlbiz yadındadırmı? - Yaxşı yadıma saldın, yadımdadır! Tez-tez uşağımın yanına gələrdi. Görüm onu gorbagor olsun!\\n', '\\n', 'Balaca balıq dedi:\\n', '\\n', '- Bəsdir, ana! O, mənim dostum idi!\\n', '\\n', '- Balıqla İlbizin dostluğunu eşitməmişdik, bunu da eşitdik!\\n', '\\n', 'Balaca balıq :\\n', '\\n', '- Mən də balıqlarla İlbizin düşmənçiliyini eşidməmişdim! Amma siz o biçarənin başını yediniz, - dedi.\\n', '\\n', 'Qonşu dilləndi:\\n', '\\n', '- Bu, keçmişin söhbətidir.\\n', '\\n', '- Keçmişi siz özünüz yada saldınız!\\n', '\\n', 'Anası dedi:\\n', '\\n', '- Elə ölməli idi! Məgər oturub-durub nələr danışdıqları yadından çıxıb?!\\n', '\\n', '- Onda məni də öldürün! Çünki mən də onun dediklərini deyirəm, - deyə Balaca balıq gileyləndi.\\n', '\\n', 'Axır ki, nə başınızı ağrıdım, səs-küyün sədası başqa balıqları da oraya çəkib gətirdi. Balaca balığın sözləri hamını əsəbiləşdirmişdi. Qoca balıqlar bir-bir söhbətə qarışıb balca balığa acıqlandılar:\\n', '\\n', '- Elə düşünürsən ki, sənə rəhm edərik?!\\n', '\\n', '- Bir qulaqburması bəsdir!\\n', '\\n', 'Balaca qara balığın anası onlara müqavimət göstərdi:\\n', '\\n', '- Kənara çəkilin! Uşağıma toxunmayın!\\n', '\\n', 'Bu zaman balıqlardan bir başqası balaca balığın anasına dedi:\\n', '\\n', '- Xanım, uşağını lazımınca tərbiyələndirmədiyin üçün əzab çəkməlisən!\\n', '\\n', 'Qonşu balıq sözə başladı:\\n', '\\n', '- Sizinlə qonşu olduğuma xəcalət çəkirəm!\\n', '\\n', 'Başqa bir balıq dilləndi:\\n', '\\n', '- Nə qədər ki, bu məlunun işi... Göndərək qoca İlbizin yanına.\\n', '\\n', 'Balıqlar balaca balığı tutmaq istədilər. Dostları onu təhlükədən uzaqlaşdırdılar. Anası baş-gözünə döyür, ağlayır və deyirdi:\\n', '\\n', '- Allah, sən saxla! Uşağım əlimdən gedir. nə edim? Başıma haranın daşını töküm?\\n', '\\n', 'Balaca balıq dedi:\\n', '\\n', '- Anacan, mənim üçün ağlama, geridə galmış bu qoca balıqların halına ağla.\\n', '\\n', 'Balıqlar yerbəyerdən çığırdılar:\\n', '\\n', '- Təhqir eləmə!\\n', '\\n', '- Get! Sonra peşman olsan, daha bizdən incimə!\\n', '\\n', '- Bunlar cavanlıq əlamətidir. Getmə!\\n', '\\n', '- Buraların nəyi pisdir?!\\n', '\\n', '- Başqa dünya yoxdur! Dünya elə gördüyün bu dünyadan ibarətdir. Qayıt!\\n', '\\n', '- Ağlını başına yığıb getməkdən imtina etsən, onda bilərik ki, doğrudan da başa düşən bir balıqsan!\\n', '\\n', '- Biz sənə öyrəşmişik, getmə!\\n', '\\n', 'Ana balıq doluxsunaraq dilləndi:\\n', '\\n', '- Mənə rəhmin gəlsin, bala, getmə, getmə!\\n', '\\n', 'Balca balıq onların dediklərinə etina etmədən uzaqlaşdı. Həmyaşıdlarından bir neçəsi onu arxın gölməçəyə tökülən yerinə qədər ötürüb geri döndülər. Balaca balıq dostlarından ayrılarkən dedi:\\n', '\\n', '- Görüşənə qədər, dostlar! Məni unutmayın!\\n', '\\n', 'Dostlar:\\n', '\\n', '- Heç unudarıqmı? Sən bizi qəflət yuxusundan oyatdın. Bizə elə şeylər öyrətdin ki, hətta heç yuxumuza da girməzdi. Görüşənə qədər, ağıllı və cəsur dost, - dedilər.\\n', '\\n', 'Balaca balıq şəlaləvari yerdən aşağı sürüşüb arxa nisbətən suyu çox olan gölməçəyə düşdü. Əvvəlcə özünü itirdi. Sonra üzməyə və gölməçədə dolanmağa başladı. Balaca balıq bu vaxtadək bu qədər suyun bir yerə yığışdığını görməmişdi. Suda minlərlə çömçəquyruq gəzişirdi. Balaca balığı görən kimi onu məsxərəyə qoydular:\\n', '\\n', '- Bir bunun təhər-tövrünə bax! Sən nə cür məxluqsan?!\\n', '\\n', 'Balaca balıq ani olaraq fikirləşib:\\n', '\\n', '- Xahiş edirəm təhqir etməyin, - dedi, - mənim adım balca balıqdır. Siz də adınızı deyin, tanış olaq!\\n', '\\n', 'Çömçəquyruqlardan biri dedi:\\n', '\\n', '- Biz bir-birimizi \"Çömçəquyruq\" çağırırıq.\\n', '\\n', 'O biriləri yerbəyerdən dedilər:\\n', '\\n', '- Əslimiz, nəcabətimiz var.\\n', '\\n', '- Dünyada bizdən gözəli tapılmaz!\\n', '\\n', '- Sənin kimi yöndəmsiz deyilik!\\n', '\\n', 'Balaca balıq onlara belə cavab verdi:\\n', '\\n', '- Sizin bu qədər xudpəsənd olduğunuzu bilmirdim. Amma nadanlıq üzündən belə danışdığınız üçün sizi bağışlayıram.\\n', '\\n', 'Çömçəquyruqlar səsləndilər:\\n', '\\n', '- Deməli biz nadanıq?\\n', '\\n', '- Nadan olmasaydınız başa düşərdiniz ki, hər kəs üçün öz təhər-tövrü xoşdur. Allaha şükür, sizin heç adınız da özünüzünkü deyil.\\n', '\\n', 'Çömçəquyruqlar əvvəl əsəbiləşdilər. Sonra balaca balığın haqlı olduğunu görüb sözlərini dəyişdilər.\\n', '\\n', '- Sən özünü nahaq yerə yorursan, - dedilər, - biz səhərdən axşama qədər dünyanı gəzirik, amma özümüzdən, ata və anamızdan, saysız-hesabsız balaca qurdlardan, böcəklərdən başqa heç kəsi görmürük.\\n', '\\n', 'Balaca balıq soruşdu:\\n', '\\n', '- Siz ki, gölməçədən qırağa çıxa bilmirsiniz, dünyanı gəzib-dolanmaqdan necə dəm vura bilərsiniz?\\n', '\\n', 'Çömçəquyruqlar təəccübləndilər:\\n', '\\n', '- Məgər gölməçədən başqa da özgə dünya var?\\n', '\\n', '-Bəs necə? özünüz fikirləşin, görün yaşadığınız su hardan axıb gəlir və sudan kənarda nələr var?\\n', '\\n', '- Sudan qıraqda da yer olar? Biz indiyə qədər sudan başqa heç yeri görməmişik. Ha, ha, ha, sən dəli olubsan, nədir?!\\n', '\\n', 'Balaca qara balığı da gülmək tutdu. Fikirləşdi ki, çömçəquyruqları başa salmadan çıxıb getsin . Sonra belə qərara gəldi ki, onların anaları ilə də bir-iki kəlmə danışsın.\\n', '\\n', '- Ananız haradadır?\\n', '\\n', 'Bu zaman qurbağanın gur səsi onu diksindirdi. Qurbağa gölməçənin qırağındakı iri daşın üstündə oturmuşdu. Suya baş vurdu, gəlib balığın qarşısında dayandı:\\n', '\\n', '- Mən buradayam, - dedi, - qulluq?!\\n', '\\n', '- Möhtərəm xanım, salam!\\n', '\\n', '-Ey əsil-nəcabətsiz vücud! Nə əllaməlik edirsən? Bunları uşaq görüb axmaq-axmaq danışırsan? Bir belə ömür eləmişəm və başa düşmüşəm ki, dünya elə bu gölməçədən ibarətdir.\\n', '\\n', 'Yaxşı olar ki, işinin dalısınca gedəsən, mənim uşaqlarımı yoldan çıxarmayasan.\\n', '\\n', '- Yüz il də ömr eləsən, yenə geri qalmış, nadan qurbağa kimi qalacaqsan!\\n', '\\n', 'Qurbağa hirsləndi və balaca qara balığın üstünə cumdu. Bu zaman gölməçənin dibi bir-birinə qarışdı. Balaca balıq aldığı təkandan dığırlandı, özünü dərədən axan enli arxda gördü. Dərə əyri-üyrü idi. Dağın başından baxanda dərənin suyunu enli, ağ ipə oxşatmaq olardı. Dərənin bir yerində dağdan qopub arxa düşmüş iri bir daş suyu iki yerə bölürdü. İri bir kərtənkələ də qarnını daşa söykəmişdi. Günəşin hərarətindən ləzzət alır, suyun təkində ovladığı qurbağanı yeyən iri, yumuru xərçəngə tamaşa edirdi. Elə bu an oradan üzüb keçmək istəyən balaca balığın gözləri xərçəngə sataşdı. O, bərk qorxdu və uzaqdan xərçəngə salam verdi. Xərçəng balaca balığı görüncə:\\n', '\\n', '- Nə ədəbli balıqsan, - dedi, - gəl qabağa. Balaca, gabağa gəl!\\n', '\\n', 'Balaca balıq:\\n', '\\n', '- Mən dünyanı gəzməyə gedirəm, - deyə xərçəngə cavab verdi, cənabınızın yeminə çevrilmək istəmirəm!\\n', '\\n', '- Niyə belə bədbinsən, qorxaqsan, balaca balıq?\\n', '\\n', '- Nə bədbinəm, nə də qorxaq. Gördüklərimi deyirəm.\\n', '\\n', '- Çox yaxşı, indi de görüm gözlərin nə gördü və əqlin nə kəsdi ki, səni ovlayacağımı xəyalına gətirdin?\\n', '\\n', '- Özünü bilməməzliyə vurma!\\n', '\\n', '- Bilirəm, qurbağanın hərəkətlərinə işarə edirsən. Lap uşaqsanmış ki, bala! Qurbağalarla aram olmadığı üçün onları ovlayıram. Onlar elə xəyal edirlər ki, dünyanın yeganə məxluqlarıdılar və hamıdan xoşbəxtdilər. İstəyirəm onları başa salam ki, dünya kimin əlindədir. Sən isə qorxma, qadası! Gəl qabağa. Qorxma, gəl!\\n', '\\n', 'Xərçəng bu sözləri deyib yanlarını basa-basa balaca balığa tərəf yeridi.\\n', '\\n', 'Xərçəng elə gülməli yeriyirdi ki, balığı ixtiyarsız olaraq gülmək tutdu.\\n', '\\n', '- Ay yazıq, - dedi, - sən heç yeriməyi də bacarmırsan. Haradan bilirsən dünya kimin əlindədir?!\\n', '\\n', 'Balaca balıq xərçəngdən aralandı. Bu zaman suyun üzərinə kölgə düşdü. Gözlənilməz zərbədən xərçəng səndələyə-səndələyə suyun dibinə batdı. Xərçəngin bu halını görən kərtənkələni gülmək elə tutdu ki, az qaldı sürüşüb suya düşsün. Xərçəng isə artıq suyun üzünə çıxa bilmədi.\\n', '\\n', 'Balaca balıq gördü ki, suyun kənarında balaca bir çoban dayanıb ona və xərçəngə tamaşa edir. Qoyun-keçi sürüsü də suya yaxınlaşdı. \"Mə-mə! Bə-bə!\" səsləri dərəni başına götürdü.\\n', '\\n', 'Balaca balıq sürünü su içib qurtarana qədər gözlədi. Sürü gedəndən sonra kərtənkələni səsləyib:\\n', '\\n', '- Kərtənkələcan, - dedi, - mən arxın qurtaracağını axtarmağa gedən balaca qara balığam. Sən bilikli, zəkalı heyvansan. Buna görə də səndən bəzi şeyləri soruşmaq istəyirəm.\\n', '\\n', '- Xətrin hər nə istəyir, soruş.\\n', '\\n', '- Yolda məni nərə balıqla, saqqa quşu ilə, balıqudan quşla çox qorxudublar. Bunlar haqqında bir şey bilirsənsə mənə de!\\n', '\\n', 'Kərtənkələ dedi:\\n', '\\n', '- Nərə balıqlar və balıqudanlar bu tərəflərdə tapılmazlar. Xüsüsilə Nərə balıqlar. Çünki onlar dənizdə yaşayırlar. Amma saqqa quşuna elə bu həndəvərdə rast gəlmək olar. Nəbadə aldanıb kisəsinin içərisinə girərsən.\\n', '\\n', 'Kisə nədir? - Balaca balıq onun sözünü kəsib soruşdu.\\n', '\\n', '-Saqqa quşunun boğazının altında xeyli sututan kisə var. Bəzən təcrübəsiz, xam balıqlar suda üzən quşun kisəsinə girib birbaşa qarnına gedirlər. Saqqa quşu tox olanda balıqları kisəsində ehtiyat saxlayır.\\n', '\\n', '- Deməli, onun qarnına gedəndən sonra xilas olmaq üçün çarə yolu yoxdur?\\n', '\\n', '- Yoxdur. Kisəni parçalamaqdan başqa heç bir yol yoxdur. Sənə bir xəncər verərəm. Saqqa quşunun çənginə düşsən, dediyim kimi edərsən.\\n', '\\n', 'Kərtənkələ qayadakı yarığa sürünüb xəncərlə qayıtdı. Balaca balıq xəncəri alıb dedi:\\n', '\\n', '- Kərtənkələ, sən çox mehribansan, bilmirəm sənə necə təşəkkür edim?\\n', '\\n', '- Canım, təşəkkür nəyə lazımdır, mənim belə xəncərim çoxdur, sənin kimi ağıllı balıqlara bağışlayıram.\\n', '\\n', '- Məgər məndən qabaq da buradan keçən olub?\\n', '\\n', '- Çoxları keçib. İndi onlar özləri üçün böyük dəstə düzəldiblər...\\n', '\\n', 'Kərtənkələ bunları deyib qulağını daşdakı yarığa dayadı:\\n', '\\n', '- Di, sağ ol,- dedi, - balalarım yuxudan ayıldığı üçün getməliyəm.']\n"
     ]
    }
   ],
   "source": [
    "with open(\"haber.txt\", encoding=\"utf8\") as f:\n",
    "    lines=f.readlines()\n",
    "    print(type(str(lines)))\n",
    "    lines.remove('\\n')\n",
    "    print(lines)\n",
    "    "
   ]
  },
  {
   "cell_type": "code",
   "execution_count": 196,
   "id": "c32333bd",
   "metadata": {
    "scrolled": true
   },
   "outputs": [
    {
     "name": "stdout",
     "output_type": "stream",
     "text": [
      "['Çillə axşamı idi. Qoca balıq dəryanın dibində nəvə-nəticələrini ətrafına toplayıb onlara nağıl danışırdı:', '- Biri var idi, biri yox idi, bir balaca qara balıq var idi. O anası ilə birlikdə kiçik bir arxda yaşayırdı. Arxın suyu dərəyə axırdı. Balaca qara balıqla anasının bir qara daşın dalında, yosunların arasında evləri var idi. Ana və bala səhərdən axşama qədər bir-birinin dalına düşüb üzür, hərdən başqa balıqlara qoşulub sürətlə balaca bir yerdə gəzişir və geri qayıdırdılar. Qara balıq anasının bircəsi idi.', '', 'Bir neçə gün idi ki, o, fikrə dalır, az danışırdı. Könülsüz və tənbəl-tənbəl o tərəf-bu-tərəfə gedir, geri qayıdırdı. Çox vaxt anasından xeyli geri qalırdı. Anası əvvəlcə elə bilirdi ki, sadəcə olaraq balasının kefi yoxdur, bu kefsizlik tezliklə keçib gedəcəkdir. Lakin... Demə, balaca balığın dərdi varmış...', '', 'Bir gün səhər tezdən, günəş doğmamış, balaca balıq anasını yuxudan oyadıb:', '', '- Anacan, - dedi, sənə bir neçə kəlmə sözüm var.', '', '- Eh, sən də vaxt tapdın! Danışmağı sonraya saxla. Yaxşı olar ki, gəzməyə çixaq, - deyə ana balıq gözlərini ovuşdurdu və əsnədi.', '', '- Yox, anacan, mən daha belə gəzməyi istəmirəm. Gərək burdan gedəm, - deyə balaca balıq etiraz etdi.', '', 'Anası heyrətlə ona baxıb soruşdu:', '', '- Doğrudan getmək istəyirsən?', '', '- Bəli, anacan, hökmən getməliyəm!', '', '- Axı, alaqaranlıqda hara getmək istəyirsən?', '', '- İstəyirəm gedim görüm arx harada qurtarır. Bilirsənmi, anacan, uzun müddətdir ki, fikirləşirəm, görəsən arx harada qurtarır? Amma indiyə qədər bir nəticəyə gələ bilməmişəm. Dünən gecədən gözümü yummayıb hər şeyi götür-qoy etmişəm. Belə qərara gəlmişəm ki, özüm gedib arxın qurtaracağını tapım. Bilmək istəyirəm başqa yerlərdə nə var, nə yox...', '', '- Mən də uşaq olanda belə fikirlərə düşmüşəm, balacan! Arxın nə əvvəli var, nə axırı. Elə gördüyün nə varsa odur. Arx həmişə axır və qurtarmır.', '', '- Yox anacan, belə deyil. Hər şeyin axırı var.', '', 'Məsələn, gecə sona çatır, gündüz sona çatır, həftə, ay, il... Məgər bunların sonu olmur?', '', 'Balaca qara balığın qızışdığını və dil-ağıza qoymayıb danışdığını görən ana balıq dedi:', '', '- Boş-boş sözləri bir kənara qoy, dur gəzməyə çıxaq. İndi danışmaq yox, gəzib-dolaşmaq vaxtıdır.', '', '- Yox, ana, mən belə gəzintilərdən yorulmuşam. Buradan uzaqlaşmaq və başqa yerlərdə nələr olduğunu bilmək istəyirəm. Birdən elə bilərsən ki, bunları mənə kimsə öyrədib, yox, ana, çoxdan bu fikrə düşmüşəm. Əlbəttə, ondan-bundan çox şeylər öyrənmişəm. Məsələn, bunu başa düşmüşəm ki, balıqların çoxu həyatlarını boş-boşuna keçirdiklərindən gileylənirlər. Daim ah-nalə edir, hər şeydən şikayətlənirlər. Bilmək istəyirəm görüm həyat elə bir qarış yerdə o yan-bu yana gedib-qayıtmaqdanmı, qocalıb heç nə görməməkdənmi ibarətdir, yoxsa başqa dünya da mövcuddur?', '', '- Balacan, dəli olubsan? Dünya! Dünya! O başqa dünya nə deməkdir? Dünya elə həmin dünyadır ki, biz yaşayırıq, həyat da ki, elə gördüyün yaşayışdan ibarətdir!', '', 'Bu zaman iri bir balıq onların evinə yaxınlaşdı:', '', '- Qonşu, bəhsə girmisən, - dedi, - uşaqla nəyin üstündə belə höcətləşirsən? Deyəsən, bu gün gəzmək fikriniz yoxdur?', '', 'Ana balıq qonşunun səsini eşidib cavab verdi:', '', '- Gör, zəmanə necə dəyişib?! Uşaqlar öz analarına cib-cib öyrətməyə başlayıblar.', '', '- Necə məgər? - deyə qonşu iri balıq soruşdu.', '', '- Gör bu cırtdan haralara getmək istəyir?! Hey deyir ki, istəyirəm gedim görüm dünyada nələr olur? Nə bilim, axmaq-axmaq sözlər!', '', 'Qonşu iri balıq:', '', '- Balaca, - dedi, - de görüm sən nə vaxtan belə filosof və alim olubsan ki, bizim xəbərimiz yoxdur?', '', 'Balaca balıq dedi:', '', '- Xanım, mən bilmirəm siz alim, filosof nəyə deyirsiniz? Hər gün təkrar olunan cansıxıcı gəzintilərdən cana doymuşam. Belə yorucu həyatı daha davam etdirmək istəmirəm. İstəmirəm ki, bir də gözümü açanda görüm sizin kimi qocalmışam, özü də göz-qulaqları bağlı balıqlar kimi qalmışam.', '', 'Qonşu balıq:', '', '- Vay, - dedi, - gör bu nələr danışır?!', '', 'Ana balıq dilləndi :', '', '- Heç düşünməzdim ki, bir dənə uşağım ola, o da belə çıxa! Bilmirəm, balamın qulağını hansı bədcins doldurub...', '', 'Balaca balıq dedi:', '', '- Heç kəs mənim qulağımı doldurmayıb. Anlamaq üçün mənim özümün ağlım, huşum, görmək üçün də gözüm var!', '', 'Qonşu balıq balaca balığın anasına dedi:', '', '- Bacı o pıç-pıç danışan İlbiz yadındadırmı? - Yaxşı yadıma saldın, yadımdadır! Tez-tez uşağımın yanına gələrdi. Görüm onu gorbagor olsun!', '', 'Balaca balıq dedi:', '', '- Bəsdir, ana! O, mənim dostum idi!', '', '- Balıqla İlbizin dostluğunu eşitməmişdik, bunu da eşitdik!', '', 'Balaca balıq :', '', '- Mən də balıqlarla İlbizin düşmənçiliyini eşidməmişdim! Amma siz o biçarənin başını yediniz, - dedi.', '', 'Qonşu dilləndi:', '', '- Bu, keçmişin söhbətidir.', '', '- Keçmişi siz özünüz yada saldınız!', '', 'Anası dedi:', '', '- Elə ölməli idi! Məgər oturub-durub nələr danışdıqları yadından çıxıb?!', '', '- Onda məni də öldürün! Çünki mən də onun dediklərini deyirəm, - deyə Balaca balıq gileyləndi.', '', 'Axır ki, nə başınızı ağrıdım, səs-küyün sədası başqa balıqları da oraya çəkib gətirdi. Balaca balığın sözləri hamını əsəbiləşdirmişdi. Qoca balıqlar bir-bir söhbətə qarışıb balca balığa acıqlandılar:', '', '- Elə düşünürsən ki, sənə rəhm edərik?!', '', '- Bir qulaqburması bəsdir!', '', 'Balaca qara balığın anası onlara müqavimət göstərdi:', '', '- Kənara çəkilin! Uşağıma toxunmayın!', '', 'Bu zaman balıqlardan bir başqası balaca balığın anasına dedi:', '', '- Xanım, uşağını lazımınca tərbiyələndirmədiyin üçün əzab çəkməlisən!', '', 'Qonşu balıq sözə başladı:', '', '- Sizinlə qonşu olduğuma xəcalət çəkirəm!', '', 'Başqa bir balıq dilləndi:', '', '- Nə qədər ki, bu məlunun işi... Göndərək qoca İlbizin yanına.', '', 'Balıqlar balaca balığı tutmaq istədilər. Dostları onu təhlükədən uzaqlaşdırdılar. Anası baş-gözünə döyür, ağlayır və deyirdi:', '', '- Allah, sən saxla! Uşağım əlimdən gedir. nə edim? Başıma haranın daşını töküm?', '', 'Balaca balıq dedi:', '', '- Anacan, mənim üçün ağlama, geridə galmış bu qoca balıqların halına ağla.', '', 'Balıqlar yerbəyerdən çığırdılar:', '', '- Təhqir eləmə!', '', '- Get! Sonra peşman olsan, daha bizdən incimə!', '', '- Bunlar cavanlıq əlamətidir. Getmə!', '', '- Buraların nəyi pisdir?!', '', '- Başqa dünya yoxdur! Dünya elə gördüyün bu dünyadan ibarətdir. Qayıt!', '', '- Ağlını başına yığıb getməkdən imtina etsən, onda bilərik ki, doğrudan da başa düşən bir balıqsan!', '', '- Biz sənə öyrəşmişik, getmə!', '', 'Ana balıq doluxsunaraq dilləndi:', '', '- Mənə rəhmin gəlsin, bala, getmə, getmə!', '', 'Balca balıq onların dediklərinə etina etmədən uzaqlaşdı. Həmyaşıdlarından bir neçəsi onu arxın gölməçəyə tökülən yerinə qədər ötürüb geri döndülər. Balaca balıq dostlarından ayrılarkən dedi:', '', '- Görüşənə qədər, dostlar! Məni unutmayın!', '', 'Dostlar:', '', '- Heç unudarıqmı? Sən bizi qəflət yuxusundan oyatdın. Bizə elə şeylər öyrətdin ki, hətta heç yuxumuza da girməzdi. Görüşənə qədər, ağıllı və cəsur dost, - dedilər.', '', 'Balaca balıq şəlaləvari yerdən aşağı sürüşüb arxa nisbətən suyu çox olan gölməçəyə düşdü. Əvvəlcə özünü itirdi. Sonra üzməyə və gölməçədə dolanmağa başladı. Balaca balıq bu vaxtadək bu qədər suyun bir yerə yığışdığını görməmişdi. Suda minlərlə çömçəquyruq gəzişirdi. Balaca balığı görən kimi onu məsxərəyə qoydular:', '', '- Bir bunun təhər-tövrünə bax! Sən nə cür məxluqsan?!', '', 'Balaca balıq ani olaraq fikirləşib:', '', '- Xahiş edirəm təhqir etməyin, - dedi, - mənim adım balca balıqdır. Siz də adınızı deyin, tanış olaq!', '', 'Çömçəquyruqlardan biri dedi:', '', '- Biz bir-birimizi \"Çömçəquyruq\" çağırırıq.', '', 'O biriləri yerbəyerdən dedilər:', '', '- Əslimiz, nəcabətimiz var.', '', '- Dünyada bizdən gözəli tapılmaz!', '', '- Sənin kimi yöndəmsiz deyilik!', '', 'Balaca balıq onlara belə cavab verdi:', '', '- Sizin bu qədər xudpəsənd olduğunuzu bilmirdim. Amma nadanlıq üzündən belə danışdığınız üçün sizi bağışlayıram.', '', 'Çömçəquyruqlar səsləndilər:', '', '- Deməli biz nadanıq?', '', '- Nadan olmasaydınız başa düşərdiniz ki, hər kəs üçün öz təhər-tövrü xoşdur. Allaha şükür, sizin heç adınız da özünüzünkü deyil.', '', 'Çömçəquyruqlar əvvəl əsəbiləşdilər. Sonra balaca balığın haqlı olduğunu görüb sözlərini dəyişdilər.', '', '- Sən özünü nahaq yerə yorursan, - dedilər, - biz səhərdən axşama qədər dünyanı gəzirik, amma özümüzdən, ata və anamızdan, saysız-hesabsız balaca qurdlardan, böcəklərdən başqa heç kəsi görmürük.', '', 'Balaca balıq soruşdu:', '', '- Siz ki, gölməçədən qırağa çıxa bilmirsiniz, dünyanı gəzib-dolanmaqdan necə dəm vura bilərsiniz?', '', 'Çömçəquyruqlar təəccübləndilər:', '', '- Məgər gölməçədən başqa da özgə dünya var?', '', '-Bəs necə? özünüz fikirləşin, görün yaşadığınız su hardan axıb gəlir və sudan kənarda nələr var?', '', '- Sudan qıraqda da yer olar? Biz indiyə qədər sudan başqa heç yeri görməmişik. Ha, ha, ha, sən dəli olubsan, nədir?!', '', 'Balaca qara balığı da gülmək tutdu. Fikirləşdi ki, çömçəquyruqları başa salmadan çıxıb getsin . Sonra belə qərara gəldi ki, onların anaları ilə də bir-iki kəlmə danışsın.', '', '- Ananız haradadır?', '', 'Bu zaman qurbağanın gur səsi onu diksindirdi. Qurbağa gölməçənin qırağındakı iri daşın üstündə oturmuşdu. Suya baş vurdu, gəlib balığın qarşısında dayandı:', '', '- Mən buradayam, - dedi, - qulluq?!', '', '- Möhtərəm xanım, salam!', '', '-Ey əsil-nəcabətsiz vücud! Nə əllaməlik edirsən? Bunları uşaq görüb axmaq-axmaq danışırsan? Bir belə ömür eləmişəm və başa düşmüşəm ki, dünya elə bu gölməçədən ibarətdir.', '', 'Yaxşı olar ki, işinin dalısınca gedəsən, mənim uşaqlarımı yoldan çıxarmayasan.', '', '- Yüz il də ömr eləsən, yenə geri qalmış, nadan qurbağa kimi qalacaqsan!', '', 'Qurbağa hirsləndi və balaca qara balığın üstünə cumdu. Bu zaman gölməçənin dibi bir-birinə qarışdı. Balaca balıq aldığı təkandan dığırlandı, özünü dərədən axan enli arxda gördü. Dərə əyri-üyrü idi. Dağın başından baxanda dərənin suyunu enli, ağ ipə oxşatmaq olardı. Dərənin bir yerində dağdan qopub arxa düşmüş iri bir daş suyu iki yerə bölürdü. İri bir kərtənkələ də qarnını daşa söykəmişdi. Günəşin hərarətindən ləzzət alır, suyun təkində ovladığı qurbağanı yeyən iri, yumuru xərçəngə tamaşa edirdi. Elə bu an oradan üzüb keçmək istəyən balaca balığın gözləri xərçəngə sataşdı. O, bərk qorxdu və uzaqdan xərçəngə salam verdi. Xərçəng balaca balığı görüncə:', '', '- Nə ədəbli balıqsan, - dedi, - gəl qabağa. Balaca, gabağa gəl!', '', 'Balaca balıq:', '', '- Mən dünyanı gəzməyə gedirəm, - deyə xərçəngə cavab verdi, cənabınızın yeminə çevrilmək istəmirəm!', '', '- Niyə belə bədbinsən, qorxaqsan, balaca balıq?', '', '- Nə bədbinəm, nə də qorxaq. Gördüklərimi deyirəm.', '', '- Çox yaxşı, indi de görüm gözlərin nə gördü və əqlin nə kəsdi ki, səni ovlayacağımı xəyalına gətirdin?', '', '- Özünü bilməməzliyə vurma!', '', '- Bilirəm, qurbağanın hərəkətlərinə işarə edirsən. Lap uşaqsanmış ki, bala! Qurbağalarla aram olmadığı üçün onları ovlayıram. Onlar elə xəyal edirlər ki, dünyanın yeganə məxluqlarıdılar və hamıdan xoşbəxtdilər. İstəyirəm onları başa salam ki, dünya kimin əlindədir. Sən isə qorxma, qadası! Gəl qabağa. Qorxma, gəl!', '', 'Xərçəng bu sözləri deyib yanlarını basa-basa balaca balığa tərəf yeridi.', '', 'Xərçəng elə gülməli yeriyirdi ki, balığı ixtiyarsız olaraq gülmək tutdu.', '', '- Ay yazıq, - dedi, - sən heç yeriməyi də bacarmırsan. Haradan bilirsən dünya kimin əlindədir?!', '', 'Balaca balıq xərçəngdən aralandı. Bu zaman suyun üzərinə kölgə düşdü. Gözlənilməz zərbədən xərçəng səndələyə-səndələyə suyun dibinə batdı. Xərçəngin bu halını görən kərtənkələni gülmək elə tutdu ki, az qaldı sürüşüb suya düşsün. Xərçəng isə artıq suyun üzünə çıxa bilmədi.', '', 'Balaca balıq gördü ki, suyun kənarında balaca bir çoban dayanıb ona və xərçəngə tamaşa edir. Qoyun-keçi sürüsü də suya yaxınlaşdı. \"Mə-mə! Bə-bə!\" səsləri dərəni başına götürdü.', '', 'Balaca balıq sürünü su içib qurtarana qədər gözlədi. Sürü gedəndən sonra kərtənkələni səsləyib:', '', '- Kərtənkələcan, - dedi, - mən arxın qurtaracağını axtarmağa gedən balaca qara balığam. Sən bilikli, zəkalı heyvansan. Buna görə də səndən bəzi şeyləri soruşmaq istəyirəm.', '', '- Xətrin hər nə istəyir, soruş.', '', '- Yolda məni nərə balıqla, saqqa quşu ilə, balıqudan quşla çox qorxudublar. Bunlar haqqında bir şey bilirsənsə mənə de!', '', 'Kərtənkələ dedi:', '', '- Nərə balıqlar və balıqudanlar bu tərəflərdə tapılmazlar. Xüsüsilə Nərə balıqlar. Çünki onlar dənizdə yaşayırlar. Amma saqqa quşuna elə bu həndəvərdə rast gəlmək olar. Nəbadə aldanıb kisəsinin içərisinə girərsən.', '', 'Kisə nədir? - Balaca balıq onun sözünü kəsib soruşdu.', '', '-Saqqa quşunun boğazının altında xeyli sututan kisə var. Bəzən təcrübəsiz, xam balıqlar suda üzən quşun kisəsinə girib birbaşa qarnına gedirlər. Saqqa quşu tox olanda balıqları kisəsində ehtiyat saxlayır.', '', '- Deməli, onun qarnına gedəndən sonra xilas olmaq üçün çarə yolu yoxdur?', '', '- Yoxdur. Kisəni parçalamaqdan başqa heç bir yol yoxdur. Sənə bir xəncər verərəm. Saqqa quşunun çənginə düşsən, dediyim kimi edərsən.', '', 'Kərtənkələ qayadakı yarığa sürünüb xəncərlə qayıtdı. Balaca balıq xəncəri alıb dedi:', '', '- Kərtənkələ, sən çox mehribansan, bilmirəm sənə necə təşəkkür edim?', '', '- Canım, təşəkkür nəyə lazımdır, mənim belə xəncərim çoxdur, sənin kimi ağıllı balıqlara bağışlayıram.', '', '- Məgər məndən qabaq da buradan keçən olub?', '', '- Çoxları keçib. İndi onlar özləri üçün böyük dəstə düzəldiblər...', '', 'Kərtənkələ bunları deyib qulağını daşdakı yarığa dayadı:', '', '- Di, sağ ol,- dedi, - balalarım yuxudan ayıldığı üçün getməliyəm.']\n"
     ]
    }
   ],
   "source": [
    "new_lines=[]\n",
    "for i in lines:\n",
    "    new_lines.append(i.rstrip())\n",
    "print(new_lines)"
   ]
  },
  {
   "cell_type": "code",
   "execution_count": 197,
   "id": "af722260",
   "metadata": {},
   "outputs": [],
   "source": [
    "my_text=''.join(new_lines)"
   ]
  },
  {
   "cell_type": "code",
   "execution_count": 198,
   "id": "0d832e0d",
   "metadata": {},
   "outputs": [],
   "source": [
    "my_text=my_text.lower()"
   ]
  },
  {
   "cell_type": "code",
   "execution_count": 199,
   "id": "a368d882",
   "metadata": {
    "scrolled": true
   },
   "outputs": [],
   "source": [
    "my_text=re.sub(':', '', my_text)"
   ]
  },
  {
   "cell_type": "code",
   "execution_count": 200,
   "id": "e724b06e",
   "metadata": {},
   "outputs": [],
   "source": [
    "my_text=re.sub('-', '', my_text)"
   ]
  },
  {
   "cell_type": "code",
   "execution_count": 201,
   "id": "13142688",
   "metadata": {},
   "outputs": [],
   "source": [
    "my_text=re.sub(',', '', my_text)"
   ]
  },
  {
   "cell_type": "code",
   "execution_count": 202,
   "id": "53148912",
   "metadata": {},
   "outputs": [],
   "source": [
    "my_text=re.sub('[!@#$]', '', my_text)"
   ]
  },
  {
   "cell_type": "code",
   "execution_count": 203,
   "id": "c8ba1362",
   "metadata": {},
   "outputs": [],
   "source": [
    "my_text=my_text.replace('?', '').replace('\"', '').replace('...', ' ').replace('.', '')"
   ]
  },
  {
   "cell_type": "code",
   "execution_count": 204,
   "id": "353dd7fe",
   "metadata": {},
   "outputs": [
    {
     "data": {
      "text/plain": [
       "'çillə axşamı idi qoca balıq dəryanın dibində nəvənəticələrini ətrafına toplayıb onlara nağıl danışırdı biri var idi biri yox idi bir balaca qara balıq var idi o anası ilə birlikdə kiçik bir arxda yaşayırdı arxın suyu dərəyə axırdı balaca qara balıqla anasının bir qara daşın dalında yosunların arasında evləri var idi ana və bala səhərdən axşama qədər birbirinin dalına düşüb üzür hərdən başqa balıqlara qoşulub sürətlə balaca bir yerdə gəzişir və geri qayıdırdılar qara balıq anasının bircəsi idibir neçə gün idi ki o fikrə dalır az danışırdı könülsüz və tənbəltənbəl o tərəfbutərəfə gedir geri qayıdırdı çox vaxt anasından xeyli geri qalırdı anası əvvəlcə elə bilirdi ki sadəcə olaraq balasının kefi yoxdur bu kefsizlik tezliklə keçib gedəcəkdir lakin  demə balaca balığın dərdi varmış bir gün səhər tezdən günəş doğmamış balaca balıq anasını yuxudan oyadıb anacan  dedi sənə bir neçə kəlmə sözüm var eh sən də vaxt tapdın danışmağı sonraya saxla yaxşı olar ki gəzməyə çixaq  deyə ana balıq gözlərini ovuşdurdu və əsnədi yox anacan mən daha belə gəzməyi istəmirəm gərək burdan gedəm  deyə balaca balıq etiraz etdianası heyrətlə ona baxıb soruşdu doğrudan getmək istəyirsən bəli anacan hökmən getməliyəm axı alaqaranlıqda hara getmək istəyirsən i̇stəyirəm gedim görüm arx harada qurtarır bilirsənmi anacan uzun müddətdir ki fikirləşirəm görəsən arx harada qurtarır amma indiyə qədər bir nəticəyə gələ bilməmişəm dünən gecədən gözümü yummayıb hər şeyi götürqoy etmişəm belə qərara gəlmişəm ki özüm gedib arxın qurtaracağını tapım bilmək istəyirəm başqa yerlərdə nə var nə yox  mən də uşaq olanda belə fikirlərə düşmüşəm balacan arxın nə əvvəli var nə axırı elə gördüyün nə varsa odur arx həmişə axır və qurtarmır yox anacan belə deyil hər şeyin axırı varməsələn gecə sona çatır gündüz sona çatır həftə ay il  məgər bunların sonu olmurbalaca qara balığın qızışdığını və dilağıza qoymayıb danışdığını görən ana balıq dedi boşboş sözləri bir kənara qoy dur gəzməyə çıxaq i̇ndi danışmaq yox gəzibdolaşmaq vaxtıdır yox ana mən belə gəzintilərdən yorulmuşam buradan uzaqlaşmaq və başqa yerlərdə nələr olduğunu bilmək istəyirəm birdən elə bilərsən ki bunları mənə kimsə öyrədib yox ana çoxdan bu fikrə düşmüşəm əlbəttə ondanbundan çox şeylər öyrənmişəm məsələn bunu başa düşmüşəm ki balıqların çoxu həyatlarını boşboşuna keçirdiklərindən gileylənirlər daim ahnalə edir hər şeydən şikayətlənirlər bilmək istəyirəm görüm həyat elə bir qarış yerdə o yanbu yana gedibqayıtmaqdanmı qocalıb heç nə görməməkdənmi ibarətdir yoxsa başqa dünya da mövcuddur balacan dəli olubsan dünya dünya o başqa dünya nə deməkdir dünya elə həmin dünyadır ki biz yaşayırıq həyat da ki elə gördüyün yaşayışdan ibarətdirbu zaman iri bir balıq onların evinə yaxınlaşdı qonşu bəhsə girmisən  dedi  uşaqla nəyin üstündə belə höcətləşirsən deyəsən bu gün gəzmək fikriniz yoxdurana balıq qonşunun səsini eşidib cavab verdi gör zəmanə necə dəyişib uşaqlar öz analarına cibcib öyrətməyə başlayıblar necə məgər  deyə qonşu iri balıq soruşdu gör bu cırtdan haralara getmək istəyir hey deyir ki istəyirəm gedim görüm dünyada nələr olur nə bilim axmaqaxmaq sözlərqonşu iri balıq balaca  dedi  de görüm sən nə vaxtan belə filosof və alim olubsan ki bizim xəbərimiz yoxdurbalaca balıq dedi xanım mən bilmirəm siz alim filosof nəyə deyirsiniz hər gün təkrar olunan cansıxıcı gəzintilərdən cana doymuşam belə yorucu həyatı daha davam etdirmək istəmirəm i̇stəmirəm ki bir də gözümü açanda görüm sizin kimi qocalmışam özü də gözqulaqları bağlı balıqlar kimi qalmışamqonşu balıq vay  dedi  gör bu nələr danışırana balıq dilləndi  heç düşünməzdim ki bir dənə uşağım ola o da belə çıxa bilmirəm balamın qulağını hansı bədcins doldurub balaca balıq dedi heç kəs mənim qulağımı doldurmayıb anlamaq üçün mənim özümün ağlım huşum görmək üçün də gözüm varqonşu balıq balaca balığın anasına dedi bacı o pıçpıç danışan i̇lbiz yadındadırmı  yaxşı yadıma saldın yadımdadır teztez uşağımın yanına gələrdi görüm onu gorbagor olsunbalaca balıq dedi bəsdir ana o mənim dostum idi balıqla i̇lbizin dostluğunu eşitməmişdik bunu da eşitdikbalaca balıq  mən də balıqlarla i̇lbizin düşmənçiliyini eşidməmişdim amma siz o biçarənin başını yediniz  dediqonşu dilləndi bu keçmişin söhbətidir keçmişi siz özünüz yada saldınızanası dedi elə ölməli idi məgər oturubdurub nələr danışdıqları yadından çıxıb onda məni də öldürün çünki mən də onun dediklərini deyirəm  deyə balaca balıq gileyləndiaxır ki nə başınızı ağrıdım səsküyün sədası başqa balıqları da oraya çəkib gətirdi balaca balığın sözləri hamını əsəbiləşdirmişdi qoca balıqlar birbir söhbətə qarışıb balca balığa acıqlandılar elə düşünürsən ki sənə rəhm edərik bir qulaqburması bəsdirbalaca qara balığın anası onlara müqavimət göstərdi kənara çəkilin uşağıma toxunmayınbu zaman balıqlardan bir başqası balaca balığın anasına dedi xanım uşağını lazımınca tərbiyələndirmədiyin üçün əzab çəkməlisənqonşu balıq sözə başladı sizinlə qonşu olduğuma xəcalət çəkirəmbaşqa bir balıq dilləndi nə qədər ki bu məlunun işi  göndərək qoca i̇lbizin yanınabalıqlar balaca balığı tutmaq istədilər dostları onu təhlükədən uzaqlaşdırdılar anası başgözünə döyür ağlayır və deyirdi allah sən saxla uşağım əlimdən gedir nə edim başıma haranın daşını tökümbalaca balıq dedi anacan mənim üçün ağlama geridə galmış bu qoca balıqların halına ağlabalıqlar yerbəyerdən çığırdılar təhqir eləmə get sonra peşman olsan daha bizdən incimə bunlar cavanlıq əlamətidir getmə buraların nəyi pisdir başqa dünya yoxdur dünya elə gördüyün bu dünyadan ibarətdir qayıt ağlını başına yığıb getməkdən imtina etsən onda bilərik ki doğrudan da başa düşən bir balıqsan biz sənə öyrəşmişik getməana balıq doluxsunaraq dilləndi mənə rəhmin gəlsin bala getmə getməbalca balıq onların dediklərinə etina etmədən uzaqlaşdı həmyaşıdlarından bir neçəsi onu arxın gölməçəyə tökülən yerinə qədər ötürüb geri döndülər balaca balıq dostlarından ayrılarkən dedi görüşənə qədər dostlar məni unutmayındostlar heç unudarıqmı sən bizi qəflət yuxusundan oyatdın bizə elə şeylər öyrətdin ki hətta heç yuxumuza da girməzdi görüşənə qədər ağıllı və cəsur dost  dedilərbalaca balıq şəlaləvari yerdən aşağı sürüşüb arxa nisbətən suyu çox olan gölməçəyə düşdü əvvəlcə özünü itirdi sonra üzməyə və gölməçədə dolanmağa başladı balaca balıq bu vaxtadək bu qədər suyun bir yerə yığışdığını görməmişdi suda minlərlə çömçəquyruq gəzişirdi balaca balığı görən kimi onu məsxərəyə qoydular bir bunun təhərtövrünə bax sən nə cür məxluqsanbalaca balıq ani olaraq fikirləşib xahiş edirəm təhqir etməyin  dedi  mənim adım balca balıqdır siz də adınızı deyin tanış olaqçömçəquyruqlardan biri dedi biz birbirimizi çömçəquyruq çağırırıqo biriləri yerbəyerdən dedilər əslimiz nəcabətimiz var dünyada bizdən gözəli tapılmaz sənin kimi yöndəmsiz deyilikbalaca balıq onlara belə cavab verdi sizin bu qədər xudpəsənd olduğunuzu bilmirdim amma nadanlıq üzündən belə danışdığınız üçün sizi bağışlayıramçömçəquyruqlar səsləndilər deməli biz nadanıq nadan olmasaydınız başa düşərdiniz ki hər kəs üçün öz təhərtövrü xoşdur allaha şükür sizin heç adınız da özünüzünkü deyilçömçəquyruqlar əvvəl əsəbiləşdilər sonra balaca balığın haqlı olduğunu görüb sözlərini dəyişdilər sən özünü nahaq yerə yorursan  dedilər  biz səhərdən axşama qədər dünyanı gəzirik amma özümüzdən ata və anamızdan saysızhesabsız balaca qurdlardan böcəklərdən başqa heç kəsi görmürükbalaca balıq soruşdu siz ki gölməçədən qırağa çıxa bilmirsiniz dünyanı gəzibdolanmaqdan necə dəm vura bilərsinizçömçəquyruqlar təəccübləndilər məgər gölməçədən başqa da özgə dünya varbəs necə özünüz fikirləşin görün yaşadığınız su hardan axıb gəlir və sudan kənarda nələr var sudan qıraqda da yer olar biz indiyə qədər sudan başqa heç yeri görməmişik ha ha ha sən dəli olubsan nədirbalaca qara balığı da gülmək tutdu fikirləşdi ki çömçəquyruqları başa salmadan çıxıb getsin  sonra belə qərara gəldi ki onların anaları ilə də biriki kəlmə danışsın ananız haradadırbu zaman qurbağanın gur səsi onu diksindirdi qurbağa gölməçənin qırağındakı iri daşın üstündə oturmuşdu suya baş vurdu gəlib balığın qarşısında dayandı mən buradayam  dedi  qulluq möhtərəm xanım salamey əsilnəcabətsiz vücud nə əllaməlik edirsən bunları uşaq görüb axmaqaxmaq danışırsan bir belə ömür eləmişəm və başa düşmüşəm ki dünya elə bu gölməçədən ibarətdiryaxşı olar ki işinin dalısınca gedəsən mənim uşaqlarımı yoldan çıxarmayasan yüz il də ömr eləsən yenə geri qalmış nadan qurbağa kimi qalacaqsanqurbağa hirsləndi və balaca qara balığın üstünə cumdu bu zaman gölməçənin dibi birbirinə qarışdı balaca balıq aldığı təkandan dığırlandı özünü dərədən axan enli arxda gördü dərə əyriüyrü idi dağın başından baxanda dərənin suyunu enli ağ ipə oxşatmaq olardı dərənin bir yerində dağdan qopub arxa düşmüş iri bir daş suyu iki yerə bölürdü i̇ri bir kərtənkələ də qarnını daşa söykəmişdi günəşin hərarətindən ləzzət alır suyun təkində ovladığı qurbağanı yeyən iri yumuru xərçəngə tamaşa edirdi elə bu an oradan üzüb keçmək istəyən balaca balığın gözləri xərçəngə sataşdı o bərk qorxdu və uzaqdan xərçəngə salam verdi xərçəng balaca balığı görüncə nə ədəbli balıqsan  dedi  gəl qabağa balaca gabağa gəlbalaca balıq mən dünyanı gəzməyə gedirəm  deyə xərçəngə cavab verdi cənabınızın yeminə çevrilmək istəmirəm niyə belə bədbinsən qorxaqsan balaca balıq nə bədbinəm nə də qorxaq gördüklərimi deyirəm çox yaxşı indi de görüm gözlərin nə gördü və əqlin nə kəsdi ki səni ovlayacağımı xəyalına gətirdin özünü bilməməzliyə vurma bilirəm qurbağanın hərəkətlərinə işarə edirsən lap uşaqsanmış ki bala qurbağalarla aram olmadığı üçün onları ovlayıram onlar elə xəyal edirlər ki dünyanın yeganə məxluqlarıdılar və hamıdan xoşbəxtdilər i̇stəyirəm onları başa salam ki dünya kimin əlindədir sən isə qorxma qadası gəl qabağa qorxma gəlxərçəng bu sözləri deyib yanlarını basabasa balaca balığa tərəf yeridixərçəng elə gülməli yeriyirdi ki balığı ixtiyarsız olaraq gülmək tutdu ay yazıq  dedi  sən heç yeriməyi də bacarmırsan haradan bilirsən dünya kimin əlindədirbalaca balıq xərçəngdən aralandı bu zaman suyun üzərinə kölgə düşdü gözlənilməz zərbədən xərçəng səndələyəsəndələyə suyun dibinə batdı xərçəngin bu halını görən kərtənkələni gülmək elə tutdu ki az qaldı sürüşüb suya düşsün xərçəng isə artıq suyun üzünə çıxa bilmədibalaca balıq gördü ki suyun kənarında balaca bir çoban dayanıb ona və xərçəngə tamaşa edir qoyunkeçi sürüsü də suya yaxınlaşdı məmə bəbə səsləri dərəni başına götürdübalaca balıq sürünü su içib qurtarana qədər gözlədi sürü gedəndən sonra kərtənkələni səsləyib kərtənkələcan  dedi  mən arxın qurtaracağını axtarmağa gedən balaca qara balığam sən bilikli zəkalı heyvansan buna görə də səndən bəzi şeyləri soruşmaq istəyirəm xətrin hər nə istəyir soruş yolda məni nərə balıqla saqqa quşu ilə balıqudan quşla çox qorxudublar bunlar haqqında bir şey bilirsənsə mənə dekərtənkələ dedi nərə balıqlar və balıqudanlar bu tərəflərdə tapılmazlar xüsüsilə nərə balıqlar çünki onlar dənizdə yaşayırlar amma saqqa quşuna elə bu həndəvərdə rast gəlmək olar nəbadə aldanıb kisəsinin içərisinə girərsənkisə nədir  balaca balıq onun sözünü kəsib soruşdusaqqa quşunun boğazının altında xeyli sututan kisə var bəzən təcrübəsiz xam balıqlar suda üzən quşun kisəsinə girib birbaşa qarnına gedirlər saqqa quşu tox olanda balıqları kisəsində ehtiyat saxlayır deməli onun qarnına gedəndən sonra xilas olmaq üçün çarə yolu yoxdur yoxdur kisəni parçalamaqdan başqa heç bir yol yoxdur sənə bir xəncər verərəm saqqa quşunun çənginə düşsən dediyim kimi edərsənkərtənkələ qayadakı yarığa sürünüb xəncərlə qayıtdı balaca balıq xəncəri alıb dedi kərtənkələ sən çox mehribansan bilmirəm sənə necə təşəkkür edim canım təşəkkür nəyə lazımdır mənim belə xəncərim çoxdur sənin kimi ağıllı balıqlara bağışlayıram məgər məndən qabaq da buradan keçən olub çoxları keçib i̇ndi onlar özləri üçün böyük dəstə düzəldiblər kərtənkələ bunları deyib qulağını daşdakı yarığa dayadı di sağ ol dedi  balalarım yuxudan ayıldığı üçün getməliyəm'"
      ]
     },
     "execution_count": 204,
     "metadata": {},
     "output_type": "execute_result"
    }
   ],
   "source": [
    "my_text"
   ]
  },
  {
   "cell_type": "code",
   "execution_count": 205,
   "id": "7c029598",
   "metadata": {
    "scrolled": false
   },
   "outputs": [
    {
     "name": "stdout",
     "output_type": "stream",
     "text": [
      "{'çi': 9, 'il': 60, 'll': 11, 'lə': 138, 'ə ': 230, ' a': 96, 'ax': 33, 'xş': 8, 'şa': 37, 'am': 40, 'mı': 22, 'ı ': 104, ' i': 65, 'id': 16, 'di': 144, 'i ': 183, ' q': 95, 'qo': 29, 'oc': 6, 'ca': 79, 'a ': 253, ' b': 295, 'ba': 195, 'al': 178, 'lı': 100, 'ıq': 72, 'q ': 68, ' d': 192, 'də': 113, 'ər': 141, 'ry': 2, 'ya': 67, 'an': 170, 'nı': 63, 'ın': 103, 'n ': 279, 'ib': 31, 'bi': 90, 'in': 86, 'nd': 66, ' n': 54, 'nə': 74, 'əv': 7, 'və': 26, 'ən': 181, 'ət': 31, 'ti': 16, 'ic': 2, 'cə': 23, 'əl': 60, 'ri': 60, 'ni': 44, ' ə': 20, 'tr': 2, 'ra': 66, 'af': 1, 'fı': 1, 'na': 70, ' t': 36, 'to': 3, 'op': 2, 'pl': 1, 'la': 191, 'ay': 38, 'yı': 24, 'ıb': 16, 'b ': 48, ' o': 76, 'on': 43, 'nl': 30, 'ar': 164, 'ağ': 45, 'ğı': 50, 'ıl': 12, 'l ': 11, 'da': 123, 'ış': 27, 'şı': 20, 'ır': 44, 'rd': 63, 'dı': 61, 'ir': 139, ' v': 49, 'va': 27, 'r ': 181, ' y': 78, 'yo': 23, 'ox': 28, 'x ': 18, 'ac': 59, 'qa': 53, 'o ': 11, 'as': 24, 'sı': 26, 'rl': 18, 'li': 42, 'ik': 29, 'kd': 5, ' k': 75, 'ki': 62, 'iç': 4, 'k ': 29, 'rx': 18, 'xd': 12, 'aş': 53, 'xı': 18, ' s': 113, 'su': 26, 'uy': 20, 'yu': 17, 'u ': 67, 'rə': 70, 'əy': 43, 'yə': 30, 'ql': 35, 'os': 10, 'un': 47, 'rı': 45, ' e': 48, 'ev': 3, 'vl': 4, 'sə': 69, 'əh': 11, 'hə': 24, 'ma': 55, 'qə': 14, 'əd': 35, 'rb': 26, 'dü': 50, 'üş': 24, 'şü': 6, 'üb': 11, ' ü': 20, 'üz': 15, 'zü': 22, 'ür': 21, ' h': 54, 'şq': 13, 'oş': 7, 'şu': 18, 'ul': 9, 'lu': 14, 'ub': 10, 'sü': 11, 'tl': 11, 'ye': 24, 'er': 30, ' g': 137, 'gə': 39, 'əz': 20, 'zi': 19, 'iş': 23, 'şi': 19, 'ge': 34, 'ıd': 7, 'rc': 1, 'əs': 36, 'si': 32, 'ne': 8, 'eç': 21, 'çə': 37, 'gü': 11, 'ün': 68, ' f': 10, 'fi': 11, 'kr': 4, 'az': 9, 'z ': 43, 'kö': 2, 'ön': 4, 'nü': 12, 'ül': 7, 'ls': 4, 'tə': 51, 'nb': 7, 'bə': 27, 'lt': 2, 'əf': 6, 'fb': 1, 'bu': 42, 'ut': 8, 'fə': 1, 'ed': 55, ' ç': 35, 'ço': 11, 'xt': 8, 't ': 13, ' x': 31, 'xe': 2, 'ey': 33, 'yl': 7, 'vv': 4, 'lc': 5, 'el': 34, 'sa': 40, 'ad': 40, 'əc': 8, 'ol': 40, 'aq': 48, 'ke': 10, 'ef': 2, 'du': 34, 'ur': 47, 'fs': 1, 'iz': 40, 'zl': 15, 'te': 4, 'ez': 4, 'kl': 7, 'ək': 34, ' l': 5, 'ak': 4, '  ': 36, 'de': 53, 'em': 5, 'mə': 105, 'ığ': 33, 'rm': 21, 'ş ': 14, 'zd': 8, 'əş': 12, 'do': 17, 'oğ': 4, 'ğm': 1, 'ux': 5, 'xu': 8, 'ud': 16, 'oy': 8, 'kə': 31, 'lm': 42, 'sö': 11, 'öz': 34, 'üm': 15, 'm ': 92, 'eh': 3, 'h ': 2, 'ta': 20, 'ap': 5, 'pd': 1, 'şm': 13, 'so': 18, 'nr': 7, 'xl': 6, 'zm': 6, 'ix': 3, 'xa': 17, 'gö': 56, 'ov': 4, 'vu': 4, 'uş': 29, 'şd': 31, 'sn': 1, ' m': 40, 'ah': 8, 'ha': 23, 'be': 15, 'yi': 36, 'is': 27, 'st': 30, 'əm': 57, 'mi': 45, 'et': 20, 'td': 17, 'ia': 2, 'he': 14, 'yr': 16, 'or': 19, 'ru': 22, 'ğr': 3, 'tm': 19, 'rs': 21, 'hö': 2, 'ök': 3, 'km': 2, 'iy': 13, 'qd': 7, 'i̇': 10, '̇s': 3, 'im': 41, 'ör': 33, 'rü': 26, 'qu': 36, 'rt': 18, 'nm': 9, ' u': 18, 'uz': 7, 'zu': 2, 'mü': 13, 'üd': 1, 'dd': 2, 'mm': 6, 'şə': 17, 'ec': 7, 'ü ': 20, 'um': 7, ' ş': 10, 'şe': 7, 'öt': 3, 'tü': 6, 'rq': 3, 'y ': 8, ' ö': 25, 'pı': 5, 'ım': 21, 'üy': 5, 'yü': 7, 'od': 1, 'ça': 7, 'at': 12, 'tı': 6, 'ft': 1, 'əg': 5, 'nu': 23, 'mu': 6, 'qı': 5, 'ız': 15, 'zı': 8, 'za': 13, 'ym': 2, 'bo': 5, 'şb': 3, 'çı': 8, 'ıx': 8, '̇n': 2, 'bd': 3, 'nt': 2, 'ld': 17, 'uğ': 5, 'ğu': 5, 'ms': 2, 'öy': 8, 'lb': 6, 'tt': 2, 'gi': 8, 'le': 2, 'ai': 1, 'hn': 1, 'yd': 3, 'ka': 3, 'bq': 1, 'ıt': 3, 'ç ': 11, 'xs': 2, 'ny': 19, 'mö': 2, 'öv': 3, 'vc': 1, 'cu': 4, 'bs': 4, ' z': 8, 'vi': 2, 'nş': 9, 'hs': 1, 'üs': 6, 'öc': 2, 'eş': 5, ' c': 13, 'av': 6, 'ab': 15, 've': 5, 'zə': 11, 'ci': 4, 'bc': 1, 'şl': 6, 'bl': 5, 'cı': 4, 'xm': 6, 'e ': 2, 'lo': 2, 'of': 2, 'f ': 3, 'xə': 22, 'əb': 7, 'ns': 7, 'ıc': 1, 'uc': 1, 'aç': 1, 'zq': 1, 'ğl': 6, 'mq': 1, 'dc': 1, 's ': 5, 'üç': 10, 'çü': 12, 'hu': 1, ' p': 4, 'ıç': 2, 'çp': 1, '̇l': 4, 'md': 4, 'zt': 1, 'go': 2, 'ag': 1, 'sd': 4, 'tu': 8, 'it': 3, 'kb': 3, 'nç': 1, 'dm': 1, 'iq': 1, 'çm': 3, 'öh': 3, 'hb': 2, 'öl': 12, 'ot': 2, 'nk': 14, 'sk': 1, 'kü': 7, 'ğa': 19, ' r': 3, 'hm': 2, 'qb': 1, 'üq': 1, 'ös': 1, 'nc': 8, 'nq': 2, 'mb': 2, 'hl': 1, 'lü': 2, 'ük': 5, 'şg': 1, 'dö': 2, 'tö': 4, 'ga': 3, 'hq': 2, 'qi': 2, 'pe': 1, 'pi': 1, 'mt': 1, 'ts': 3, 'qs': 6, 'əa': 1, 'my': 1, 'dl': 2, 'əç': 8, 'rk': 2, 'qm': 1, 'fl': 2, 'us': 2, 'sb': 1, 'çö': 7, 'öm': 9, 'mç': 8, 'əq': 8, 'uq': 10, 'sx': 1, 'vr': 3, 'cü': 2, 'əx': 3, 'hi': 2, 'qç': 1, 'sl': 5, 'yö': 1, 'dp': 1, 'pə': 2, 'd ': 2, 'xo': 2, 'lç': 1, 'ys': 1, 'zh': 1, 'es': 1, 'bö': 3, 'zç': 1, 'əə': 1, 'cc': 1, 'zg': 1, 'şs': 3, 'gu': 1, 'ks': 1, 'kı': 3, 'rş': 1, 'ıs': 2, 'ht': 2, 'me': 2, 'ln': 1, 'vü': 1, 'üc': 1, 'mr': 1, 'en': 3, 'iü': 1, 'ğ ': 2, 'ip': 1, 'ğd': 1, 'pu': 1, '̇r': 1, 'rn': 3, 'yk': 1, 'zz': 1, 'rç': 13, 'ng': 13, 'g ': 5, 'bı': 1, 'çe': 1, 'db': 2, 'p ': 1, 'eg': 1, 'lx': 1, 'gd': 1, 'lg': 1, 'ob': 1, 'yv': 1, 'qq': 6, 'ek': 1, 'xü': 1, 'cr': 1, 'xi': 1, 'pa': 1, 'hr': 1, 'kk': 2}\n"
     ]
    }
   ],
   "source": [
    "# Python3 code to demonstrate working of\n",
    "# Bigrams Frequency in String\n",
    "# Using Counter() + generator expression\n",
    "from collections import Counter\n",
    "     \n",
    "# initializing string\n",
    "#test_str = 'geeksforgeeks'\n",
    " \n",
    "# printing original string\n",
    "#print(\"The original string is : \" + str(my_text))\n",
    " \n",
    "# Bigrams Frequency in String\n",
    "# Using Counter() + generator expression\n",
    "res = Counter(my_text[idx : idx + 2] for idx in range(len(my_text) - 1))\n",
    " \n",
    "# printing result\n",
    "print( str(dict(res)))"
   ]
  },
  {
   "cell_type": "code",
   "execution_count": 217,
   "id": "4016cbcb",
   "metadata": {
    "scrolled": false
   },
   "outputs": [],
   "source": [
    "res={k: v for k, v in sorted(res.items(), key=lambda item: item[1])}"
   ]
  },
  {
   "cell_type": "code",
   "execution_count": 221,
   "id": "4b054577",
   "metadata": {},
   "outputs": [],
   "source": [
    "import copy"
   ]
  },
  {
   "cell_type": "code",
   "execution_count": 224,
   "id": "4c438f57",
   "metadata": {
    "scrolled": false
   },
   "outputs": [
    {
     "name": "stdout",
     "output_type": "stream",
     "text": [
      "{'af': 1, 'fı': 1, 'pl': 1, 'rc': 1, 'fb': 1, 'fə': 1, 'fs': 1, 'ğm': 1, 'pd': 1, 'sn': 1, 'üd': 1, 'od': 1, 'ft': 1, 'ai': 1, 'hn': 1, 'bq': 1, 'vc': 1, 'hs': 1, 'bc': 1, 'ıc': 1, 'uc': 1, 'aç': 1, 'zq': 1, 'mq': 1, 'dc': 1, 'hu': 1, 'çp': 1, 'zt': 1, 'ag': 1, 'nç': 1, 'dm': 1, 'iq': 1, 'sk': 1, 'qb': 1, 'üq': 1, 'ös': 1, 'hl': 1, 'şg': 1, 'pe': 1, 'pi': 1, 'mt': 1, 'əa': 1, 'my': 1, 'qm': 1, 'sb': 1, 'sx': 1, 'qç': 1, 'yö': 1, 'dp': 1, 'lç': 1, 'ys': 1, 'zh': 1, 'es': 1, 'zç': 1, 'əə': 1, 'cc': 1, 'zg': 1, 'gu': 1, 'ks': 1, 'rş': 1, 'ln': 1, 'vü': 1, 'üc': 1, 'mr': 1, 'iü': 1, 'ip': 1, 'ğd': 1, 'pu': 1, '̇r': 1, 'yk': 1, 'zz': 1, 'bı': 1, 'çe': 1, 'eg': 1, 'lx': 1, 'gd': 1, 'lg': 1, 'ob': 1, 'yv': 1, 'ek': 1, 'xü': 1, 'cr': 1, 'xi': 1, 'pa': 1, 'hr': 1, 'ry': 2, 'ic': 2, 'tr': 2, 'op': 2, 'kö': 2, 'lt': 2, 'xe': 2, 'ef': 2, 'ia': 2, 'hö': 2, 'km': 2, 'zu': 2, 'dd': 2, 'ym': 2, '̇n': 2, 'nt': 2, 'ms': 2, 'tt': 2, 'le': 2, 'xs': 2, 'mö': 2, 'vi': 2, 'öc': 2, 'lo': 2, 'of': 2, 'ıç': 2, 'go': 2, 'hb': 2, 'ot': 2, 'hm': 2, 'nq': 2, 'mb': 2, 'lü': 2, 'dö': 2, 'hq': 2, 'qi': 2, 'dl': 2, 'rk': 2, 'fl': 2, 'us': 2, 'cü': 2, 'hi': 2, 'pə': 2, 'xo': 2, 'ıs': 2, 'ht': 2, 'me': 2, 'db': 2, 'kk': 2, 'to': 3, 'ev': 3, 'eh': 3, 'ix': 3, 'ğr': 3, 'ök': 3, '̇s': 3, 'öt': 3, 'rq': 3, 'şb': 3, 'bd': 3, 'yd': 3, 'ka': 3, 'ıt': 3, 'öv': 3, 'it': 3, 'kb': 3, 'çm': 3, 'öh': 3, 'ga': 3, 'ts': 3, 'vr': 3, 'əx': 3, 'bö': 3, 'şs': 3, 'kı': 3, 'en': 3, 'rn': 3, 'iç': 4, 'vl': 4, 'kr': 4, 'ön': 4, 'ls': 4, 'vv': 4, 'te': 4, 'ez': 4, 'ak': 4, 'oğ': 4, 'ov': 4, 'vu': 4, 'cu': 4, 'bs': 4, 'ci': 4, 'cı': 4, '̇l': 4, 'md': 4, 'sd': 4, 'tö': 4, 'kd': 5, 'lc': 5, 'em': 5, 'ux': 5, 'ap': 5, 'pı': 5, 'üy': 5, 'əg': 5, 'qı': 5, 'bo': 5, 'uğ': 5, 'ğu': 5, 'eş': 5, 've': 5, 'bl': 5, 'ük': 5, 'sl': 5, 'oc': 6, 'şü': 6, 'əf': 6, 'xl': 6, 'zm': 6, 'mm': 6, 'tü': 6, 'tı': 6, 'mu': 6, 'lb': 6, 'üs': 6, 'av': 6, 'şl': 6, 'xm': 6, 'ğl': 6, 'qs': 6, 'qq': 6, 'əv': 7, 'oş': 7, 'ıd': 7, 'ül': 7, 'nb': 7, 'yl': 7, 'kl': 7, 'nr': 7, 'qd': 7, 'uz': 7, 'ec': 7, 'um': 7, 'şe': 7, 'yü': 7, 'ça': 7, 'əb': 7, 'ns': 7, 'kü': 7, 'çö': 7, 'xş': 8, 'ne': 8, 'ut': 8, 'xt': 8, 'əc': 8, 'zd': 8, 'xu': 8, 'oy': 8, 'ah': 8, 'zı': 8, 'çı': 8, 'ıx': 8, 'öy': 8, 'gi': 8, 'tu': 8, 'nc': 8, 'əç': 8, 'mç': 8, 'əq': 8, 'çi': 9, 'ul': 9, 'az': 9, 'nm': 9, 'nş': 9, 'öm': 9, 'os': 10, 'ub': 10, 'ke': 10, 'i̇': 10, 'üç': 10, 'uq': 10, 'll': 11, 'əh': 11, 'üb': 11, 'sü': 11, 'tl': 11, 'gü': 11, 'fi': 11, 'ço': 11, 'sö': 11, 'zə': 11, 'ıl': 12, 'xd': 12, 'nü': 12, 'əş': 12, 'at': 12, 'çü': 12, 'öl': 12, 'şq': 13, 'şm': 13, 'iy': 13, 'mü': 13, 'za': 13, 'rç': 13, 'ng': 13, 'qə': 14, 'lu': 14, 'he': 14, 'nk': 14, 'üz': 15, 'zl': 15, 'üm': 15, 'be': 15, 'ız': 15, 'ab': 15, 'id': 16, 'ti': 16, 'ıb': 16, 'ud': 16, 'yr': 16, 'yu': 17, 'do': 17, 'xa': 17, 'td': 17, 'şə': 17, 'ld': 17, 'rl': 18, 'rx': 18, 'xı': 18, 'şu': 18, 'so': 18, 'rt': 18, 'zi': 19, 'şi': 19, 'or': 19, 'tm': 19, 'ny': 19, 'ğa': 19, 'şı': 20, 'uy': 20, 'əz': 20, 'ta': 20, 'et': 20, 'ür': 21, 'eç': 21, 'rm': 21, 'rs': 21, 'ım': 21, 'mı': 22, 'zü': 22, 'ru': 22, 'xə': 22, 'cə': 23, 'yo': 23, 'iş': 23, 'ha': 23, 'nu': 23, 'yı': 24, 'as': 24, 'hə': 24, 'üş': 24, 'ye': 24, 'və': 26, 'sı': 26, 'su': 26, 'rb': 26, 'rü': 26, 'ış': 27, 'va': 27, 'bə': 27, 'is': 27, 'ox': 28, 'qo': 29, 'ik': 29, 'uş': 29, 'nl': 30, 'yə': 30, 'er': 30, 'st': 30, 'ib': 31, 'ət': 31, 'kə': 31, 'şd': 31, 'si': 32, 'ax': 33, 'ey': 33, 'ığ': 33, 'ör': 33, 'ge': 34, 'el': 34, 'du': 34, 'ək': 34, 'öz': 34, 'ql': 35, 'əd': 35, 'əs': 36, '  ': 36, 'yi': 36, 'qu': 36, 'şa': 37, 'çə': 37, 'ay': 38, 'gə': 39, 'am': 40, 'sa': 40, 'ad': 40, 'ol': 40, 'iz': 40, 'im': 41, 'li': 42, 'bu': 42, 'lm': 42, 'on': 43, 'əy': 43, 'ni': 44, 'ır': 44, 'ağ': 45, 'rı': 45, 'mi': 45, 'un': 47, 'ur': 47, 'aq': 48, 'ğı': 50, 'dü': 50, 'tə': 51, 'qa': 53, 'aş': 53, 'de': 53, 'ma': 55, 'ed': 55, 'gö': 56, 'əm': 57, 'ac': 59, 'il': 60, 'əl': 60, 'ri': 60, 'dı': 61, 'ki': 62, 'nı': 63, 'rd': 63, 'nd': 66, 'ra': 66, 'ya': 67, 'ün': 68, 'sə': 69, 'na': 70, 'rə': 70, 'ıq': 72, 'nə': 74, 'ca': 79, 'in': 86, 'bi': 90, 'lı': 100, 'ın': 103, 'mə': 105, 'də': 113, 'da': 123, 'lə': 138, 'ir': 139, 'ər': 141, 'di': 144, 'ar': 164, 'an': 170, 'al': 178, 'ən': 181, 'la': 191, 'ba': 195}\n"
     ]
    }
   ],
   "source": [
    "for key in res.copy():\n",
    "    #print(len(key.strip()))\n",
    "    if len(key.strip()) == 1:\n",
    "        del res[key] \n",
    "    \n",
    "#Modified Dictionary\n",
    "print(res)"
   ]
  }
 ],
 "metadata": {
  "kernelspec": {
   "display_name": "Python 3 (ipykernel)",
   "language": "python",
   "name": "python3"
  },
  "language_info": {
   "codemirror_mode": {
    "name": "ipython",
    "version": 3
   },
   "file_extension": ".py",
   "mimetype": "text/x-python",
   "name": "python",
   "nbconvert_exporter": "python",
   "pygments_lexer": "ipython3",
   "version": "3.9.7"
  }
 },
 "nbformat": 4,
 "nbformat_minor": 5
}
