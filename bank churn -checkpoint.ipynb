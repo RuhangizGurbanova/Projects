{
 "cells": [
  {
   "cell_type": "code",
   "execution_count": 144,
   "id": "06456f13",
   "metadata": {},
   "outputs": [],
   "source": [
    "import pandas as pd\n",
    "import numpy as np\n",
    "import matplotlib.pyplot as plt\n",
    "import math as m\n",
    "import sklearn"
   ]
  },
  {
   "cell_type": "code",
   "execution_count": 145,
   "id": "55a4fcf5",
   "metadata": {},
   "outputs": [],
   "source": [
    "df=pd.read_csv(r'Churn_Modelling.csv')"
   ]
  },
  {
   "cell_type": "code",
   "execution_count": 146,
   "id": "7f6348e7",
   "metadata": {},
   "outputs": [
    {
     "data": {
      "text/html": [
       "<div>\n",
       "<style scoped>\n",
       "    .dataframe tbody tr th:only-of-type {\n",
       "        vertical-align: middle;\n",
       "    }\n",
       "\n",
       "    .dataframe tbody tr th {\n",
       "        vertical-align: top;\n",
       "    }\n",
       "\n",
       "    .dataframe thead th {\n",
       "        text-align: right;\n",
       "    }\n",
       "</style>\n",
       "<table border=\"1\" class=\"dataframe\">\n",
       "  <thead>\n",
       "    <tr style=\"text-align: right;\">\n",
       "      <th></th>\n",
       "      <th>RowNumber</th>\n",
       "      <th>CustomerId</th>\n",
       "      <th>Surname</th>\n",
       "      <th>CreditScore</th>\n",
       "      <th>Geography</th>\n",
       "      <th>Gender</th>\n",
       "      <th>Age</th>\n",
       "      <th>Tenure</th>\n",
       "      <th>Balance</th>\n",
       "      <th>NumOfProducts</th>\n",
       "      <th>HasCrCard</th>\n",
       "      <th>IsActiveMember</th>\n",
       "      <th>EstimatedSalary</th>\n",
       "      <th>Exited</th>\n",
       "    </tr>\n",
       "  </thead>\n",
       "  <tbody>\n",
       "    <tr>\n",
       "      <th>0</th>\n",
       "      <td>1</td>\n",
       "      <td>15634602</td>\n",
       "      <td>Hargrave</td>\n",
       "      <td>619</td>\n",
       "      <td>France</td>\n",
       "      <td>Female</td>\n",
       "      <td>42</td>\n",
       "      <td>2</td>\n",
       "      <td>0.00</td>\n",
       "      <td>1</td>\n",
       "      <td>1</td>\n",
       "      <td>1</td>\n",
       "      <td>101348.88</td>\n",
       "      <td>1</td>\n",
       "    </tr>\n",
       "    <tr>\n",
       "      <th>1</th>\n",
       "      <td>2</td>\n",
       "      <td>15647311</td>\n",
       "      <td>Hill</td>\n",
       "      <td>608</td>\n",
       "      <td>Spain</td>\n",
       "      <td>Female</td>\n",
       "      <td>41</td>\n",
       "      <td>1</td>\n",
       "      <td>83807.86</td>\n",
       "      <td>1</td>\n",
       "      <td>0</td>\n",
       "      <td>1</td>\n",
       "      <td>112542.58</td>\n",
       "      <td>0</td>\n",
       "    </tr>\n",
       "    <tr>\n",
       "      <th>2</th>\n",
       "      <td>3</td>\n",
       "      <td>15619304</td>\n",
       "      <td>Onio</td>\n",
       "      <td>502</td>\n",
       "      <td>France</td>\n",
       "      <td>Female</td>\n",
       "      <td>42</td>\n",
       "      <td>8</td>\n",
       "      <td>159660.80</td>\n",
       "      <td>3</td>\n",
       "      <td>1</td>\n",
       "      <td>0</td>\n",
       "      <td>113931.57</td>\n",
       "      <td>1</td>\n",
       "    </tr>\n",
       "    <tr>\n",
       "      <th>3</th>\n",
       "      <td>4</td>\n",
       "      <td>15701354</td>\n",
       "      <td>Boni</td>\n",
       "      <td>699</td>\n",
       "      <td>France</td>\n",
       "      <td>Female</td>\n",
       "      <td>39</td>\n",
       "      <td>1</td>\n",
       "      <td>0.00</td>\n",
       "      <td>2</td>\n",
       "      <td>0</td>\n",
       "      <td>0</td>\n",
       "      <td>93826.63</td>\n",
       "      <td>0</td>\n",
       "    </tr>\n",
       "    <tr>\n",
       "      <th>4</th>\n",
       "      <td>5</td>\n",
       "      <td>15737888</td>\n",
       "      <td>Mitchell</td>\n",
       "      <td>850</td>\n",
       "      <td>Spain</td>\n",
       "      <td>Female</td>\n",
       "      <td>43</td>\n",
       "      <td>2</td>\n",
       "      <td>125510.82</td>\n",
       "      <td>1</td>\n",
       "      <td>1</td>\n",
       "      <td>1</td>\n",
       "      <td>79084.10</td>\n",
       "      <td>0</td>\n",
       "    </tr>\n",
       "    <tr>\n",
       "      <th>...</th>\n",
       "      <td>...</td>\n",
       "      <td>...</td>\n",
       "      <td>...</td>\n",
       "      <td>...</td>\n",
       "      <td>...</td>\n",
       "      <td>...</td>\n",
       "      <td>...</td>\n",
       "      <td>...</td>\n",
       "      <td>...</td>\n",
       "      <td>...</td>\n",
       "      <td>...</td>\n",
       "      <td>...</td>\n",
       "      <td>...</td>\n",
       "      <td>...</td>\n",
       "    </tr>\n",
       "    <tr>\n",
       "      <th>9995</th>\n",
       "      <td>9996</td>\n",
       "      <td>15606229</td>\n",
       "      <td>Obijiaku</td>\n",
       "      <td>771</td>\n",
       "      <td>France</td>\n",
       "      <td>Male</td>\n",
       "      <td>39</td>\n",
       "      <td>5</td>\n",
       "      <td>0.00</td>\n",
       "      <td>2</td>\n",
       "      <td>1</td>\n",
       "      <td>0</td>\n",
       "      <td>96270.64</td>\n",
       "      <td>0</td>\n",
       "    </tr>\n",
       "    <tr>\n",
       "      <th>9996</th>\n",
       "      <td>9997</td>\n",
       "      <td>15569892</td>\n",
       "      <td>Johnstone</td>\n",
       "      <td>516</td>\n",
       "      <td>France</td>\n",
       "      <td>Male</td>\n",
       "      <td>35</td>\n",
       "      <td>10</td>\n",
       "      <td>57369.61</td>\n",
       "      <td>1</td>\n",
       "      <td>1</td>\n",
       "      <td>1</td>\n",
       "      <td>101699.77</td>\n",
       "      <td>0</td>\n",
       "    </tr>\n",
       "    <tr>\n",
       "      <th>9997</th>\n",
       "      <td>9998</td>\n",
       "      <td>15584532</td>\n",
       "      <td>Liu</td>\n",
       "      <td>709</td>\n",
       "      <td>France</td>\n",
       "      <td>Female</td>\n",
       "      <td>36</td>\n",
       "      <td>7</td>\n",
       "      <td>0.00</td>\n",
       "      <td>1</td>\n",
       "      <td>0</td>\n",
       "      <td>1</td>\n",
       "      <td>42085.58</td>\n",
       "      <td>1</td>\n",
       "    </tr>\n",
       "    <tr>\n",
       "      <th>9998</th>\n",
       "      <td>9999</td>\n",
       "      <td>15682355</td>\n",
       "      <td>Sabbatini</td>\n",
       "      <td>772</td>\n",
       "      <td>Germany</td>\n",
       "      <td>Male</td>\n",
       "      <td>42</td>\n",
       "      <td>3</td>\n",
       "      <td>75075.31</td>\n",
       "      <td>2</td>\n",
       "      <td>1</td>\n",
       "      <td>0</td>\n",
       "      <td>92888.52</td>\n",
       "      <td>1</td>\n",
       "    </tr>\n",
       "    <tr>\n",
       "      <th>9999</th>\n",
       "      <td>10000</td>\n",
       "      <td>15628319</td>\n",
       "      <td>Walker</td>\n",
       "      <td>792</td>\n",
       "      <td>France</td>\n",
       "      <td>Female</td>\n",
       "      <td>28</td>\n",
       "      <td>4</td>\n",
       "      <td>130142.79</td>\n",
       "      <td>1</td>\n",
       "      <td>1</td>\n",
       "      <td>0</td>\n",
       "      <td>38190.78</td>\n",
       "      <td>0</td>\n",
       "    </tr>\n",
       "  </tbody>\n",
       "</table>\n",
       "<p>10000 rows × 14 columns</p>\n",
       "</div>"
      ],
      "text/plain": [
       "      RowNumber  CustomerId    Surname  CreditScore Geography  Gender  Age  \\\n",
       "0             1    15634602   Hargrave          619    France  Female   42   \n",
       "1             2    15647311       Hill          608     Spain  Female   41   \n",
       "2             3    15619304       Onio          502    France  Female   42   \n",
       "3             4    15701354       Boni          699    France  Female   39   \n",
       "4             5    15737888   Mitchell          850     Spain  Female   43   \n",
       "...         ...         ...        ...          ...       ...     ...  ...   \n",
       "9995       9996    15606229   Obijiaku          771    France    Male   39   \n",
       "9996       9997    15569892  Johnstone          516    France    Male   35   \n",
       "9997       9998    15584532        Liu          709    France  Female   36   \n",
       "9998       9999    15682355  Sabbatini          772   Germany    Male   42   \n",
       "9999      10000    15628319     Walker          792    France  Female   28   \n",
       "\n",
       "      Tenure    Balance  NumOfProducts  HasCrCard  IsActiveMember  \\\n",
       "0          2       0.00              1          1               1   \n",
       "1          1   83807.86              1          0               1   \n",
       "2          8  159660.80              3          1               0   \n",
       "3          1       0.00              2          0               0   \n",
       "4          2  125510.82              1          1               1   \n",
       "...      ...        ...            ...        ...             ...   \n",
       "9995       5       0.00              2          1               0   \n",
       "9996      10   57369.61              1          1               1   \n",
       "9997       7       0.00              1          0               1   \n",
       "9998       3   75075.31              2          1               0   \n",
       "9999       4  130142.79              1          1               0   \n",
       "\n",
       "      EstimatedSalary  Exited  \n",
       "0           101348.88       1  \n",
       "1           112542.58       0  \n",
       "2           113931.57       1  \n",
       "3            93826.63       0  \n",
       "4            79084.10       0  \n",
       "...               ...     ...  \n",
       "9995         96270.64       0  \n",
       "9996        101699.77       0  \n",
       "9997         42085.58       1  \n",
       "9998         92888.52       1  \n",
       "9999         38190.78       0  \n",
       "\n",
       "[10000 rows x 14 columns]"
      ]
     },
     "execution_count": 146,
     "metadata": {},
     "output_type": "execute_result"
    }
   ],
   "source": [
    "df"
   ]
  },
  {
   "cell_type": "code",
   "execution_count": 147,
   "id": "9bb11dea",
   "metadata": {},
   "outputs": [],
   "source": [
    "df=df.drop(columns=['RowNumber', 'CustomerId', 'Surname' ])"
   ]
  },
  {
   "cell_type": "code",
   "execution_count": 148,
   "id": "acf59624",
   "metadata": {},
   "outputs": [
    {
     "data": {
      "text/plain": [
       "CreditScore        0\n",
       "Geography          0\n",
       "Gender             0\n",
       "Age                0\n",
       "Tenure             0\n",
       "Balance            0\n",
       "NumOfProducts      0\n",
       "HasCrCard          0\n",
       "IsActiveMember     0\n",
       "EstimatedSalary    0\n",
       "Exited             0\n",
       "dtype: int64"
      ]
     },
     "execution_count": 148,
     "metadata": {},
     "output_type": "execute_result"
    }
   ],
   "source": [
    "df.isna().sum()"
   ]
  },
  {
   "cell_type": "code",
   "execution_count": 149,
   "id": "ac5931c3",
   "metadata": {},
   "outputs": [
    {
     "data": {
      "text/plain": [
       "CreditScore          int64\n",
       "Geography           object\n",
       "Gender              object\n",
       "Age                  int64\n",
       "Tenure               int64\n",
       "Balance            float64\n",
       "NumOfProducts        int64\n",
       "HasCrCard            int64\n",
       "IsActiveMember       int64\n",
       "EstimatedSalary    float64\n",
       "Exited               int64\n",
       "dtype: object"
      ]
     },
     "execution_count": 149,
     "metadata": {},
     "output_type": "execute_result"
    }
   ],
   "source": [
    "df.dtypes"
   ]
  },
  {
   "cell_type": "code",
   "execution_count": 150,
   "id": "be9e510b",
   "metadata": {
    "scrolled": true
   },
   "outputs": [
    {
     "name": "stdout",
     "output_type": "stream",
     "text": [
      "-0.027093539754657763 -- CreditScore\n",
      "-0.02411916378979507 -- CreditScore --power\n",
      "-0.028747061268327396 -- CreditScore --sqrt\n",
      "-0.030525279402588687 -- CreditScore --log\n",
      "0.005624280823370229 -- CreditScore --sin\n",
      "0.0015394856892626692 -- CreditScore --cos\n",
      "nan -- CreditScore --sigmoid\n",
      "0.2853230378350676 -- Age\n",
      "0.2578971327188743 -- Age --power\n",
      "0.29222355574231046 -- Age --sqrt\n",
      "0.2940816355002439 -- Age --log\n",
      "-0.0017157556794385605 -- Age --sin\n",
      "-0.001492562279653478 -- Age --cos\n",
      "0.027156879678837304 -- Age --sigmoid\n",
      "-0.014000612253444582 -- Tenure\n",
      "-0.009141437043838248 -- Tenure --power\n",
      "-0.017278235496918242 -- Tenure --sqrt\n",
      "nan -- Tenure --log\n",
      "-0.008957381031317426 -- Tenure --sin\n",
      "-0.005671648371160179 -- Tenure --cos\n",
      "-0.020387574469999704 -- Tenure --sigmoid\n",
      "0.1185327687716338 -- Balance\n",
      "0.10556705685549542 -- Balance --power\n",
      "0.12228431316618169 -- Balance --sqrt\n",
      "nan -- Balance --log\n",
      "-0.009347161775099682 -- Balance --sin\n",
      "-0.06974752624109284 -- Balance --cos\n",
      "0.1223572721847709 -- Balance --sigmoid\n",
      "-0.04781986494944051 -- NumOfProducts\n",
      "0.033555953041539396 -- NumOfProducts --power\n",
      "-0.08014102493819879 -- NumOfProducts --sqrt\n",
      "-0.10605162600690368 -- NumOfProducts --log\n",
      "-0.3303979560103969 -- NumOfProducts --sin\n",
      "0.12355180733848684 -- NumOfProducts --cos\n",
      "-0.12373390626425784 -- NumOfProducts --sigmoid\n",
      "0.012096861026844647 -- EstimatedSalary\n",
      "0.013697381412708756 -- EstimatedSalary --power\n",
      "0.01060405084591074 -- EstimatedSalary --sqrt\n",
      "0.007772246630441404 -- EstimatedSalary --log\n",
      "0.002435004666510702 -- EstimatedSalary --sin\n",
      "0.013139861185852548 -- EstimatedSalary --cos\n",
      "-0.019772635444028627 -- EstimatedSalary --sigmoid\n"
     ]
    },
    {
     "name": "stderr",
     "output_type": "stream",
     "text": [
      "C:\\Users\\Acer\\anaconda3\\lib\\site-packages\\pandas\\core\\arraylike.py:364: RuntimeWarning: divide by zero encountered in log\n",
      "  result = getattr(ufunc, method)(*inputs, **kwargs)\n"
     ]
    }
   ],
   "source": [
    "for i in df.select_dtypes(include=np.number):\n",
    "    if df[i].nunique()!=2:\n",
    "        print(df['Exited'].corr(df[i]), '--', i)\n",
    "        print(df['Exited'].corr(df[i].pow(2)), '--', i, '--power')\n",
    "        print(df['Exited'].corr(np.sqrt(df[i])), '--', i, '--sqrt')\n",
    "        print(df['Exited'].corr(np.log(df[i])), '--', i, '--log')\n",
    "        print(df['Exited'].corr(np.sin(df[i])), '--', i, '--sin')\n",
    "        print(df['Exited'].corr(np.cos(df[i])), '--', i, '--cos')\n",
    "        print(df['Exited'].corr(1/(1+np.exp(-df[i]))), '--', i, '--sigmoid')"
   ]
  },
  {
   "cell_type": "code",
   "execution_count": 151,
   "id": "9ae55d92",
   "metadata": {},
   "outputs": [],
   "source": [
    "#farkli sutunlar icin farkli funksiyalar istifade etmek\n",
    "df['CreditScore']=np.sin(df['CreditScore'])\n",
    "df['Age']=np.log(df['Age'])\n",
    "df['Tenure']=1/(1+np.exp(-df['Tenure']))\n",
    "df['Balance']=1/(1+np.exp(-df['Balance']))\n",
    "df['NumOfProducts']=np.sin(df['NumOfProducts'])\n",
    "df['EstimatedSalary']=1/(1+np.exp(-df['EstimatedSalary']))"
   ]
  },
  {
   "cell_type": "code",
   "execution_count": 152,
   "id": "256da2cb",
   "metadata": {},
   "outputs": [
    {
     "data": {
      "text/html": [
       "<div>\n",
       "<style scoped>\n",
       "    .dataframe tbody tr th:only-of-type {\n",
       "        vertical-align: middle;\n",
       "    }\n",
       "\n",
       "    .dataframe tbody tr th {\n",
       "        vertical-align: top;\n",
       "    }\n",
       "\n",
       "    .dataframe thead th {\n",
       "        text-align: right;\n",
       "    }\n",
       "</style>\n",
       "<table border=\"1\" class=\"dataframe\">\n",
       "  <thead>\n",
       "    <tr style=\"text-align: right;\">\n",
       "      <th></th>\n",
       "      <th>CreditScore</th>\n",
       "      <th>Geography</th>\n",
       "      <th>Gender</th>\n",
       "      <th>Age</th>\n",
       "      <th>Tenure</th>\n",
       "      <th>Balance</th>\n",
       "      <th>NumOfProducts</th>\n",
       "      <th>HasCrCard</th>\n",
       "      <th>IsActiveMember</th>\n",
       "      <th>EstimatedSalary</th>\n",
       "      <th>Exited</th>\n",
       "    </tr>\n",
       "  </thead>\n",
       "  <tbody>\n",
       "    <tr>\n",
       "      <th>0</th>\n",
       "      <td>-0.106047</td>\n",
       "      <td>France</td>\n",
       "      <td>Female</td>\n",
       "      <td>3.737670</td>\n",
       "      <td>0.880797</td>\n",
       "      <td>0.5</td>\n",
       "      <td>0.841471</td>\n",
       "      <td>1</td>\n",
       "      <td>1</td>\n",
       "      <td>1.0</td>\n",
       "      <td>1</td>\n",
       "    </tr>\n",
       "    <tr>\n",
       "      <th>1</th>\n",
       "      <td>-0.994821</td>\n",
       "      <td>Spain</td>\n",
       "      <td>Female</td>\n",
       "      <td>3.713572</td>\n",
       "      <td>0.731059</td>\n",
       "      <td>1.0</td>\n",
       "      <td>0.841471</td>\n",
       "      <td>0</td>\n",
       "      <td>1</td>\n",
       "      <td>1.0</td>\n",
       "      <td>0</td>\n",
       "    </tr>\n",
       "    <tr>\n",
       "      <th>2</th>\n",
       "      <td>-0.609020</td>\n",
       "      <td>France</td>\n",
       "      <td>Female</td>\n",
       "      <td>3.737670</td>\n",
       "      <td>0.999665</td>\n",
       "      <td>1.0</td>\n",
       "      <td>0.141120</td>\n",
       "      <td>1</td>\n",
       "      <td>0</td>\n",
       "      <td>1.0</td>\n",
       "      <td>1</td>\n",
       "    </tr>\n",
       "    <tr>\n",
       "      <th>3</th>\n",
       "      <td>0.999990</td>\n",
       "      <td>France</td>\n",
       "      <td>Female</td>\n",
       "      <td>3.663562</td>\n",
       "      <td>0.731059</td>\n",
       "      <td>0.5</td>\n",
       "      <td>0.909297</td>\n",
       "      <td>0</td>\n",
       "      <td>0</td>\n",
       "      <td>1.0</td>\n",
       "      <td>0</td>\n",
       "    </tr>\n",
       "    <tr>\n",
       "      <th>4</th>\n",
       "      <td>0.980228</td>\n",
       "      <td>Spain</td>\n",
       "      <td>Female</td>\n",
       "      <td>3.761200</td>\n",
       "      <td>0.880797</td>\n",
       "      <td>1.0</td>\n",
       "      <td>0.841471</td>\n",
       "      <td>1</td>\n",
       "      <td>1</td>\n",
       "      <td>1.0</td>\n",
       "      <td>0</td>\n",
       "    </tr>\n",
       "    <tr>\n",
       "      <th>...</th>\n",
       "      <td>...</td>\n",
       "      <td>...</td>\n",
       "      <td>...</td>\n",
       "      <td>...</td>\n",
       "      <td>...</td>\n",
       "      <td>...</td>\n",
       "      <td>...</td>\n",
       "      <td>...</td>\n",
       "      <td>...</td>\n",
       "      <td>...</td>\n",
       "      <td>...</td>\n",
       "    </tr>\n",
       "    <tr>\n",
       "      <th>9995</th>\n",
       "      <td>-0.966133</td>\n",
       "      <td>France</td>\n",
       "      <td>Male</td>\n",
       "      <td>3.663562</td>\n",
       "      <td>0.993307</td>\n",
       "      <td>0.5</td>\n",
       "      <td>0.909297</td>\n",
       "      <td>1</td>\n",
       "      <td>0</td>\n",
       "      <td>1.0</td>\n",
       "      <td>0</td>\n",
       "    </tr>\n",
       "    <tr>\n",
       "      <th>9996</th>\n",
       "      <td>0.702429</td>\n",
       "      <td>France</td>\n",
       "      <td>Male</td>\n",
       "      <td>3.555348</td>\n",
       "      <td>0.999955</td>\n",
       "      <td>1.0</td>\n",
       "      <td>0.841471</td>\n",
       "      <td>1</td>\n",
       "      <td>1</td>\n",
       "      <td>1.0</td>\n",
       "      <td>0</td>\n",
       "    </tr>\n",
       "    <tr>\n",
       "      <th>9997</th>\n",
       "      <td>-0.841438</td>\n",
       "      <td>France</td>\n",
       "      <td>Female</td>\n",
       "      <td>3.583519</td>\n",
       "      <td>0.999089</td>\n",
       "      <td>0.5</td>\n",
       "      <td>0.841471</td>\n",
       "      <td>0</td>\n",
       "      <td>1</td>\n",
       "      <td>1.0</td>\n",
       "      <td>1</td>\n",
       "    </tr>\n",
       "    <tr>\n",
       "      <th>9998</th>\n",
       "      <td>-0.739140</td>\n",
       "      <td>Germany</td>\n",
       "      <td>Male</td>\n",
       "      <td>3.737670</td>\n",
       "      <td>0.952574</td>\n",
       "      <td>1.0</td>\n",
       "      <td>0.909297</td>\n",
       "      <td>1</td>\n",
       "      <td>0</td>\n",
       "      <td>1.0</td>\n",
       "      <td>1</td>\n",
       "    </tr>\n",
       "    <tr>\n",
       "      <th>9999</th>\n",
       "      <td>0.313286</td>\n",
       "      <td>France</td>\n",
       "      <td>Female</td>\n",
       "      <td>3.332205</td>\n",
       "      <td>0.982014</td>\n",
       "      <td>1.0</td>\n",
       "      <td>0.841471</td>\n",
       "      <td>1</td>\n",
       "      <td>0</td>\n",
       "      <td>1.0</td>\n",
       "      <td>0</td>\n",
       "    </tr>\n",
       "  </tbody>\n",
       "</table>\n",
       "<p>10000 rows × 11 columns</p>\n",
       "</div>"
      ],
      "text/plain": [
       "      CreditScore Geography  Gender       Age    Tenure  Balance  \\\n",
       "0       -0.106047    France  Female  3.737670  0.880797      0.5   \n",
       "1       -0.994821     Spain  Female  3.713572  0.731059      1.0   \n",
       "2       -0.609020    France  Female  3.737670  0.999665      1.0   \n",
       "3        0.999990    France  Female  3.663562  0.731059      0.5   \n",
       "4        0.980228     Spain  Female  3.761200  0.880797      1.0   \n",
       "...           ...       ...     ...       ...       ...      ...   \n",
       "9995    -0.966133    France    Male  3.663562  0.993307      0.5   \n",
       "9996     0.702429    France    Male  3.555348  0.999955      1.0   \n",
       "9997    -0.841438    France  Female  3.583519  0.999089      0.5   \n",
       "9998    -0.739140   Germany    Male  3.737670  0.952574      1.0   \n",
       "9999     0.313286    France  Female  3.332205  0.982014      1.0   \n",
       "\n",
       "      NumOfProducts  HasCrCard  IsActiveMember  EstimatedSalary  Exited  \n",
       "0          0.841471          1               1              1.0       1  \n",
       "1          0.841471          0               1              1.0       0  \n",
       "2          0.141120          1               0              1.0       1  \n",
       "3          0.909297          0               0              1.0       0  \n",
       "4          0.841471          1               1              1.0       0  \n",
       "...             ...        ...             ...              ...     ...  \n",
       "9995       0.909297          1               0              1.0       0  \n",
       "9996       0.841471          1               1              1.0       0  \n",
       "9997       0.841471          0               1              1.0       1  \n",
       "9998       0.909297          1               0              1.0       1  \n",
       "9999       0.841471          1               0              1.0       0  \n",
       "\n",
       "[10000 rows x 11 columns]"
      ]
     },
     "execution_count": 152,
     "metadata": {},
     "output_type": "execute_result"
    }
   ],
   "source": [
    "df"
   ]
  },
  {
   "cell_type": "code",
   "execution_count": 153,
   "id": "310fdb43",
   "metadata": {},
   "outputs": [],
   "source": [
    "def getTarget(df, column, target):\n",
    "    vmap = {}\n",
    "    for c in df[column].unique():\n",
    "        vmap[c] =  df[ df[column] == c ][ target ].mean()\n",
    "\n",
    "    df[ column ] = df[column].map( vmap )\n",
    "\n",
    "    return df"
   ]
  },
  {
   "cell_type": "code",
   "execution_count": 154,
   "id": "b69833c0",
   "metadata": {
    "scrolled": true
   },
   "outputs": [
    {
     "data": {
      "text/html": [
       "<div>\n",
       "<style scoped>\n",
       "    .dataframe tbody tr th:only-of-type {\n",
       "        vertical-align: middle;\n",
       "    }\n",
       "\n",
       "    .dataframe tbody tr th {\n",
       "        vertical-align: top;\n",
       "    }\n",
       "\n",
       "    .dataframe thead th {\n",
       "        text-align: right;\n",
       "    }\n",
       "</style>\n",
       "<table border=\"1\" class=\"dataframe\">\n",
       "  <thead>\n",
       "    <tr style=\"text-align: right;\">\n",
       "      <th></th>\n",
       "      <th>CreditScore</th>\n",
       "      <th>Geography</th>\n",
       "      <th>Gender</th>\n",
       "      <th>Age</th>\n",
       "      <th>Tenure</th>\n",
       "      <th>Balance</th>\n",
       "      <th>NumOfProducts</th>\n",
       "      <th>HasCrCard</th>\n",
       "      <th>IsActiveMember</th>\n",
       "      <th>EstimatedSalary</th>\n",
       "      <th>Exited</th>\n",
       "    </tr>\n",
       "  </thead>\n",
       "  <tbody>\n",
       "    <tr>\n",
       "      <th>0</th>\n",
       "      <td>-0.106047</td>\n",
       "      <td>0.161548</td>\n",
       "      <td>Female</td>\n",
       "      <td>3.737670</td>\n",
       "      <td>0.880797</td>\n",
       "      <td>0.5</td>\n",
       "      <td>0.841471</td>\n",
       "      <td>1</td>\n",
       "      <td>1</td>\n",
       "      <td>1.0</td>\n",
       "      <td>1</td>\n",
       "    </tr>\n",
       "    <tr>\n",
       "      <th>1</th>\n",
       "      <td>-0.994821</td>\n",
       "      <td>0.166734</td>\n",
       "      <td>Female</td>\n",
       "      <td>3.713572</td>\n",
       "      <td>0.731059</td>\n",
       "      <td>1.0</td>\n",
       "      <td>0.841471</td>\n",
       "      <td>0</td>\n",
       "      <td>1</td>\n",
       "      <td>1.0</td>\n",
       "      <td>0</td>\n",
       "    </tr>\n",
       "    <tr>\n",
       "      <th>2</th>\n",
       "      <td>-0.609020</td>\n",
       "      <td>0.161548</td>\n",
       "      <td>Female</td>\n",
       "      <td>3.737670</td>\n",
       "      <td>0.999665</td>\n",
       "      <td>1.0</td>\n",
       "      <td>0.141120</td>\n",
       "      <td>1</td>\n",
       "      <td>0</td>\n",
       "      <td>1.0</td>\n",
       "      <td>1</td>\n",
       "    </tr>\n",
       "    <tr>\n",
       "      <th>3</th>\n",
       "      <td>0.999990</td>\n",
       "      <td>0.161548</td>\n",
       "      <td>Female</td>\n",
       "      <td>3.663562</td>\n",
       "      <td>0.731059</td>\n",
       "      <td>0.5</td>\n",
       "      <td>0.909297</td>\n",
       "      <td>0</td>\n",
       "      <td>0</td>\n",
       "      <td>1.0</td>\n",
       "      <td>0</td>\n",
       "    </tr>\n",
       "    <tr>\n",
       "      <th>4</th>\n",
       "      <td>0.980228</td>\n",
       "      <td>0.166734</td>\n",
       "      <td>Female</td>\n",
       "      <td>3.761200</td>\n",
       "      <td>0.880797</td>\n",
       "      <td>1.0</td>\n",
       "      <td>0.841471</td>\n",
       "      <td>1</td>\n",
       "      <td>1</td>\n",
       "      <td>1.0</td>\n",
       "      <td>0</td>\n",
       "    </tr>\n",
       "    <tr>\n",
       "      <th>...</th>\n",
       "      <td>...</td>\n",
       "      <td>...</td>\n",
       "      <td>...</td>\n",
       "      <td>...</td>\n",
       "      <td>...</td>\n",
       "      <td>...</td>\n",
       "      <td>...</td>\n",
       "      <td>...</td>\n",
       "      <td>...</td>\n",
       "      <td>...</td>\n",
       "      <td>...</td>\n",
       "    </tr>\n",
       "    <tr>\n",
       "      <th>9995</th>\n",
       "      <td>-0.966133</td>\n",
       "      <td>0.161548</td>\n",
       "      <td>Male</td>\n",
       "      <td>3.663562</td>\n",
       "      <td>0.993307</td>\n",
       "      <td>0.5</td>\n",
       "      <td>0.909297</td>\n",
       "      <td>1</td>\n",
       "      <td>0</td>\n",
       "      <td>1.0</td>\n",
       "      <td>0</td>\n",
       "    </tr>\n",
       "    <tr>\n",
       "      <th>9996</th>\n",
       "      <td>0.702429</td>\n",
       "      <td>0.161548</td>\n",
       "      <td>Male</td>\n",
       "      <td>3.555348</td>\n",
       "      <td>0.999955</td>\n",
       "      <td>1.0</td>\n",
       "      <td>0.841471</td>\n",
       "      <td>1</td>\n",
       "      <td>1</td>\n",
       "      <td>1.0</td>\n",
       "      <td>0</td>\n",
       "    </tr>\n",
       "    <tr>\n",
       "      <th>9997</th>\n",
       "      <td>-0.841438</td>\n",
       "      <td>0.161548</td>\n",
       "      <td>Female</td>\n",
       "      <td>3.583519</td>\n",
       "      <td>0.999089</td>\n",
       "      <td>0.5</td>\n",
       "      <td>0.841471</td>\n",
       "      <td>0</td>\n",
       "      <td>1</td>\n",
       "      <td>1.0</td>\n",
       "      <td>1</td>\n",
       "    </tr>\n",
       "    <tr>\n",
       "      <th>9998</th>\n",
       "      <td>-0.739140</td>\n",
       "      <td>0.324432</td>\n",
       "      <td>Male</td>\n",
       "      <td>3.737670</td>\n",
       "      <td>0.952574</td>\n",
       "      <td>1.0</td>\n",
       "      <td>0.909297</td>\n",
       "      <td>1</td>\n",
       "      <td>0</td>\n",
       "      <td>1.0</td>\n",
       "      <td>1</td>\n",
       "    </tr>\n",
       "    <tr>\n",
       "      <th>9999</th>\n",
       "      <td>0.313286</td>\n",
       "      <td>0.161548</td>\n",
       "      <td>Female</td>\n",
       "      <td>3.332205</td>\n",
       "      <td>0.982014</td>\n",
       "      <td>1.0</td>\n",
       "      <td>0.841471</td>\n",
       "      <td>1</td>\n",
       "      <td>0</td>\n",
       "      <td>1.0</td>\n",
       "      <td>0</td>\n",
       "    </tr>\n",
       "  </tbody>\n",
       "</table>\n",
       "<p>10000 rows × 11 columns</p>\n",
       "</div>"
      ],
      "text/plain": [
       "      CreditScore  Geography  Gender       Age    Tenure  Balance  \\\n",
       "0       -0.106047   0.161548  Female  3.737670  0.880797      0.5   \n",
       "1       -0.994821   0.166734  Female  3.713572  0.731059      1.0   \n",
       "2       -0.609020   0.161548  Female  3.737670  0.999665      1.0   \n",
       "3        0.999990   0.161548  Female  3.663562  0.731059      0.5   \n",
       "4        0.980228   0.166734  Female  3.761200  0.880797      1.0   \n",
       "...           ...        ...     ...       ...       ...      ...   \n",
       "9995    -0.966133   0.161548    Male  3.663562  0.993307      0.5   \n",
       "9996     0.702429   0.161548    Male  3.555348  0.999955      1.0   \n",
       "9997    -0.841438   0.161548  Female  3.583519  0.999089      0.5   \n",
       "9998    -0.739140   0.324432    Male  3.737670  0.952574      1.0   \n",
       "9999     0.313286   0.161548  Female  3.332205  0.982014      1.0   \n",
       "\n",
       "      NumOfProducts  HasCrCard  IsActiveMember  EstimatedSalary  Exited  \n",
       "0          0.841471          1               1              1.0       1  \n",
       "1          0.841471          0               1              1.0       0  \n",
       "2          0.141120          1               0              1.0       1  \n",
       "3          0.909297          0               0              1.0       0  \n",
       "4          0.841471          1               1              1.0       0  \n",
       "...             ...        ...             ...              ...     ...  \n",
       "9995       0.909297          1               0              1.0       0  \n",
       "9996       0.841471          1               1              1.0       0  \n",
       "9997       0.841471          0               1              1.0       1  \n",
       "9998       0.909297          1               0              1.0       1  \n",
       "9999       0.841471          1               0              1.0       0  \n",
       "\n",
       "[10000 rows x 11 columns]"
      ]
     },
     "execution_count": 154,
     "metadata": {},
     "output_type": "execute_result"
    }
   ],
   "source": [
    "getTarget(df, 'Geography', 'Exited')"
   ]
  },
  {
   "cell_type": "code",
   "execution_count": 155,
   "id": "4668703e",
   "metadata": {},
   "outputs": [],
   "source": [
    "df['Gender']=df['Gender'].map({'Female':1, 'Male':0})"
   ]
  },
  {
   "cell_type": "code",
   "execution_count": 156,
   "id": "e4cbf176",
   "metadata": {
    "scrolled": true
   },
   "outputs": [
    {
     "name": "stdout",
     "output_type": "stream",
     "text": [
      "0.005624280823370229 -- CreditScore\n",
      "0.17356708697916923 -- Geography\n",
      "0.10651248767347446 -- Gender\n",
      "0.2940816355002439 -- Age\n",
      "-0.020387574469999704 -- Tenure\n",
      "0.1223572721847709 -- Balance\n",
      "-0.3303979560103969 -- NumOfProducts\n",
      "-0.007137765603039061 -- HasCrCard\n",
      "-0.1561282781889051 -- IsActiveMember\n",
      "-0.019772635444028627 -- EstimatedSalary\n",
      "0.9999999999999996 -- Exited\n"
     ]
    }
   ],
   "source": [
    "for i in df.select_dtypes(include=np.number):\n",
    "    print(df['Exited'].corr(df[i]), '--', i)"
   ]
  },
  {
   "cell_type": "code",
   "execution_count": 157,
   "id": "c99f8fc9",
   "metadata": {},
   "outputs": [
    {
     "data": {
      "text/html": [
       "<div>\n",
       "<style scoped>\n",
       "    .dataframe tbody tr th:only-of-type {\n",
       "        vertical-align: middle;\n",
       "    }\n",
       "\n",
       "    .dataframe tbody tr th {\n",
       "        vertical-align: top;\n",
       "    }\n",
       "\n",
       "    .dataframe thead th {\n",
       "        text-align: right;\n",
       "    }\n",
       "</style>\n",
       "<table border=\"1\" class=\"dataframe\">\n",
       "  <thead>\n",
       "    <tr style=\"text-align: right;\">\n",
       "      <th></th>\n",
       "      <th>HasCrCard</th>\n",
       "      <th>CreditScore</th>\n",
       "      <th>EstimatedSalary</th>\n",
       "      <th>Tenure</th>\n",
       "    </tr>\n",
       "    <tr>\n",
       "      <th>Exited</th>\n",
       "      <th></th>\n",
       "      <th></th>\n",
       "      <th></th>\n",
       "      <th></th>\n",
       "    </tr>\n",
       "  </thead>\n",
       "  <tbody>\n",
       "    <tr>\n",
       "      <th>0</th>\n",
       "      <td>0.707146</td>\n",
       "      <td>0.028746</td>\n",
       "      <td>1.0</td>\n",
       "      <td>0.932656</td>\n",
       "    </tr>\n",
       "    <tr>\n",
       "      <th>1</th>\n",
       "      <td>0.699067</td>\n",
       "      <td>0.038746</td>\n",
       "      <td>1.0</td>\n",
       "      <td>0.926486</td>\n",
       "    </tr>\n",
       "  </tbody>\n",
       "</table>\n",
       "</div>"
      ],
      "text/plain": [
       "        HasCrCard  CreditScore  EstimatedSalary    Tenure\n",
       "Exited                                                   \n",
       "0        0.707146     0.028746              1.0  0.932656\n",
       "1        0.699067     0.038746              1.0  0.926486"
      ]
     },
     "execution_count": 157,
     "metadata": {},
     "output_type": "execute_result"
    }
   ],
   "source": [
    "#bunlar terget col ile corr deyeri 0-a yaxin olanlardir, hansi ki mean deyerleri demek olar ki eynidir\n",
    "#ona gore sil onlari\n",
    "df.groupby('Exited').agg({'HasCrCard':'mean', 'CreditScore':'mean', 'EstimatedSalary':'mean', 'Tenure':'mean'})"
   ]
  },
  {
   "cell_type": "code",
   "execution_count": 158,
   "id": "b63e4dd4",
   "metadata": {},
   "outputs": [],
   "source": [
    "df=df.drop(columns=['HasCrCard', 'EstimatedSalary', 'Tenure', 'CreditScore'])"
   ]
  },
  {
   "cell_type": "code",
   "execution_count": 159,
   "id": "31ed8575",
   "metadata": {},
   "outputs": [
    {
     "data": {
      "text/html": [
       "<div>\n",
       "<style scoped>\n",
       "    .dataframe tbody tr th:only-of-type {\n",
       "        vertical-align: middle;\n",
       "    }\n",
       "\n",
       "    .dataframe tbody tr th {\n",
       "        vertical-align: top;\n",
       "    }\n",
       "\n",
       "    .dataframe thead th {\n",
       "        text-align: right;\n",
       "    }\n",
       "</style>\n",
       "<table border=\"1\" class=\"dataframe\">\n",
       "  <thead>\n",
       "    <tr style=\"text-align: right;\">\n",
       "      <th></th>\n",
       "      <th>Geography</th>\n",
       "      <th>Gender</th>\n",
       "      <th>Age</th>\n",
       "      <th>Balance</th>\n",
       "      <th>NumOfProducts</th>\n",
       "      <th>IsActiveMember</th>\n",
       "      <th>Exited</th>\n",
       "    </tr>\n",
       "  </thead>\n",
       "  <tbody>\n",
       "    <tr>\n",
       "      <th>Geography</th>\n",
       "      <td>1.000000</td>\n",
       "      <td>0.024338</td>\n",
       "      <td>0.049787</td>\n",
       "      <td>0.435410</td>\n",
       "      <td>-0.055879</td>\n",
       "      <td>-0.020158</td>\n",
       "      <td>0.173567</td>\n",
       "    </tr>\n",
       "    <tr>\n",
       "      <th>Gender</th>\n",
       "      <td>0.024338</td>\n",
       "      <td>1.000000</td>\n",
       "      <td>0.027395</td>\n",
       "      <td>-0.004513</td>\n",
       "      <td>-0.044407</td>\n",
       "      <td>-0.022544</td>\n",
       "      <td>0.106512</td>\n",
       "    </tr>\n",
       "    <tr>\n",
       "      <th>Age</th>\n",
       "      <td>0.049787</td>\n",
       "      <td>0.027395</td>\n",
       "      <td>1.000000</td>\n",
       "      <td>0.037579</td>\n",
       "      <td>-0.102449</td>\n",
       "      <td>0.064891</td>\n",
       "      <td>0.294082</td>\n",
       "    </tr>\n",
       "    <tr>\n",
       "      <th>Balance</th>\n",
       "      <td>0.435410</td>\n",
       "      <td>-0.004513</td>\n",
       "      <td>0.037579</td>\n",
       "      <td>1.000000</td>\n",
       "      <td>-0.089173</td>\n",
       "      <td>-0.004116</td>\n",
       "      <td>0.122357</td>\n",
       "    </tr>\n",
       "    <tr>\n",
       "      <th>NumOfProducts</th>\n",
       "      <td>-0.055879</td>\n",
       "      <td>-0.044407</td>\n",
       "      <td>-0.102449</td>\n",
       "      <td>-0.089173</td>\n",
       "      <td>1.000000</td>\n",
       "      <td>0.029120</td>\n",
       "      <td>-0.330398</td>\n",
       "    </tr>\n",
       "    <tr>\n",
       "      <th>IsActiveMember</th>\n",
       "      <td>-0.020158</td>\n",
       "      <td>-0.022544</td>\n",
       "      <td>0.064891</td>\n",
       "      <td>-0.004116</td>\n",
       "      <td>0.029120</td>\n",
       "      <td>1.000000</td>\n",
       "      <td>-0.156128</td>\n",
       "    </tr>\n",
       "    <tr>\n",
       "      <th>Exited</th>\n",
       "      <td>0.173567</td>\n",
       "      <td>0.106512</td>\n",
       "      <td>0.294082</td>\n",
       "      <td>0.122357</td>\n",
       "      <td>-0.330398</td>\n",
       "      <td>-0.156128</td>\n",
       "      <td>1.000000</td>\n",
       "    </tr>\n",
       "  </tbody>\n",
       "</table>\n",
       "</div>"
      ],
      "text/plain": [
       "                Geography    Gender       Age   Balance  NumOfProducts  \\\n",
       "Geography        1.000000  0.024338  0.049787  0.435410      -0.055879   \n",
       "Gender           0.024338  1.000000  0.027395 -0.004513      -0.044407   \n",
       "Age              0.049787  0.027395  1.000000  0.037579      -0.102449   \n",
       "Balance          0.435410 -0.004513  0.037579  1.000000      -0.089173   \n",
       "NumOfProducts   -0.055879 -0.044407 -0.102449 -0.089173       1.000000   \n",
       "IsActiveMember  -0.020158 -0.022544  0.064891 -0.004116       0.029120   \n",
       "Exited           0.173567  0.106512  0.294082  0.122357      -0.330398   \n",
       "\n",
       "                IsActiveMember    Exited  \n",
       "Geography            -0.020158  0.173567  \n",
       "Gender               -0.022544  0.106512  \n",
       "Age                   0.064891  0.294082  \n",
       "Balance              -0.004116  0.122357  \n",
       "NumOfProducts         0.029120 -0.330398  \n",
       "IsActiveMember        1.000000 -0.156128  \n",
       "Exited               -0.156128  1.000000  "
      ]
     },
     "execution_count": 159,
     "metadata": {},
     "output_type": "execute_result"
    }
   ],
   "source": [
    "df.corr()"
   ]
  },
  {
   "cell_type": "code",
   "execution_count": 160,
   "id": "66a30a40",
   "metadata": {},
   "outputs": [],
   "source": [
    "x=df.loc[:, df.columns!='Exited'].values"
   ]
  },
  {
   "cell_type": "code",
   "execution_count": 161,
   "id": "9e60fdd9",
   "metadata": {},
   "outputs": [],
   "source": [
    "y=df['Exited'].values"
   ]
  },
  {
   "cell_type": "code",
   "execution_count": 162,
   "id": "396c1467",
   "metadata": {},
   "outputs": [],
   "source": [
    "from sklearn.model_selection import train_test_split\n",
    "x_train, x_test, y_train, y_test=train_test_split(x, y, test_size=0.2, random_state=10)"
   ]
  },
  {
   "cell_type": "code",
   "execution_count": 163,
   "id": "d33fa568",
   "metadata": {},
   "outputs": [],
   "source": [
    "from sklearn.ensemble import RandomForestClassifier"
   ]
  },
  {
   "cell_type": "code",
   "execution_count": 164,
   "id": "c4c34a33",
   "metadata": {},
   "outputs": [],
   "source": [
    "prediction=RandomForestClassifier()"
   ]
  },
  {
   "cell_type": "code",
   "execution_count": 165,
   "id": "930e6526",
   "metadata": {},
   "outputs": [
    {
     "data": {
      "text/plain": [
       "RandomForestClassifier()"
      ]
     },
     "execution_count": 165,
     "metadata": {},
     "output_type": "execute_result"
    }
   ],
   "source": [
    "prediction.fit(x_train, y_train)"
   ]
  },
  {
   "cell_type": "code",
   "execution_count": 166,
   "id": "602da8b1",
   "metadata": {},
   "outputs": [],
   "source": [
    "result=prediction.predict(x_test)"
   ]
  },
  {
   "cell_type": "code",
   "execution_count": 167,
   "id": "421282c8",
   "metadata": {},
   "outputs": [
    {
     "data": {
      "text/plain": [
       "array([1, 0, 0, 0, 1], dtype=int64)"
      ]
     },
     "execution_count": 167,
     "metadata": {},
     "output_type": "execute_result"
    }
   ],
   "source": [
    "result[0:5]"
   ]
  },
  {
   "cell_type": "code",
   "execution_count": 168,
   "id": "5e4fb101",
   "metadata": {},
   "outputs": [],
   "source": [
    "from sklearn.metrics import confusion_matrix, accuracy_score, f1_score, matthews_corrcoef"
   ]
  },
  {
   "cell_type": "code",
   "execution_count": 169,
   "id": "4221aa6c",
   "metadata": {},
   "outputs": [],
   "source": [
    "score1=confusion_matrix(y_test, result)\n",
    "\n",
    "score2=accuracy_score(y_test, result)\n",
    "\n",
    "score3=f1_score(y_test, result)\n",
    "\n",
    "score4=matthews_corrcoef(y_test, result)"
   ]
  },
  {
   "cell_type": "code",
   "execution_count": 170,
   "id": "7c88db1a",
   "metadata": {},
   "outputs": [
    {
     "data": {
      "text/plain": [
       "array([[1476,  102],\n",
       "       [ 221,  201]], dtype=int64)"
      ]
     },
     "execution_count": 170,
     "metadata": {},
     "output_type": "execute_result"
    }
   ],
   "source": [
    "score1"
   ]
  },
  {
   "cell_type": "code",
   "execution_count": 171,
   "id": "0fd1db40",
   "metadata": {},
   "outputs": [
    {
     "data": {
      "text/plain": [
       "0.8385"
      ]
     },
     "execution_count": 171,
     "metadata": {},
     "output_type": "execute_result"
    }
   ],
   "source": [
    "score2"
   ]
  },
  {
   "cell_type": "code",
   "execution_count": 172,
   "id": "59c20b40",
   "metadata": {},
   "outputs": [
    {
     "data": {
      "text/plain": [
       "0.5544827586206896"
      ]
     },
     "execution_count": 172,
     "metadata": {},
     "output_type": "execute_result"
    }
   ],
   "source": [
    "score3"
   ]
  },
  {
   "cell_type": "code",
   "execution_count": 173,
   "id": "4b0e3e8c",
   "metadata": {},
   "outputs": [
    {
     "data": {
      "text/plain": [
       "0.4684798788862786"
      ]
     },
     "execution_count": 173,
     "metadata": {},
     "output_type": "execute_result"
    }
   ],
   "source": [
    "score4"
   ]
  },
  {
   "cell_type": "code",
   "execution_count": 174,
   "id": "96f4635e",
   "metadata": {},
   "outputs": [
    {
     "data": {
      "text/plain": [
       "0    7963\n",
       "1    2037\n",
       "Name: Exited, dtype: int64"
      ]
     },
     "execution_count": 174,
     "metadata": {},
     "output_type": "execute_result"
    }
   ],
   "source": [
    "df['Exited'].value_counts()"
   ]
  },
  {
   "cell_type": "code",
   "execution_count": 175,
   "id": "b729a9d3",
   "metadata": {},
   "outputs": [],
   "source": [
    "#create balanced data"
   ]
  },
  {
   "cell_type": "code",
   "execution_count": 176,
   "id": "b4e01ce7",
   "metadata": {},
   "outputs": [],
   "source": [
    "ones=df[df['Exited']==1]\n",
    "zeros=df[df['Exited']==0].sample(frac=0.3)"
   ]
  },
  {
   "cell_type": "code",
   "execution_count": 177,
   "id": "e23879a2",
   "metadata": {},
   "outputs": [],
   "source": [
    "df=pd.concat([ones, zeros]).sample(frac=1.0)"
   ]
  },
  {
   "cell_type": "code",
   "execution_count": 178,
   "id": "392a3cc2",
   "metadata": {},
   "outputs": [
    {
     "data": {
      "text/plain": [
       "0    2389\n",
       "1    2037\n",
       "Name: Exited, dtype: int64"
      ]
     },
     "execution_count": 178,
     "metadata": {},
     "output_type": "execute_result"
    }
   ],
   "source": [
    "df['Exited'].value_counts()"
   ]
  },
  {
   "cell_type": "code",
   "execution_count": 179,
   "id": "9596a0bd",
   "metadata": {},
   "outputs": [],
   "source": [
    "x=df.loc[:, df.columns!='Exited'].values\n",
    "\n",
    "y=df['Exited'].values\n",
    "\n",
    "x_train, x_test, y_train, y_test=train_test_split(x, y, test_size=0.2, random_state=10)\n",
    "\n",
    "prediction=RandomForestClassifier()\n",
    "\n",
    "clf=prediction.fit(x_train, y_train)\n",
    "\n",
    "result=prediction.predict(x_test)\n",
    "\n",
    "from sklearn.metrics import confusion_matrix, accuracy_score, f1_score, matthews_corrcoef"
   ]
  },
  {
   "cell_type": "code",
   "execution_count": 180,
   "id": "7c04e8a4",
   "metadata": {},
   "outputs": [],
   "source": [
    "score1=confusion_matrix(y_test, result)\n",
    "\n",
    "score2=accuracy_score(y_test, result)\n",
    "\n",
    "score3=f1_score(y_test, result)\n",
    "\n",
    "score4=matthews_corrcoef(y_test, result)"
   ]
  },
  {
   "cell_type": "code",
   "execution_count": 181,
   "id": "54c348d6",
   "metadata": {},
   "outputs": [
    {
     "data": {
      "text/plain": [
       "array([[378, 108],\n",
       "       [131, 269]], dtype=int64)"
      ]
     },
     "execution_count": 181,
     "metadata": {},
     "output_type": "execute_result"
    }
   ],
   "source": [
    "score1"
   ]
  },
  {
   "cell_type": "code",
   "execution_count": 182,
   "id": "89bb11df",
   "metadata": {},
   "outputs": [
    {
     "data": {
      "text/plain": [
       "0.7302483069977427"
      ]
     },
     "execution_count": 182,
     "metadata": {},
     "output_type": "execute_result"
    }
   ],
   "source": [
    "score2"
   ]
  },
  {
   "cell_type": "code",
   "execution_count": 183,
   "id": "8717a87f",
   "metadata": {},
   "outputs": [
    {
     "data": {
      "text/plain": [
       "0.6924066924066924"
      ]
     },
     "execution_count": 183,
     "metadata": {},
     "output_type": "execute_result"
    }
   ],
   "source": [
    "score3"
   ]
  },
  {
   "cell_type": "code",
   "execution_count": 184,
   "id": "ff31323d",
   "metadata": {
    "scrolled": true
   },
   "outputs": [
    {
     "data": {
      "text/plain": [
       "0.45320957650030674"
      ]
     },
     "execution_count": 184,
     "metadata": {},
     "output_type": "execute_result"
    }
   ],
   "source": [
    "score4"
   ]
  },
  {
   "cell_type": "markdown",
   "id": "07c98fcc",
   "metadata": {},
   "source": [
    "#### cross validation"
   ]
  },
  {
   "cell_type": "code",
   "execution_count": 185,
   "id": "2115e6b0",
   "metadata": {},
   "outputs": [
    {
     "data": {
      "text/plain": [
       "array([0.75846501, 0.76045198, 0.78757062, 0.74576271, 0.75706215])"
      ]
     },
     "execution_count": 185,
     "metadata": {},
     "output_type": "execute_result"
    }
   ],
   "source": [
    "from sklearn import svm\n",
    "from sklearn.model_selection import cross_val_score\n",
    "clf = svm.SVC(kernel='linear', C=1, random_state=42)\n",
    "scores = cross_val_score(clf, x, y, cv=5)\n",
    "scores"
   ]
  },
  {
   "cell_type": "code",
   "execution_count": 186,
   "id": "0d9d993c",
   "metadata": {},
   "outputs": [
    {
     "name": "stdout",
     "output_type": "stream",
     "text": [
      "(0.76186249378276, 0.013832473249467118)\n"
     ]
    }
   ],
   "source": [
    "print((scores.mean(), scores.std()))\n"
   ]
  },
  {
   "cell_type": "code",
   "execution_count": 187,
   "id": "6bdee92c",
   "metadata": {},
   "outputs": [
    {
     "data": {
      "text/plain": [
       "array([0.75594674, 0.75676222, 0.78519861, 0.74177338, 0.75170456])"
      ]
     },
     "execution_count": 187,
     "metadata": {},
     "output_type": "execute_result"
    }
   ],
   "source": [
    "from sklearn import metrics\n",
    "scores = cross_val_score(\n",
    "clf, x, y, cv=5, scoring='f1_macro')\n",
    "scores"
   ]
  },
  {
   "cell_type": "code",
   "execution_count": 188,
   "id": "f04cad4e",
   "metadata": {
    "scrolled": false
   },
   "outputs": [
    {
     "name": "stdout",
     "output_type": "stream",
     "text": [
      "(0.7582771047296346, 0.014478011789443685)\n"
     ]
    }
   ],
   "source": [
    "print((scores.mean(), scores.std()))"
   ]
  },
  {
   "cell_type": "markdown",
   "id": "c3a11eb3",
   "metadata": {},
   "source": [
    "#### Train test validation split"
   ]
  },
  {
   "cell_type": "code",
   "execution_count": 189,
   "id": "0848e824",
   "metadata": {},
   "outputs": [],
   "source": [
    "train_ratio = 0.75\n",
    "validation_ratio = 0.15\n",
    "test_ratio = 0.10\n",
    "\n",
    "# train is now 75% of the entire data set\n",
    "# the _junk suffix means that we drop that variable completely\n",
    "x_train, x_test, y_train, y_test = train_test_split(x, y, test_size=1 - train_ratio)\n",
    "\n",
    "# test is now 10% of the initial data set\n",
    "# validation is now 15% of the initial data set\n",
    "x_val, x_test, y_val, y_test = train_test_split(x_test, y_test, test_size=test_ratio/(test_ratio + validation_ratio)) \n"
   ]
  },
  {
   "cell_type": "code",
   "execution_count": 190,
   "id": "5ff6c002",
   "metadata": {},
   "outputs": [],
   "source": [
    "clf1=prediction.fit(x_train, y_train)"
   ]
  },
  {
   "cell_type": "code",
   "execution_count": 191,
   "id": "6f069ed7",
   "metadata": {},
   "outputs": [],
   "source": [
    "result1=prediction.predict(x_test)"
   ]
  },
  {
   "cell_type": "code",
   "execution_count": 192,
   "id": "0778a401",
   "metadata": {},
   "outputs": [],
   "source": [
    "score1=confusion_matrix(y_test, result1)\n",
    "\n",
    "score2=accuracy_score(y_test, result1)\n",
    "\n",
    "score3=f1_score(y_test, result1)\n",
    "\n",
    "score4=matthews_corrcoef(y_test, result1)"
   ]
  },
  {
   "cell_type": "code",
   "execution_count": 193,
   "id": "6f44ac54",
   "metadata": {},
   "outputs": [
    {
     "data": {
      "text/plain": [
       "array([[174,  56],\n",
       "       [ 67, 146]], dtype=int64)"
      ]
     },
     "execution_count": 193,
     "metadata": {},
     "output_type": "execute_result"
    }
   ],
   "source": [
    "score1"
   ]
  },
  {
   "cell_type": "code",
   "execution_count": 194,
   "id": "10068b63",
   "metadata": {},
   "outputs": [
    {
     "data": {
      "text/plain": [
       "0.7223476297968398"
      ]
     },
     "execution_count": 194,
     "metadata": {},
     "output_type": "execute_result"
    }
   ],
   "source": [
    "score2"
   ]
  },
  {
   "cell_type": "code",
   "execution_count": 195,
   "id": "52a22158",
   "metadata": {},
   "outputs": [
    {
     "data": {
      "text/plain": [
       "0.7036144578313254"
      ]
     },
     "execution_count": 195,
     "metadata": {},
     "output_type": "execute_result"
    }
   ],
   "source": [
    "score3"
   ]
  },
  {
   "cell_type": "code",
   "execution_count": 196,
   "id": "7e0c60e3",
   "metadata": {},
   "outputs": [
    {
     "data": {
      "text/plain": [
       "0.4433636590749762"
      ]
     },
     "execution_count": 196,
     "metadata": {},
     "output_type": "execute_result"
    }
   ],
   "source": [
    "score4"
   ]
  },
  {
   "cell_type": "code",
   "execution_count": 197,
   "id": "bfa196c2",
   "metadata": {},
   "outputs": [],
   "source": [
    "clf2=prediction.fit(x_val, y_val)"
   ]
  },
  {
   "cell_type": "code",
   "execution_count": 198,
   "id": "e6e19504",
   "metadata": {},
   "outputs": [],
   "source": [
    "result2=prediction.predict(x_test)"
   ]
  },
  {
   "cell_type": "code",
   "execution_count": 199,
   "id": "9345f3f2",
   "metadata": {},
   "outputs": [],
   "source": [
    "score1=confusion_matrix(y_test, result2)\n",
    "\n",
    "score2=accuracy_score(y_test, result2)\n",
    "\n",
    "score3=f1_score(y_test, result2)\n",
    "\n",
    "score4=matthews_corrcoef(y_test, result2)"
   ]
  },
  {
   "cell_type": "code",
   "execution_count": 200,
   "id": "756a067f",
   "metadata": {},
   "outputs": [
    {
     "data": {
      "text/plain": [
       "array([[162,  68],\n",
       "       [ 71, 142]], dtype=int64)"
      ]
     },
     "execution_count": 200,
     "metadata": {},
     "output_type": "execute_result"
    }
   ],
   "source": [
    "score1"
   ]
  },
  {
   "cell_type": "code",
   "execution_count": 201,
   "id": "9b7e8f3f",
   "metadata": {},
   "outputs": [
    {
     "data": {
      "text/plain": [
       "0.6862302483069977"
      ]
     },
     "execution_count": 201,
     "metadata": {},
     "output_type": "execute_result"
    }
   ],
   "source": [
    "score2"
   ]
  },
  {
   "cell_type": "code",
   "execution_count": 202,
   "id": "b39fd5fb",
   "metadata": {},
   "outputs": [
    {
     "data": {
      "text/plain": [
       "0.6713947990543735"
      ]
     },
     "execution_count": 202,
     "metadata": {},
     "output_type": "execute_result"
    }
   ],
   "source": [
    "score3"
   ]
  },
  {
   "cell_type": "code",
   "execution_count": 203,
   "id": "4cb28798",
   "metadata": {},
   "outputs": [
    {
     "data": {
      "text/plain": [
       "0.37124189975796845"
      ]
     },
     "execution_count": 203,
     "metadata": {},
     "output_type": "execute_result"
    }
   ],
   "source": [
    "score4"
   ]
  },
  {
   "cell_type": "markdown",
   "id": "e238f1d8",
   "metadata": {},
   "source": [
    "____"
   ]
  },
  {
   "cell_type": "code",
   "execution_count": null,
   "id": "cfa90ab1",
   "metadata": {},
   "outputs": [],
   "source": []
  }
 ],
 "metadata": {
  "kernelspec": {
   "display_name": "Python 3 (ipykernel)",
   "language": "python",
   "name": "python3"
  },
  "language_info": {
   "codemirror_mode": {
    "name": "ipython",
    "version": 3
   },
   "file_extension": ".py",
   "mimetype": "text/x-python",
   "name": "python",
   "nbconvert_exporter": "python",
   "pygments_lexer": "ipython3",
   "version": "3.9.7"
  }
 },
 "nbformat": 4,
 "nbformat_minor": 5
}
