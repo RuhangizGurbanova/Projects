{
 "cells": [
  {
   "cell_type": "code",
   "execution_count": 1,
   "id": "82a14924",
   "metadata": {},
   "outputs": [],
   "source": [
    "import pandas as pd\n",
    "import numpy as np\n",
    "import requests\n",
    "import re\n",
    "from bs4 import BeautifulSoup"
   ]
  },
  {
   "cell_type": "code",
   "execution_count": 2,
   "id": "e4fc9239",
   "metadata": {},
   "outputs": [],
   "source": [
    "url='https://turbo.az/'"
   ]
  },
  {
   "cell_type": "code",
   "execution_count": 3,
   "id": "3cde6e41",
   "metadata": {},
   "outputs": [],
   "source": [
    "page=requests.get(url)"
   ]
  },
  {
   "cell_type": "code",
   "execution_count": 4,
   "id": "75390935",
   "metadata": {},
   "outputs": [],
   "source": [
    "html=BeautifulSoup(page.content, 'html.parser')"
   ]
  },
  {
   "cell_type": "code",
   "execution_count": 5,
   "id": "03fa318c",
   "metadata": {},
   "outputs": [],
   "source": [
    "cars_info=html.find_all('div', class_='products-i__bottom')"
   ]
  },
  {
   "cell_type": "code",
   "execution_count": 6,
   "id": "1657c0f3",
   "metadata": {},
   "outputs": [],
   "source": [
    "information=re.sub('<[^>]+>', ' ', str(cars_info))"
   ]
  },
  {
   "cell_type": "code",
   "execution_count": 7,
   "id": "21beb3cb",
   "metadata": {},
   "outputs": [
    {
     "data": {
      "text/plain": [
       "'[   42 540  AZN    Kia Sorento  2015, 2.0 L, 151 333 km  Bakı, bugün 03:51  ,    64 400  AZN    Toyota RAV 4  2022, 2.0 L, 0 km  Bakı, bugün 10:35  ,    56 400  €    Alfa Romeo Stelvio  2022, 2.0 L, 0 km  Bakı, 14.03.2023 10:21  ,    46 900  $    Nissan Xterra  2022, 2.5 L, 0 km  Bakı, dünən 14:07  ,    38 500  $    BMW M5  2012, 4.4 L, 119 500 km  Bakı, 23.03.2023 09:55  ,    28 900  AZN    LADA (VAZ) Niva Bronto  2023, 1.7 L, 0 km  Bakı, 30.03.2023 18:08  ,    50 300  $    Toyota Land Cruiser  2013, 4.6 L, 87 000 km  Bakı, 22.03.2023 11:20  ,    3 400  AZN    Opel Vectra  1996, 2.0 L, 256 666 km  Sumqayıt, bugün 02:32  ,    6 600  AZN    Volkswagen Passat  2004, 1.8 L, 385 972 km  Bakı, 02.04.2023 16:11  ,    15 100  AZN    Hyundai i30  2008, 1.6 L, 187 000 km  Bakı, 29.03.2023 22:10  ,    27 000  $    Toyota Prado  2012, 2.7 L, 130 000 km  Bakı, 23.03.2023 14:05  ,    28 500  AZN    Hyundai ix35  2014, 2.0 L, 160 000 km  Bakı, 22.03.2023 01:30  ,    12 200  AZN    Toyota Corolla  2005, 1.4 L, 187 000 km  Bakı, 02.04.2023 23:34  ,    42 000  $    Lexus RX 200t  2017, 2.0 L, 71 000 km  Bakı, 22.03.2023 20:20  ,    104 888  $    Mercedes S 560 4Matic  2017, 4.0 L, 38 800 km  Bakı, 29.03.2023 19:07  ,    20 300  $    BMW 535  2012, 3.0 L, 215 000 km  Bakı, 20.03.2023 20:17  ]'"
      ]
     },
     "execution_count": 7,
     "metadata": {},
     "output_type": "execute_result"
    }
   ],
   "source": [
    "information"
   ]
  },
  {
   "cell_type": "code",
   "execution_count": 8,
   "id": "0bb64d3a",
   "metadata": {},
   "outputs": [],
   "source": [
    "turbo=pd.DataFrame()"
   ]
  },
  {
   "cell_type": "code",
   "execution_count": 9,
   "id": "2e98c2aa",
   "metadata": {},
   "outputs": [],
   "source": [
    "for page_num in range(10,20):\n",
    "    url = f'https://turbo.az/autos?page={page_num}'\n",
    "    page = requests.get(url)\n",
    "    html = BeautifulSoup(page.content, 'html.parser')\n",
    "    cars = html.find_all('div', class_ = 'products-i__bottom')\n",
    "\n",
    "    for i in range(len(cars)):\n",
    "        #substite\n",
    "        carinfo = re.sub('<[^>]+>', '-', str(cars[i])).split('--')\n",
    "\n",
    "        currency = carinfo[1].split('-')[2]\n",
    "        price = int(carinfo[1].split('-')[1].replace(' ',''))\n",
    "        make_model = carinfo[3]\n",
    "        year = int(carinfo[4].split(',')[0])\n",
    "        engine = int(carinfo[4].split(',')[1].replace('.','').replace('L','').strip()) * 100\n",
    "        km = int(carinfo[4].split(',')[2].replace('km','').replace(' ',''))\n",
    "\n",
    "        turbo = turbo.append({\n",
    "            'Make_Model':make_model,\n",
    "            'Production_Year':year,\n",
    "            'Engine_Power':engine,\n",
    "            'KM_Driven':km,\n",
    "            'Price':price,\n",
    "            'Currency':currency,\n",
    "        },ignore_index=True)"
   ]
  },
  {
   "cell_type": "code",
   "execution_count": 10,
   "id": "34c0312c",
   "metadata": {},
   "outputs": [
    {
     "data": {
      "text/html": [
       "<div>\n",
       "<style scoped>\n",
       "    .dataframe tbody tr th:only-of-type {\n",
       "        vertical-align: middle;\n",
       "    }\n",
       "\n",
       "    .dataframe tbody tr th {\n",
       "        vertical-align: top;\n",
       "    }\n",
       "\n",
       "    .dataframe thead th {\n",
       "        text-align: right;\n",
       "    }\n",
       "</style>\n",
       "<table border=\"1\" class=\"dataframe\">\n",
       "  <thead>\n",
       "    <tr style=\"text-align: right;\">\n",
       "      <th></th>\n",
       "      <th>Make_Model</th>\n",
       "      <th>Production_Year</th>\n",
       "      <th>Engine_Power</th>\n",
       "      <th>KM_Driven</th>\n",
       "      <th>Price</th>\n",
       "      <th>Currency</th>\n",
       "    </tr>\n",
       "  </thead>\n",
       "  <tbody>\n",
       "    <tr>\n",
       "      <th>0</th>\n",
       "      <td>Hyundai i30</td>\n",
       "      <td>2011.0</td>\n",
       "      <td>1600.0</td>\n",
       "      <td>186500.0</td>\n",
       "      <td>16800.0</td>\n",
       "      <td>AZN</td>\n",
       "    </tr>\n",
       "    <tr>\n",
       "      <th>1</th>\n",
       "      <td>Land Rover Range Rover</td>\n",
       "      <td>2019.0</td>\n",
       "      <td>3000.0</td>\n",
       "      <td>14000.0</td>\n",
       "      <td>110000.0</td>\n",
       "      <td>$</td>\n",
       "    </tr>\n",
       "    <tr>\n",
       "      <th>2</th>\n",
       "      <td>Land Rover Range Rover</td>\n",
       "      <td>2013.0</td>\n",
       "      <td>3000.0</td>\n",
       "      <td>162000.0</td>\n",
       "      <td>55900.0</td>\n",
       "      <td>$</td>\n",
       "    </tr>\n",
       "    <tr>\n",
       "      <th>3</th>\n",
       "      <td>Kia Sorento</td>\n",
       "      <td>2013.0</td>\n",
       "      <td>2000.0</td>\n",
       "      <td>140000.0</td>\n",
       "      <td>33900.0</td>\n",
       "      <td>AZN</td>\n",
       "    </tr>\n",
       "    <tr>\n",
       "      <th>4</th>\n",
       "      <td>Hyundai Elantra</td>\n",
       "      <td>2017.0</td>\n",
       "      <td>1600.0</td>\n",
       "      <td>254000.0</td>\n",
       "      <td>27000.0</td>\n",
       "      <td>AZN</td>\n",
       "    </tr>\n",
       "    <tr>\n",
       "      <th>...</th>\n",
       "      <td>...</td>\n",
       "      <td>...</td>\n",
       "      <td>...</td>\n",
       "      <td>...</td>\n",
       "      <td>...</td>\n",
       "      <td>...</td>\n",
       "    </tr>\n",
       "    <tr>\n",
       "      <th>355</th>\n",
       "      <td>Opel Vectra</td>\n",
       "      <td>1998.0</td>\n",
       "      <td>1600.0</td>\n",
       "      <td>247652.0</td>\n",
       "      <td>5950.0</td>\n",
       "      <td>AZN</td>\n",
       "    </tr>\n",
       "    <tr>\n",
       "      <th>356</th>\n",
       "      <td>Land Rover Range Rover</td>\n",
       "      <td>2008.0</td>\n",
       "      <td>4200.0</td>\n",
       "      <td>98800.0</td>\n",
       "      <td>26000.0</td>\n",
       "      <td>$</td>\n",
       "    </tr>\n",
       "    <tr>\n",
       "      <th>357</th>\n",
       "      <td>Fiat Doblo</td>\n",
       "      <td>2016.0</td>\n",
       "      <td>1400.0</td>\n",
       "      <td>21000.0</td>\n",
       "      <td>26500.0</td>\n",
       "      <td>AZN</td>\n",
       "    </tr>\n",
       "    <tr>\n",
       "      <th>358</th>\n",
       "      <td>Kia Rio</td>\n",
       "      <td>2021.0</td>\n",
       "      <td>1600.0</td>\n",
       "      <td>39500.0</td>\n",
       "      <td>32400.0</td>\n",
       "      <td>AZN</td>\n",
       "    </tr>\n",
       "    <tr>\n",
       "      <th>359</th>\n",
       "      <td>Land Rover Range Rover</td>\n",
       "      <td>2023.0</td>\n",
       "      <td>4400.0</td>\n",
       "      <td>0.0</td>\n",
       "      <td>358000.0</td>\n",
       "      <td>$</td>\n",
       "    </tr>\n",
       "  </tbody>\n",
       "</table>\n",
       "<p>360 rows × 6 columns</p>\n",
       "</div>"
      ],
      "text/plain": [
       "                 Make_Model  Production_Year  Engine_Power  KM_Driven  \\\n",
       "0               Hyundai i30           2011.0        1600.0   186500.0   \n",
       "1    Land Rover Range Rover           2019.0        3000.0    14000.0   \n",
       "2    Land Rover Range Rover           2013.0        3000.0   162000.0   \n",
       "3               Kia Sorento           2013.0        2000.0   140000.0   \n",
       "4           Hyundai Elantra           2017.0        1600.0   254000.0   \n",
       "..                      ...              ...           ...        ...   \n",
       "355             Opel Vectra           1998.0        1600.0   247652.0   \n",
       "356  Land Rover Range Rover           2008.0        4200.0    98800.0   \n",
       "357              Fiat Doblo           2016.0        1400.0    21000.0   \n",
       "358                 Kia Rio           2021.0        1600.0    39500.0   \n",
       "359  Land Rover Range Rover           2023.0        4400.0        0.0   \n",
       "\n",
       "        Price Currency  \n",
       "0     16800.0      AZN  \n",
       "1    110000.0        $  \n",
       "2     55900.0        $  \n",
       "3     33900.0      AZN  \n",
       "4     27000.0      AZN  \n",
       "..        ...      ...  \n",
       "355    5950.0      AZN  \n",
       "356   26000.0        $  \n",
       "357   26500.0      AZN  \n",
       "358   32400.0      AZN  \n",
       "359  358000.0        $  \n",
       "\n",
       "[360 rows x 6 columns]"
      ]
     },
     "execution_count": 10,
     "metadata": {},
     "output_type": "execute_result"
    }
   ],
   "source": [
    "turbo"
   ]
  },
  {
   "cell_type": "code",
   "execution_count": 24,
   "id": "793d7f25",
   "metadata": {},
   "outputs": [],
   "source": [
    "url_cur='https://www.cbar.az/'"
   ]
  },
  {
   "cell_type": "code",
   "execution_count": 25,
   "id": "515c8a36",
   "metadata": {},
   "outputs": [],
   "source": [
    "page1=requests.get(url_cur)"
   ]
  },
  {
   "cell_type": "code",
   "execution_count": 26,
   "id": "ae7a3976",
   "metadata": {},
   "outputs": [],
   "source": [
    "html1=BeautifulSoup(page1.content, 'html.parser')"
   ]
  },
  {
   "cell_type": "code",
   "execution_count": 27,
   "id": "5fc77002",
   "metadata": {},
   "outputs": [],
   "source": [
    "currencies=html1.find_all('div', class_='relize_item')"
   ]
  },
  {
   "cell_type": "code",
   "execution_count": 28,
   "id": "1991c34c",
   "metadata": {},
   "outputs": [],
   "source": [
    "curr=re.sub('<[^>]+>', ' ', str(currencies))"
   ]
  },
  {
   "cell_type": "code",
   "execution_count": 29,
   "id": "f3e3d681",
   "metadata": {},
   "outputs": [
    {
     "data": {
      "text/plain": [
       "'[  04.04.2023  Valyuta hərracı barədə  ,   30.03.2023  Valyuta hərracı barədə  ,   29.03.2023  Faiz dəhlizinin parametrləri haqqında  ,   04.04.2023 tarixindən etibarən   1 USD - 1.7000    1 EUR - 1.8519    1 RUB - 0.0217    1 TRY - 0.0885     ,   30.03.2023 tarixindən etibarən   Aşağı həddi - 7.0%    Yuxarı həddi - 9.75%    Uçot faiz dərəcəsi - 8.75%   ]'"
      ]
     },
     "execution_count": 29,
     "metadata": {},
     "output_type": "execute_result"
    }
   ],
   "source": [
    "curr"
   ]
  },
  {
   "cell_type": "code",
   "execution_count": 30,
   "id": "22529b46",
   "metadata": {},
   "outputs": [],
   "source": [
    "curr_usd=float(curr[curr.find('USD')+5:curr.find('1 EUR')].replace(' ', ''))"
   ]
  },
  {
   "cell_type": "code",
   "execution_count": 31,
   "id": "4685926c",
   "metadata": {},
   "outputs": [],
   "source": [
    "curr_eur=float(curr[curr.find('EUR')+5:curr.find('1 RUB')].replace(' ', ''))"
   ]
  },
  {
   "cell_type": "code",
   "execution_count": 32,
   "id": "0995d07c",
   "metadata": {},
   "outputs": [
    {
     "data": {
      "text/plain": [
       "1.8519"
      ]
     },
     "execution_count": 32,
     "metadata": {},
     "output_type": "execute_result"
    }
   ],
   "source": [
    "curr_eur"
   ]
  },
  {
   "cell_type": "code",
   "execution_count": 33,
   "id": "5946b75b",
   "metadata": {
    "scrolled": false
   },
   "outputs": [
    {
     "data": {
      "text/plain": [
       "array(['AZN', '$', '€'], dtype=object)"
      ]
     },
     "execution_count": 33,
     "metadata": {},
     "output_type": "execute_result"
    }
   ],
   "source": [
    "turbo['Currency'].unique()"
   ]
  },
  {
   "cell_type": "code",
   "execution_count": 40,
   "id": "5df64fda",
   "metadata": {},
   "outputs": [],
   "source": [
    "turbo['Price in AZN']=pd.to_numeric(turbo['Price in AZN'])"
   ]
  },
  {
   "cell_type": "code",
   "execution_count": 39,
   "id": "fcd27ee9",
   "metadata": {},
   "outputs": [],
   "source": [
    "turbo['Price in AZN']=np.where(turbo['Currency']=='$', turbo['Price']*curr_usd, np.where(turbo['Currency']=='€',turbo['Price']*curr_eur, turbo['Price']))"
   ]
  },
  {
   "cell_type": "code",
   "execution_count": 41,
   "id": "abc9bcc6",
   "metadata": {},
   "outputs": [
    {
     "data": {
      "text/html": [
       "<div>\n",
       "<style scoped>\n",
       "    .dataframe tbody tr th:only-of-type {\n",
       "        vertical-align: middle;\n",
       "    }\n",
       "\n",
       "    .dataframe tbody tr th {\n",
       "        vertical-align: top;\n",
       "    }\n",
       "\n",
       "    .dataframe thead th {\n",
       "        text-align: right;\n",
       "    }\n",
       "</style>\n",
       "<table border=\"1\" class=\"dataframe\">\n",
       "  <thead>\n",
       "    <tr style=\"text-align: right;\">\n",
       "      <th></th>\n",
       "      <th>Make_Model</th>\n",
       "      <th>Production_Year</th>\n",
       "      <th>Engine_Power</th>\n",
       "      <th>KM_Driven</th>\n",
       "      <th>Price</th>\n",
       "      <th>Currency</th>\n",
       "      <th>Price in AZN</th>\n",
       "    </tr>\n",
       "  </thead>\n",
       "  <tbody>\n",
       "    <tr>\n",
       "      <th>0</th>\n",
       "      <td>Hyundai i30</td>\n",
       "      <td>2011.0</td>\n",
       "      <td>1600.0</td>\n",
       "      <td>186500.0</td>\n",
       "      <td>16800.0</td>\n",
       "      <td>AZN</td>\n",
       "      <td>16800.0</td>\n",
       "    </tr>\n",
       "    <tr>\n",
       "      <th>1</th>\n",
       "      <td>Land Rover Range Rover</td>\n",
       "      <td>2019.0</td>\n",
       "      <td>3000.0</td>\n",
       "      <td>14000.0</td>\n",
       "      <td>110000.0</td>\n",
       "      <td>$</td>\n",
       "      <td>187000.0</td>\n",
       "    </tr>\n",
       "    <tr>\n",
       "      <th>2</th>\n",
       "      <td>Land Rover Range Rover</td>\n",
       "      <td>2013.0</td>\n",
       "      <td>3000.0</td>\n",
       "      <td>162000.0</td>\n",
       "      <td>55900.0</td>\n",
       "      <td>$</td>\n",
       "      <td>95030.0</td>\n",
       "    </tr>\n",
       "    <tr>\n",
       "      <th>3</th>\n",
       "      <td>Kia Sorento</td>\n",
       "      <td>2013.0</td>\n",
       "      <td>2000.0</td>\n",
       "      <td>140000.0</td>\n",
       "      <td>33900.0</td>\n",
       "      <td>AZN</td>\n",
       "      <td>33900.0</td>\n",
       "    </tr>\n",
       "    <tr>\n",
       "      <th>4</th>\n",
       "      <td>Hyundai Elantra</td>\n",
       "      <td>2017.0</td>\n",
       "      <td>1600.0</td>\n",
       "      <td>254000.0</td>\n",
       "      <td>27000.0</td>\n",
       "      <td>AZN</td>\n",
       "      <td>27000.0</td>\n",
       "    </tr>\n",
       "    <tr>\n",
       "      <th>...</th>\n",
       "      <td>...</td>\n",
       "      <td>...</td>\n",
       "      <td>...</td>\n",
       "      <td>...</td>\n",
       "      <td>...</td>\n",
       "      <td>...</td>\n",
       "      <td>...</td>\n",
       "    </tr>\n",
       "    <tr>\n",
       "      <th>355</th>\n",
       "      <td>Opel Vectra</td>\n",
       "      <td>1998.0</td>\n",
       "      <td>1600.0</td>\n",
       "      <td>247652.0</td>\n",
       "      <td>5950.0</td>\n",
       "      <td>AZN</td>\n",
       "      <td>5950.0</td>\n",
       "    </tr>\n",
       "    <tr>\n",
       "      <th>356</th>\n",
       "      <td>Land Rover Range Rover</td>\n",
       "      <td>2008.0</td>\n",
       "      <td>4200.0</td>\n",
       "      <td>98800.0</td>\n",
       "      <td>26000.0</td>\n",
       "      <td>$</td>\n",
       "      <td>44200.0</td>\n",
       "    </tr>\n",
       "    <tr>\n",
       "      <th>357</th>\n",
       "      <td>Fiat Doblo</td>\n",
       "      <td>2016.0</td>\n",
       "      <td>1400.0</td>\n",
       "      <td>21000.0</td>\n",
       "      <td>26500.0</td>\n",
       "      <td>AZN</td>\n",
       "      <td>26500.0</td>\n",
       "    </tr>\n",
       "    <tr>\n",
       "      <th>358</th>\n",
       "      <td>Kia Rio</td>\n",
       "      <td>2021.0</td>\n",
       "      <td>1600.0</td>\n",
       "      <td>39500.0</td>\n",
       "      <td>32400.0</td>\n",
       "      <td>AZN</td>\n",
       "      <td>32400.0</td>\n",
       "    </tr>\n",
       "    <tr>\n",
       "      <th>359</th>\n",
       "      <td>Land Rover Range Rover</td>\n",
       "      <td>2023.0</td>\n",
       "      <td>4400.0</td>\n",
       "      <td>0.0</td>\n",
       "      <td>358000.0</td>\n",
       "      <td>$</td>\n",
       "      <td>608600.0</td>\n",
       "    </tr>\n",
       "  </tbody>\n",
       "</table>\n",
       "<p>360 rows × 7 columns</p>\n",
       "</div>"
      ],
      "text/plain": [
       "                 Make_Model  Production_Year  Engine_Power  KM_Driven  \\\n",
       "0               Hyundai i30           2011.0        1600.0   186500.0   \n",
       "1    Land Rover Range Rover           2019.0        3000.0    14000.0   \n",
       "2    Land Rover Range Rover           2013.0        3000.0   162000.0   \n",
       "3               Kia Sorento           2013.0        2000.0   140000.0   \n",
       "4           Hyundai Elantra           2017.0        1600.0   254000.0   \n",
       "..                      ...              ...           ...        ...   \n",
       "355             Opel Vectra           1998.0        1600.0   247652.0   \n",
       "356  Land Rover Range Rover           2008.0        4200.0    98800.0   \n",
       "357              Fiat Doblo           2016.0        1400.0    21000.0   \n",
       "358                 Kia Rio           2021.0        1600.0    39500.0   \n",
       "359  Land Rover Range Rover           2023.0        4400.0        0.0   \n",
       "\n",
       "        Price Currency  Price in AZN  \n",
       "0     16800.0      AZN       16800.0  \n",
       "1    110000.0        $      187000.0  \n",
       "2     55900.0        $       95030.0  \n",
       "3     33900.0      AZN       33900.0  \n",
       "4     27000.0      AZN       27000.0  \n",
       "..        ...      ...           ...  \n",
       "355    5950.0      AZN        5950.0  \n",
       "356   26000.0        $       44200.0  \n",
       "357   26500.0      AZN       26500.0  \n",
       "358   32400.0      AZN       32400.0  \n",
       "359  358000.0        $      608600.0  \n",
       "\n",
       "[360 rows x 7 columns]"
      ]
     },
     "execution_count": 41,
     "metadata": {},
     "output_type": "execute_result"
    }
   ],
   "source": [
    "turbo"
   ]
  },
  {
   "cell_type": "code",
   "execution_count": null,
   "id": "e90e3217",
   "metadata": {},
   "outputs": [],
   "source": []
  }
 ],
 "metadata": {
  "kernelspec": {
   "display_name": "Python 3 (ipykernel)",
   "language": "python",
   "name": "python3"
  },
  "language_info": {
   "codemirror_mode": {
    "name": "ipython",
    "version": 3
   },
   "file_extension": ".py",
   "mimetype": "text/x-python",
   "name": "python",
   "nbconvert_exporter": "python",
   "pygments_lexer": "ipython3",
   "version": "3.9.7"
  }
 },
 "nbformat": 4,
 "nbformat_minor": 5
}
