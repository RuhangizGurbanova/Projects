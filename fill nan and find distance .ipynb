{
 "cells": [
  {
   "cell_type": "code",
   "execution_count": 72,
   "id": "79cea6d4",
   "metadata": {},
   "outputs": [],
   "source": [
    "import pandas as pd\n",
    "import numpy as np\n",
    "import random\n",
    "import matplotlib.pyplot as plt"
   ]
  },
  {
   "cell_type": "code",
   "execution_count": 94,
   "id": "94b50937",
   "metadata": {},
   "outputs": [],
   "source": [
    "df=pd.read_csv(r'week6-quiz1.csv').head(3000).iloc[:, 1:]"
   ]
  },
  {
   "cell_type": "code",
   "execution_count": 95,
   "id": "8af2cf91",
   "metadata": {},
   "outputs": [
    {
     "data": {
      "text/html": [
       "<div>\n",
       "<style scoped>\n",
       "    .dataframe tbody tr th:only-of-type {\n",
       "        vertical-align: middle;\n",
       "    }\n",
       "\n",
       "    .dataframe tbody tr th {\n",
       "        vertical-align: top;\n",
       "    }\n",
       "\n",
       "    .dataframe thead th {\n",
       "        text-align: right;\n",
       "    }\n",
       "</style>\n",
       "<table border=\"1\" class=\"dataframe\">\n",
       "  <thead>\n",
       "    <tr style=\"text-align: right;\">\n",
       "      <th></th>\n",
       "      <th>Gender</th>\n",
       "      <th>Age</th>\n",
       "      <th>Driving_License</th>\n",
       "      <th>Region_Code</th>\n",
       "      <th>Previously_Insured</th>\n",
       "      <th>Vehicle_Age</th>\n",
       "      <th>Vehicle_Damage</th>\n",
       "      <th>Annual_Premium</th>\n",
       "      <th>Policy_Sales_Channel</th>\n",
       "      <th>Vintage</th>\n",
       "      <th>Response</th>\n",
       "    </tr>\n",
       "  </thead>\n",
       "  <tbody>\n",
       "    <tr>\n",
       "      <th>0</th>\n",
       "      <td>Male</td>\n",
       "      <td>44</td>\n",
       "      <td>1</td>\n",
       "      <td>28.0</td>\n",
       "      <td>0</td>\n",
       "      <td>&gt; 2 Years</td>\n",
       "      <td>Yes</td>\n",
       "      <td>40454.0</td>\n",
       "      <td>26.0</td>\n",
       "      <td>217</td>\n",
       "      <td>1</td>\n",
       "    </tr>\n",
       "    <tr>\n",
       "      <th>1</th>\n",
       "      <td>Male</td>\n",
       "      <td>76</td>\n",
       "      <td>1</td>\n",
       "      <td>3.0</td>\n",
       "      <td>0</td>\n",
       "      <td>1-2 Year</td>\n",
       "      <td>No</td>\n",
       "      <td>33536.0</td>\n",
       "      <td>26.0</td>\n",
       "      <td>183</td>\n",
       "      <td>0</td>\n",
       "    </tr>\n",
       "    <tr>\n",
       "      <th>2</th>\n",
       "      <td>Male</td>\n",
       "      <td>47</td>\n",
       "      <td>1</td>\n",
       "      <td>28.0</td>\n",
       "      <td>0</td>\n",
       "      <td>&gt; 2 Years</td>\n",
       "      <td>Yes</td>\n",
       "      <td>38294.0</td>\n",
       "      <td>26.0</td>\n",
       "      <td>27</td>\n",
       "      <td>1</td>\n",
       "    </tr>\n",
       "    <tr>\n",
       "      <th>3</th>\n",
       "      <td>Male</td>\n",
       "      <td>21</td>\n",
       "      <td>1</td>\n",
       "      <td>11.0</td>\n",
       "      <td>1</td>\n",
       "      <td>&lt; 1 Year</td>\n",
       "      <td>No</td>\n",
       "      <td>28619.0</td>\n",
       "      <td>152.0</td>\n",
       "      <td>203</td>\n",
       "      <td>0</td>\n",
       "    </tr>\n",
       "    <tr>\n",
       "      <th>4</th>\n",
       "      <td>Female</td>\n",
       "      <td>29</td>\n",
       "      <td>1</td>\n",
       "      <td>41.0</td>\n",
       "      <td>1</td>\n",
       "      <td>&lt; 1 Year</td>\n",
       "      <td>No</td>\n",
       "      <td>27496.0</td>\n",
       "      <td>152.0</td>\n",
       "      <td>39</td>\n",
       "      <td>0</td>\n",
       "    </tr>\n",
       "    <tr>\n",
       "      <th>...</th>\n",
       "      <td>...</td>\n",
       "      <td>...</td>\n",
       "      <td>...</td>\n",
       "      <td>...</td>\n",
       "      <td>...</td>\n",
       "      <td>...</td>\n",
       "      <td>...</td>\n",
       "      <td>...</td>\n",
       "      <td>...</td>\n",
       "      <td>...</td>\n",
       "      <td>...</td>\n",
       "    </tr>\n",
       "    <tr>\n",
       "      <th>2995</th>\n",
       "      <td>Male</td>\n",
       "      <td>74</td>\n",
       "      <td>1</td>\n",
       "      <td>46.0</td>\n",
       "      <td>0</td>\n",
       "      <td>&gt; 2 Years</td>\n",
       "      <td>Yes</td>\n",
       "      <td>2630.0</td>\n",
       "      <td>11.0</td>\n",
       "      <td>231</td>\n",
       "      <td>1</td>\n",
       "    </tr>\n",
       "    <tr>\n",
       "      <th>2996</th>\n",
       "      <td>Male</td>\n",
       "      <td>45</td>\n",
       "      <td>1</td>\n",
       "      <td>28.0</td>\n",
       "      <td>0</td>\n",
       "      <td>&gt; 2 Years</td>\n",
       "      <td>Yes</td>\n",
       "      <td>43780.0</td>\n",
       "      <td>26.0</td>\n",
       "      <td>207</td>\n",
       "      <td>1</td>\n",
       "    </tr>\n",
       "    <tr>\n",
       "      <th>2997</th>\n",
       "      <td>Female</td>\n",
       "      <td>46</td>\n",
       "      <td>1</td>\n",
       "      <td>28.0</td>\n",
       "      <td>0</td>\n",
       "      <td>&gt; 2 Years</td>\n",
       "      <td>Yes</td>\n",
       "      <td>40790.0</td>\n",
       "      <td>26.0</td>\n",
       "      <td>43</td>\n",
       "      <td>0</td>\n",
       "    </tr>\n",
       "    <tr>\n",
       "      <th>2998</th>\n",
       "      <td>Male</td>\n",
       "      <td>36</td>\n",
       "      <td>1</td>\n",
       "      <td>28.0</td>\n",
       "      <td>0</td>\n",
       "      <td>1-2 Year</td>\n",
       "      <td>Yes</td>\n",
       "      <td>40803.0</td>\n",
       "      <td>124.0</td>\n",
       "      <td>254</td>\n",
       "      <td>0</td>\n",
       "    </tr>\n",
       "    <tr>\n",
       "      <th>2999</th>\n",
       "      <td>Male</td>\n",
       "      <td>49</td>\n",
       "      <td>1</td>\n",
       "      <td>28.0</td>\n",
       "      <td>0</td>\n",
       "      <td>1-2 Year</td>\n",
       "      <td>Yes</td>\n",
       "      <td>57197.0</td>\n",
       "      <td>26.0</td>\n",
       "      <td>129</td>\n",
       "      <td>0</td>\n",
       "    </tr>\n",
       "  </tbody>\n",
       "</table>\n",
       "<p>3000 rows × 11 columns</p>\n",
       "</div>"
      ],
      "text/plain": [
       "      Gender  Age  Driving_License  Region_Code  Previously_Insured  \\\n",
       "0       Male   44                1         28.0                   0   \n",
       "1       Male   76                1          3.0                   0   \n",
       "2       Male   47                1         28.0                   0   \n",
       "3       Male   21                1         11.0                   1   \n",
       "4     Female   29                1         41.0                   1   \n",
       "...      ...  ...              ...          ...                 ...   \n",
       "2995    Male   74                1         46.0                   0   \n",
       "2996    Male   45                1         28.0                   0   \n",
       "2997  Female   46                1         28.0                   0   \n",
       "2998    Male   36                1         28.0                   0   \n",
       "2999    Male   49                1         28.0                   0   \n",
       "\n",
       "     Vehicle_Age Vehicle_Damage  Annual_Premium  Policy_Sales_Channel  \\\n",
       "0      > 2 Years            Yes         40454.0                  26.0   \n",
       "1       1-2 Year             No         33536.0                  26.0   \n",
       "2      > 2 Years            Yes         38294.0                  26.0   \n",
       "3       < 1 Year             No         28619.0                 152.0   \n",
       "4       < 1 Year             No         27496.0                 152.0   \n",
       "...          ...            ...             ...                   ...   \n",
       "2995   > 2 Years            Yes          2630.0                  11.0   \n",
       "2996   > 2 Years            Yes         43780.0                  26.0   \n",
       "2997   > 2 Years            Yes         40790.0                  26.0   \n",
       "2998    1-2 Year            Yes         40803.0                 124.0   \n",
       "2999    1-2 Year            Yes         57197.0                  26.0   \n",
       "\n",
       "      Vintage  Response  \n",
       "0         217         1  \n",
       "1         183         0  \n",
       "2          27         1  \n",
       "3         203         0  \n",
       "4          39         0  \n",
       "...       ...       ...  \n",
       "2995      231         1  \n",
       "2996      207         1  \n",
       "2997       43         0  \n",
       "2998      254         0  \n",
       "2999      129         0  \n",
       "\n",
       "[3000 rows x 11 columns]"
      ]
     },
     "execution_count": 95,
     "metadata": {},
     "output_type": "execute_result"
    }
   ],
   "source": [
    "df"
   ]
  },
  {
   "cell_type": "markdown",
   "id": "45615d2f",
   "metadata": {},
   "source": [
    "#### delete rows randomly "
   ]
  },
  {
   "cell_type": "code",
   "execution_count": 96,
   "id": "37e78615",
   "metadata": {
    "scrolled": true
   },
   "outputs": [],
   "source": [
    "p = 0.1 #percentage missing data required\n",
    "\n",
    "mask = np.random.choice([True, False], size=df.shape, p=[p,1-p])\n",
    "df_nulls = df.mask(mask)"
   ]
  },
  {
   "cell_type": "code",
   "execution_count": 97,
   "id": "b8ef04f2",
   "metadata": {
    "scrolled": false
   },
   "outputs": [
    {
     "data": {
      "text/html": [
       "<div>\n",
       "<style scoped>\n",
       "    .dataframe tbody tr th:only-of-type {\n",
       "        vertical-align: middle;\n",
       "    }\n",
       "\n",
       "    .dataframe tbody tr th {\n",
       "        vertical-align: top;\n",
       "    }\n",
       "\n",
       "    .dataframe thead th {\n",
       "        text-align: right;\n",
       "    }\n",
       "</style>\n",
       "<table border=\"1\" class=\"dataframe\">\n",
       "  <thead>\n",
       "    <tr style=\"text-align: right;\">\n",
       "      <th></th>\n",
       "      <th>Gender</th>\n",
       "      <th>Age</th>\n",
       "      <th>Driving_License</th>\n",
       "      <th>Region_Code</th>\n",
       "      <th>Previously_Insured</th>\n",
       "      <th>Vehicle_Age</th>\n",
       "      <th>Vehicle_Damage</th>\n",
       "      <th>Annual_Premium</th>\n",
       "      <th>Policy_Sales_Channel</th>\n",
       "      <th>Vintage</th>\n",
       "      <th>Response</th>\n",
       "    </tr>\n",
       "  </thead>\n",
       "  <tbody>\n",
       "    <tr>\n",
       "      <th>0</th>\n",
       "      <td>Male</td>\n",
       "      <td>44.0</td>\n",
       "      <td>1.0</td>\n",
       "      <td>28.0</td>\n",
       "      <td>0.0</td>\n",
       "      <td>&gt; 2 Years</td>\n",
       "      <td>Yes</td>\n",
       "      <td>NaN</td>\n",
       "      <td>NaN</td>\n",
       "      <td>217.0</td>\n",
       "      <td>1.0</td>\n",
       "    </tr>\n",
       "    <tr>\n",
       "      <th>1</th>\n",
       "      <td>Male</td>\n",
       "      <td>76.0</td>\n",
       "      <td>1.0</td>\n",
       "      <td>3.0</td>\n",
       "      <td>0.0</td>\n",
       "      <td>1-2 Year</td>\n",
       "      <td>No</td>\n",
       "      <td>33536.0</td>\n",
       "      <td>26.0</td>\n",
       "      <td>183.0</td>\n",
       "      <td>0.0</td>\n",
       "    </tr>\n",
       "    <tr>\n",
       "      <th>2</th>\n",
       "      <td>Male</td>\n",
       "      <td>47.0</td>\n",
       "      <td>1.0</td>\n",
       "      <td>28.0</td>\n",
       "      <td>0.0</td>\n",
       "      <td>&gt; 2 Years</td>\n",
       "      <td>Yes</td>\n",
       "      <td>38294.0</td>\n",
       "      <td>26.0</td>\n",
       "      <td>27.0</td>\n",
       "      <td>NaN</td>\n",
       "    </tr>\n",
       "    <tr>\n",
       "      <th>3</th>\n",
       "      <td>Male</td>\n",
       "      <td>21.0</td>\n",
       "      <td>1.0</td>\n",
       "      <td>11.0</td>\n",
       "      <td>1.0</td>\n",
       "      <td>&lt; 1 Year</td>\n",
       "      <td>No</td>\n",
       "      <td>28619.0</td>\n",
       "      <td>152.0</td>\n",
       "      <td>203.0</td>\n",
       "      <td>0.0</td>\n",
       "    </tr>\n",
       "    <tr>\n",
       "      <th>4</th>\n",
       "      <td>Female</td>\n",
       "      <td>NaN</td>\n",
       "      <td>1.0</td>\n",
       "      <td>41.0</td>\n",
       "      <td>NaN</td>\n",
       "      <td>&lt; 1 Year</td>\n",
       "      <td>No</td>\n",
       "      <td>27496.0</td>\n",
       "      <td>152.0</td>\n",
       "      <td>39.0</td>\n",
       "      <td>0.0</td>\n",
       "    </tr>\n",
       "    <tr>\n",
       "      <th>...</th>\n",
       "      <td>...</td>\n",
       "      <td>...</td>\n",
       "      <td>...</td>\n",
       "      <td>...</td>\n",
       "      <td>...</td>\n",
       "      <td>...</td>\n",
       "      <td>...</td>\n",
       "      <td>...</td>\n",
       "      <td>...</td>\n",
       "      <td>...</td>\n",
       "      <td>...</td>\n",
       "    </tr>\n",
       "    <tr>\n",
       "      <th>2995</th>\n",
       "      <td>NaN</td>\n",
       "      <td>74.0</td>\n",
       "      <td>1.0</td>\n",
       "      <td>46.0</td>\n",
       "      <td>0.0</td>\n",
       "      <td>&gt; 2 Years</td>\n",
       "      <td>Yes</td>\n",
       "      <td>2630.0</td>\n",
       "      <td>11.0</td>\n",
       "      <td>231.0</td>\n",
       "      <td>NaN</td>\n",
       "    </tr>\n",
       "    <tr>\n",
       "      <th>2996</th>\n",
       "      <td>Male</td>\n",
       "      <td>NaN</td>\n",
       "      <td>1.0</td>\n",
       "      <td>28.0</td>\n",
       "      <td>0.0</td>\n",
       "      <td>&gt; 2 Years</td>\n",
       "      <td>Yes</td>\n",
       "      <td>43780.0</td>\n",
       "      <td>26.0</td>\n",
       "      <td>207.0</td>\n",
       "      <td>1.0</td>\n",
       "    </tr>\n",
       "    <tr>\n",
       "      <th>2997</th>\n",
       "      <td>Female</td>\n",
       "      <td>46.0</td>\n",
       "      <td>1.0</td>\n",
       "      <td>28.0</td>\n",
       "      <td>0.0</td>\n",
       "      <td>&gt; 2 Years</td>\n",
       "      <td>Yes</td>\n",
       "      <td>40790.0</td>\n",
       "      <td>26.0</td>\n",
       "      <td>43.0</td>\n",
       "      <td>0.0</td>\n",
       "    </tr>\n",
       "    <tr>\n",
       "      <th>2998</th>\n",
       "      <td>Male</td>\n",
       "      <td>36.0</td>\n",
       "      <td>1.0</td>\n",
       "      <td>NaN</td>\n",
       "      <td>0.0</td>\n",
       "      <td>1-2 Year</td>\n",
       "      <td>Yes</td>\n",
       "      <td>40803.0</td>\n",
       "      <td>124.0</td>\n",
       "      <td>254.0</td>\n",
       "      <td>0.0</td>\n",
       "    </tr>\n",
       "    <tr>\n",
       "      <th>2999</th>\n",
       "      <td>Male</td>\n",
       "      <td>49.0</td>\n",
       "      <td>1.0</td>\n",
       "      <td>28.0</td>\n",
       "      <td>0.0</td>\n",
       "      <td>NaN</td>\n",
       "      <td>Yes</td>\n",
       "      <td>57197.0</td>\n",
       "      <td>26.0</td>\n",
       "      <td>129.0</td>\n",
       "      <td>0.0</td>\n",
       "    </tr>\n",
       "  </tbody>\n",
       "</table>\n",
       "<p>3000 rows × 11 columns</p>\n",
       "</div>"
      ],
      "text/plain": [
       "      Gender   Age  Driving_License  Region_Code  Previously_Insured  \\\n",
       "0       Male  44.0              1.0         28.0                 0.0   \n",
       "1       Male  76.0              1.0          3.0                 0.0   \n",
       "2       Male  47.0              1.0         28.0                 0.0   \n",
       "3       Male  21.0              1.0         11.0                 1.0   \n",
       "4     Female   NaN              1.0         41.0                 NaN   \n",
       "...      ...   ...              ...          ...                 ...   \n",
       "2995     NaN  74.0              1.0         46.0                 0.0   \n",
       "2996    Male   NaN              1.0         28.0                 0.0   \n",
       "2997  Female  46.0              1.0         28.0                 0.0   \n",
       "2998    Male  36.0              1.0          NaN                 0.0   \n",
       "2999    Male  49.0              1.0         28.0                 0.0   \n",
       "\n",
       "     Vehicle_Age Vehicle_Damage  Annual_Premium  Policy_Sales_Channel  \\\n",
       "0      > 2 Years            Yes             NaN                   NaN   \n",
       "1       1-2 Year             No         33536.0                  26.0   \n",
       "2      > 2 Years            Yes         38294.0                  26.0   \n",
       "3       < 1 Year             No         28619.0                 152.0   \n",
       "4       < 1 Year             No         27496.0                 152.0   \n",
       "...          ...            ...             ...                   ...   \n",
       "2995   > 2 Years            Yes          2630.0                  11.0   \n",
       "2996   > 2 Years            Yes         43780.0                  26.0   \n",
       "2997   > 2 Years            Yes         40790.0                  26.0   \n",
       "2998    1-2 Year            Yes         40803.0                 124.0   \n",
       "2999         NaN            Yes         57197.0                  26.0   \n",
       "\n",
       "      Vintage  Response  \n",
       "0       217.0       1.0  \n",
       "1       183.0       0.0  \n",
       "2        27.0       NaN  \n",
       "3       203.0       0.0  \n",
       "4        39.0       0.0  \n",
       "...       ...       ...  \n",
       "2995    231.0       NaN  \n",
       "2996    207.0       1.0  \n",
       "2997     43.0       0.0  \n",
       "2998    254.0       0.0  \n",
       "2999    129.0       0.0  \n",
       "\n",
       "[3000 rows x 11 columns]"
      ]
     },
     "execution_count": 97,
     "metadata": {},
     "output_type": "execute_result"
    }
   ],
   "source": [
    "df_nulls"
   ]
  },
  {
   "cell_type": "markdown",
   "id": "d20f668d",
   "metadata": {},
   "source": [
    "#### fill nan values"
   ]
  },
  {
   "cell_type": "code",
   "execution_count": 98,
   "id": "3dd99465",
   "metadata": {},
   "outputs": [
    {
     "data": {
      "text/plain": [
       "Gender                  289\n",
       "Age                     312\n",
       "Driving_License         295\n",
       "Region_Code             305\n",
       "Previously_Insured      288\n",
       "Vehicle_Age             289\n",
       "Vehicle_Damage          294\n",
       "Annual_Premium          333\n",
       "Policy_Sales_Channel    299\n",
       "Vintage                 320\n",
       "Response                289\n",
       "dtype: int64"
      ]
     },
     "execution_count": 98,
     "metadata": {},
     "output_type": "execute_result"
    }
   ],
   "source": [
    "df_nulls.isna().sum()"
   ]
  },
  {
   "cell_type": "code",
   "execution_count": 99,
   "id": "d87d5e51",
   "metadata": {},
   "outputs": [],
   "source": [
    "nunique_values={}\n",
    "for col in df_nulls:\n",
    "    nunique_values[col]=df_nulls[col].nunique()"
   ]
  },
  {
   "cell_type": "code",
   "execution_count": 100,
   "id": "572cf511",
   "metadata": {
    "scrolled": true
   },
   "outputs": [
    {
     "data": {
      "text/plain": [
       "{'Gender': 2,\n",
       " 'Age': 63,\n",
       " 'Driving_License': 2,\n",
       " 'Region_Code': 51,\n",
       " 'Previously_Insured': 2,\n",
       " 'Vehicle_Age': 3,\n",
       " 'Vehicle_Damage': 2,\n",
       " 'Annual_Premium': 2170,\n",
       " 'Policy_Sales_Channel': 66,\n",
       " 'Vintage': 290,\n",
       " 'Response': 2}"
      ]
     },
     "execution_count": 100,
     "metadata": {},
     "output_type": "execute_result"
    }
   ],
   "source": [
    "nunique_values"
   ]
  },
  {
   "cell_type": "code",
   "execution_count": 101,
   "id": "b27dc7cb",
   "metadata": {},
   "outputs": [],
   "source": [
    "df_null_cat=df_nulls[['Region_Code', 'Vehicle_Age',  'Policy_Sales_Channel', 'Vintage']]"
   ]
  },
  {
   "cell_type": "code",
   "execution_count": 102,
   "id": "47e740c4",
   "metadata": {},
   "outputs": [],
   "source": [
    "df_null_flag=df_nulls[['Gender', 'Driving_License',  'Previously_Insured', 'Vehicle_Damage', 'Response']]"
   ]
  },
  {
   "cell_type": "code",
   "execution_count": 103,
   "id": "d3ae5db1",
   "metadata": {},
   "outputs": [],
   "source": [
    "df_null_num=df_nulls[['Age', 'Annual_Premium']]"
   ]
  },
  {
   "cell_type": "code",
   "execution_count": 104,
   "id": "91fbe071",
   "metadata": {},
   "outputs": [],
   "source": [
    "dict_value_cat={}\n",
    "for col in df_null_cat:\n",
    "    dict_value_cat[col]=df_null_cat[col].value_counts()"
   ]
  },
  {
   "cell_type": "code",
   "execution_count": 105,
   "id": "d0c2e2cd",
   "metadata": {},
   "outputs": [],
   "source": [
    "dict_value_flag={}\n",
    "for col in df_null_flag:\n",
    "    dict_value_flag[col]=df_null_flag[col].value_counts()"
   ]
  },
  {
   "cell_type": "code",
   "execution_count": 106,
   "id": "41f0eac3",
   "metadata": {},
   "outputs": [],
   "source": [
    "dict_value_num={}\n",
    "for col in df_null_num:\n",
    "    dict_value_num[col]=df_null_num[col].value_counts()"
   ]
  },
  {
   "cell_type": "markdown",
   "id": "0df18ff4",
   "metadata": {},
   "source": [
    "#### fill nan for categoric values df"
   ]
  },
  {
   "cell_type": "code",
   "execution_count": 107,
   "id": "8bac6ce0",
   "metadata": {},
   "outputs": [],
   "source": [
    "dict_region=df_nulls['Region_Code'].value_counts().to_dict()\n",
    "\n",
    "keys_region=list(dict_region.keys())\n",
    "\n",
    "values_region=list(dict_region.values())/df_nulls['Region_Code'].notna().sum()*100\n",
    "\n",
    "for i in range(len(dict_region)):\n",
    "    dict_region[keys_region[i]]=values_region[i]\n",
    "#print(dict_region)    "
   ]
  },
  {
   "cell_type": "code",
   "execution_count": 108,
   "id": "e7d788a0",
   "metadata": {
    "scrolled": false
   },
   "outputs": [],
   "source": [
    "random_region=random.choices(keys_region, weights=tuple(values_region), k=len(df_nulls['Region_Code'].notna()))\n",
    "\n",
    "for n in range(len(random_region)):\n",
    "    df_nulls['Region_Code']=df_nulls['Region_Code'].fillna(random_region[n])"
   ]
  },
  {
   "cell_type": "markdown",
   "id": "a3a3a4e0",
   "metadata": {},
   "source": [
    "____"
   ]
  },
  {
   "cell_type": "code",
   "execution_count": 109,
   "id": "52d84560",
   "metadata": {},
   "outputs": [
    {
     "name": "stdout",
     "output_type": "stream",
     "text": [
      "{'1-2 Year': 51.12504610844707, '< 1 Year': 44.30099594245666, '> 2 Years': 4.5739579490962745}\n"
     ]
    }
   ],
   "source": [
    "dict_vehicle=df_nulls['Vehicle_Age'].value_counts().to_dict()\n",
    "\n",
    "keys_vehicle=list(dict_vehicle.keys())\n",
    "\n",
    "values_vehicle=list(dict_vehicle.values())/df_nulls['Vehicle_Age'].notna().sum()*100\n",
    "\n",
    "for i in range(len(dict_vehicle)):\n",
    "    dict_vehicle[keys_vehicle[i]]=values_vehicle[i]\n",
    "print(dict_vehicle)    "
   ]
  },
  {
   "cell_type": "code",
   "execution_count": 110,
   "id": "6b164192",
   "metadata": {},
   "outputs": [],
   "source": [
    "random_vehicle=random.choices(keys_vehicle, weights=tuple(values_vehicle), k=len(df_nulls['Vehicle_Age'].notna()))\n",
    "\n",
    "for n in range(len(random_vehicle)):\n",
    "    df_nulls['Vehicle_Age']=df_nulls['Vehicle_Age'].fillna(random_vehicle[n])"
   ]
  },
  {
   "cell_type": "markdown",
   "id": "9299f8f7",
   "metadata": {},
   "source": [
    "___"
   ]
  },
  {
   "cell_type": "code",
   "execution_count": 111,
   "id": "745724e2",
   "metadata": {},
   "outputs": [],
   "source": [
    "dict_sales=df_nulls['Policy_Sales_Channel'].value_counts().to_dict()\n",
    "\n",
    "keys_sales=list(dict_sales.keys())\n",
    "\n",
    "values_sales=list(dict_sales.values())/df_nulls['Policy_Sales_Channel'].notna().sum()*100\n",
    "\n",
    "for i in range(len(dict_sales)):\n",
    "    dict_sales[keys_sales[i]]=values_sales[i]\n",
    "#print(dict_sales)    "
   ]
  },
  {
   "cell_type": "code",
   "execution_count": 112,
   "id": "f40cadd4",
   "metadata": {},
   "outputs": [],
   "source": [
    "random_sales=random.choices(keys_sales, weights=tuple(values_sales), k=len(df_nulls['Policy_Sales_Channel'].notna()))\n",
    "\n",
    "for n in range(len(random_sales)):\n",
    "    df_nulls['Policy_Sales_Channel']=df_nulls['Policy_Sales_Channel'].fillna(random_sales[n])"
   ]
  },
  {
   "cell_type": "markdown",
   "id": "89fdae0a",
   "metadata": {},
   "source": [
    "____"
   ]
  },
  {
   "cell_type": "code",
   "execution_count": 113,
   "id": "7cd9c1c4",
   "metadata": {},
   "outputs": [],
   "source": [
    "dict_vintage=df_nulls['Vintage'].value_counts().to_dict()\n",
    "\n",
    "keys_vintage=list(dict_vintage.keys())\n",
    "\n",
    "values_vintage=list(dict_vintage.values())/df_nulls['Vintage'].notna().sum()*100\n",
    "\n",
    "for i in range(len(dict_vintage)):\n",
    "    dict_vintage[keys_vintage[i]]=values_vintage[i]\n",
    "#print(dict_vintage)    "
   ]
  },
  {
   "cell_type": "code",
   "execution_count": 114,
   "id": "bcea52be",
   "metadata": {},
   "outputs": [],
   "source": [
    "random_vintage=random.choices(keys_vintage, weights=tuple(values_vintage), k=len(df_nulls['Vintage'].notna()))\n",
    "\n",
    "for n in range(len(random_vintage)):\n",
    "    df_nulls['Vintage']=df_nulls['Vintage'].fillna(random_vintage[n])"
   ]
  },
  {
   "cell_type": "markdown",
   "id": "dbe6540a",
   "metadata": {},
   "source": [
    "#### fill nan for flag values df\n"
   ]
  },
  {
   "cell_type": "code",
   "execution_count": 115,
   "id": "b7f20920",
   "metadata": {
    "scrolled": true
   },
   "outputs": [
    {
     "data": {
      "text/plain": [
       "{'Gender': Male      1443\n",
       " Female    1268\n",
       " Name: Gender, dtype: int64,\n",
       " 'Driving_License': 1.0    2698\n",
       " 0.0       7\n",
       " Name: Driving_License, dtype: int64,\n",
       " 'Previously_Insured': 0.0    1506\n",
       " 1.0    1206\n",
       " Name: Previously_Insured, dtype: int64,\n",
       " 'Vehicle_Damage': Yes    1408\n",
       " No     1298\n",
       " Name: Vehicle_Damage, dtype: int64,\n",
       " 'Response': 0.0    2386\n",
       " 1.0     325\n",
       " Name: Response, dtype: int64}"
      ]
     },
     "execution_count": 115,
     "metadata": {},
     "output_type": "execute_result"
    }
   ],
   "source": [
    "dict_value_flag"
   ]
  },
  {
   "cell_type": "code",
   "execution_count": 116,
   "id": "4683ffbf",
   "metadata": {},
   "outputs": [],
   "source": [
    "dict_gender=df_nulls['Gender'].value_counts().to_dict()\n",
    "\n",
    "keys_gender=list(dict_gender.keys())\n",
    "\n",
    "values_gender=list(dict_gender.values())/df_nulls['Gender'].notna().sum()*100\n",
    "\n",
    "for i in range(len(dict_gender)):\n",
    "    dict_gender[keys_gender[i]]=values_gender[i]\n",
    "#print(dict_vintage)    "
   ]
  },
  {
   "cell_type": "code",
   "execution_count": 117,
   "id": "062446ac",
   "metadata": {},
   "outputs": [],
   "source": [
    "random_gender=random.choices(keys_gender, weights=tuple(values_gender), k=len(df_nulls['Gender'].notna()))\n",
    "\n",
    "for n in range(len(random_gender)):\n",
    "    df_nulls['Gender']=df_nulls['Gender'].fillna(random_gender[n])"
   ]
  },
  {
   "cell_type": "markdown",
   "id": "895711b9",
   "metadata": {},
   "source": [
    "______"
   ]
  },
  {
   "cell_type": "code",
   "execution_count": 118,
   "id": "4f7ce663",
   "metadata": {
    "scrolled": true
   },
   "outputs": [],
   "source": [
    "df_nulls['Driving_License']=df_nulls['Driving_License'].fillna(df_nulls['Driving_License'].mode()[0])"
   ]
  },
  {
   "cell_type": "markdown",
   "id": "21914945",
   "metadata": {},
   "source": [
    "___"
   ]
  },
  {
   "cell_type": "code",
   "execution_count": 119,
   "id": "430ed7eb",
   "metadata": {},
   "outputs": [],
   "source": [
    "df_nulls['Response']=df_nulls['Response'].fillna(df_nulls['Response'].mode()[0])"
   ]
  },
  {
   "cell_type": "markdown",
   "id": "6ff80f66",
   "metadata": {},
   "source": [
    "___"
   ]
  },
  {
   "cell_type": "code",
   "execution_count": 120,
   "id": "6654144b",
   "metadata": {},
   "outputs": [],
   "source": [
    "dict_insured=df_nulls['Previously_Insured'].value_counts().to_dict()\n",
    "\n",
    "keys_insured=list(dict_insured.keys())\n",
    "\n",
    "values_insured=list(dict_insured.values())/df_nulls['Previously_Insured'].notna().sum()*100\n",
    "\n",
    "for i in range(len(dict_insured)):\n",
    "    dict_insured[keys_insured[i]]=values_insured[i]\n",
    "#print(dict_insured)"
   ]
  },
  {
   "cell_type": "code",
   "execution_count": 121,
   "id": "627ccb67",
   "metadata": {},
   "outputs": [],
   "source": [
    "random_insured=random.choices(keys_insured, weights=tuple(values_insured), k=len(df_nulls['Previously_Insured'].notna()))\n",
    "\n",
    "for n in range(len(random_insured)):\n",
    "    df_nulls['Previously_Insured']=df_nulls['Previously_Insured'].fillna(random_insured[n])"
   ]
  },
  {
   "cell_type": "markdown",
   "id": "0164cc2c",
   "metadata": {},
   "source": [
    "___"
   ]
  },
  {
   "cell_type": "code",
   "execution_count": 122,
   "id": "48c7ce1c",
   "metadata": {},
   "outputs": [],
   "source": [
    "dict_damage=df_nulls['Vehicle_Damage'].value_counts().to_dict()\n",
    "\n",
    "keys_damage=list(dict_damage.keys())\n",
    "\n",
    "values_damage=list(dict_damage.values())/df_nulls['Vehicle_Damage'].notna().sum()*100\n",
    "\n",
    "for i in range(len(dict_damage)):\n",
    "    dict_damage[keys_damage[i]]=values_damage[i]\n",
    "#print(dict_damage)"
   ]
  },
  {
   "cell_type": "code",
   "execution_count": 123,
   "id": "0bca1124",
   "metadata": {},
   "outputs": [],
   "source": [
    "random_damage=random.choices(keys_damage, weights=tuple(values_damage), k=len(df_nulls['Vehicle_Damage'].notna()))\n",
    "\n",
    "for n in range(len(random_damage)):\n",
    "    df_nulls['Vehicle_Damage']=df_nulls['Vehicle_Damage'].fillna(random_damage[n])"
   ]
  },
  {
   "cell_type": "markdown",
   "id": "40334075",
   "metadata": {},
   "source": [
    "#### fill nan for numeric values df\n"
   ]
  },
  {
   "cell_type": "code",
   "execution_count": 124,
   "id": "9fd87f89",
   "metadata": {
    "scrolled": true
   },
   "outputs": [
    {
     "data": {
      "text/plain": [
       "{'Age': 24.0    201\n",
       " 23.0    173\n",
       " 22.0    153\n",
       " 25.0    151\n",
       " 21.0    121\n",
       "        ... \n",
       " 74.0      7\n",
       " 79.0      6\n",
       " 80.0      2\n",
       " 81.0      1\n",
       " 83.0      1\n",
       " Name: Age, Length: 63, dtype: int64,\n",
       " 'Annual_Premium': 2630.0     433\n",
       " 36282.0      3\n",
       " 28190.0      2\n",
       " 37107.0      2\n",
       " 33685.0      2\n",
       "           ... \n",
       " 37768.0      1\n",
       " 32485.0      1\n",
       " 31231.0      1\n",
       " 20804.0      1\n",
       " 57197.0      1\n",
       " Name: Annual_Premium, Length: 2170, dtype: int64}"
      ]
     },
     "execution_count": 124,
     "metadata": {},
     "output_type": "execute_result"
    }
   ],
   "source": [
    "dict_value_num"
   ]
  },
  {
   "cell_type": "code",
   "execution_count": 125,
   "id": "e1c11d8e",
   "metadata": {},
   "outputs": [],
   "source": [
    "dict_age=df_nulls['Age'].value_counts().to_dict()\n",
    "\n",
    "keys_age=list(dict_age.keys())\n",
    "\n",
    "values_age=list(dict_age.values())/df_nulls['Age'].notna().sum()*100\n",
    "\n",
    "for i in range(len(dict_age)):\n",
    "    dict_age[keys_age[i]]=values_age[i]\n",
    "#print(dict_age)"
   ]
  },
  {
   "cell_type": "code",
   "execution_count": 126,
   "id": "77567ae5",
   "metadata": {},
   "outputs": [],
   "source": [
    "random_age=random.choices(keys_age, weights=tuple(values_age), k=len(df_nulls['Age'].notna()))\n",
    "\n",
    "for n in range(len(random_age)):\n",
    "    df_nulls['Age']=df_nulls['Age'].fillna(random_age[n])"
   ]
  },
  {
   "cell_type": "markdown",
   "id": "27faac86",
   "metadata": {},
   "source": [
    "_______"
   ]
  },
  {
   "cell_type": "code",
   "execution_count": 127,
   "id": "eaffb302",
   "metadata": {},
   "outputs": [],
   "source": [
    "dict_annual=df_nulls['Annual_Premium'].value_counts().to_dict()\n",
    "\n",
    "keys_annual=list(dict_annual.keys())\n",
    "\n",
    "values_annual=list(dict_annual.values())/df_nulls['Annual_Premium'].notna().sum()*100\n",
    "\n",
    "for i in range(len(dict_annual)):\n",
    "    dict_annual[keys_annual[i]]=values_annual[i]\n",
    "#print(dict_annual)"
   ]
  },
  {
   "cell_type": "code",
   "execution_count": 128,
   "id": "291c0905",
   "metadata": {},
   "outputs": [],
   "source": [
    "random_annual=random.choices(keys_annual, weights=tuple(values_annual), k=len(df_nulls['Annual_Premium'].notna()))\n",
    "\n",
    "for n in range(len(random_annual)):\n",
    "    df_nulls['Annual_Premium']=df_nulls['Annual_Premium'].fillna(random_annual[n])"
   ]
  },
  {
   "cell_type": "markdown",
   "id": "f29c0d19",
   "metadata": {},
   "source": [
    "___"
   ]
  },
  {
   "cell_type": "markdown",
   "id": "63060332",
   "metadata": {},
   "source": [
    "### Find distance for flag values"
   ]
  },
  {
   "cell_type": "code",
   "execution_count": 129,
   "id": "807ec9c0",
   "metadata": {},
   "outputs": [],
   "source": [
    "from scipy.spatial.distance import hamming\n"
   ]
  },
  {
   "cell_type": "code",
   "execution_count": 130,
   "id": "68fda04c",
   "metadata": {},
   "outputs": [],
   "source": [
    "import distance"
   ]
  },
  {
   "cell_type": "code",
   "execution_count": 131,
   "id": "70c1b9b5",
   "metadata": {},
   "outputs": [
    {
     "data": {
      "text/plain": [
       "0"
      ]
     },
     "execution_count": 131,
     "metadata": {},
     "output_type": "execute_result"
    }
   ],
   "source": [
    "distance.hamming(list(df_nulls['Vehicle_Damage'][1]), list( df['Vehicle_Damage'][1]))"
   ]
  },
  {
   "cell_type": "code",
   "execution_count": 132,
   "id": "80ebe749",
   "metadata": {},
   "outputs": [
    {
     "data": {
      "text/plain": [
       "'No'"
      ]
     },
     "execution_count": 132,
     "metadata": {},
     "output_type": "execute_result"
    }
   ],
   "source": [
    "list(df_nulls['Vehicle_Damage'])[1]"
   ]
  },
  {
   "cell_type": "code",
   "execution_count": 133,
   "id": "4b5634fb",
   "metadata": {},
   "outputs": [
    {
     "data": {
      "text/plain": [
       "'Male'"
      ]
     },
     "execution_count": 133,
     "metadata": {},
     "output_type": "execute_result"
    }
   ],
   "source": [
    "list(df_nulls['Gender'])[1]"
   ]
  },
  {
   "cell_type": "code",
   "execution_count": 134,
   "id": "dae425eb",
   "metadata": {
    "scrolled": true
   },
   "outputs": [],
   "source": [
    "\n",
    "d={}\n",
    "for col in df_null_flag:\n",
    "    l=[]\n",
    "    for i in range(len(df_nulls)):\n",
    "        l.append(hamming(list(df_nulls[col])[i], list(df[col])[i]))\n",
    "        d[col]=l"
   ]
  },
  {
   "cell_type": "code",
   "execution_count": 135,
   "id": "d35ddf20",
   "metadata": {},
   "outputs": [],
   "source": [
    "data=pd.DataFrame.from_dict(d, orient='index').T"
   ]
  },
  {
   "cell_type": "code",
   "execution_count": 136,
   "id": "7ccc2d42",
   "metadata": {
    "scrolled": false
   },
   "outputs": [
    {
     "data": {
      "text/html": [
       "<div>\n",
       "<style scoped>\n",
       "    .dataframe tbody tr th:only-of-type {\n",
       "        vertical-align: middle;\n",
       "    }\n",
       "\n",
       "    .dataframe tbody tr th {\n",
       "        vertical-align: top;\n",
       "    }\n",
       "\n",
       "    .dataframe thead th {\n",
       "        text-align: right;\n",
       "    }\n",
       "</style>\n",
       "<table border=\"1\" class=\"dataframe\">\n",
       "  <thead>\n",
       "    <tr style=\"text-align: right;\">\n",
       "      <th></th>\n",
       "      <th>Gender</th>\n",
       "      <th>Driving_License</th>\n",
       "      <th>Previously_Insured</th>\n",
       "      <th>Vehicle_Damage</th>\n",
       "      <th>Response</th>\n",
       "    </tr>\n",
       "  </thead>\n",
       "  <tbody>\n",
       "    <tr>\n",
       "      <th>0</th>\n",
       "      <td>0.0</td>\n",
       "      <td>0.0</td>\n",
       "      <td>0.0</td>\n",
       "      <td>0.0</td>\n",
       "      <td>0.0</td>\n",
       "    </tr>\n",
       "    <tr>\n",
       "      <th>1</th>\n",
       "      <td>0.0</td>\n",
       "      <td>0.0</td>\n",
       "      <td>0.0</td>\n",
       "      <td>0.0</td>\n",
       "      <td>0.0</td>\n",
       "    </tr>\n",
       "    <tr>\n",
       "      <th>2</th>\n",
       "      <td>0.0</td>\n",
       "      <td>0.0</td>\n",
       "      <td>0.0</td>\n",
       "      <td>0.0</td>\n",
       "      <td>1.0</td>\n",
       "    </tr>\n",
       "    <tr>\n",
       "      <th>3</th>\n",
       "      <td>0.0</td>\n",
       "      <td>0.0</td>\n",
       "      <td>0.0</td>\n",
       "      <td>0.0</td>\n",
       "      <td>0.0</td>\n",
       "    </tr>\n",
       "    <tr>\n",
       "      <th>4</th>\n",
       "      <td>0.0</td>\n",
       "      <td>0.0</td>\n",
       "      <td>1.0</td>\n",
       "      <td>0.0</td>\n",
       "      <td>0.0</td>\n",
       "    </tr>\n",
       "    <tr>\n",
       "      <th>...</th>\n",
       "      <td>...</td>\n",
       "      <td>...</td>\n",
       "      <td>...</td>\n",
       "      <td>...</td>\n",
       "      <td>...</td>\n",
       "    </tr>\n",
       "    <tr>\n",
       "      <th>2995</th>\n",
       "      <td>1.0</td>\n",
       "      <td>0.0</td>\n",
       "      <td>0.0</td>\n",
       "      <td>0.0</td>\n",
       "      <td>1.0</td>\n",
       "    </tr>\n",
       "    <tr>\n",
       "      <th>2996</th>\n",
       "      <td>0.0</td>\n",
       "      <td>0.0</td>\n",
       "      <td>0.0</td>\n",
       "      <td>0.0</td>\n",
       "      <td>0.0</td>\n",
       "    </tr>\n",
       "    <tr>\n",
       "      <th>2997</th>\n",
       "      <td>0.0</td>\n",
       "      <td>0.0</td>\n",
       "      <td>0.0</td>\n",
       "      <td>0.0</td>\n",
       "      <td>0.0</td>\n",
       "    </tr>\n",
       "    <tr>\n",
       "      <th>2998</th>\n",
       "      <td>0.0</td>\n",
       "      <td>0.0</td>\n",
       "      <td>0.0</td>\n",
       "      <td>0.0</td>\n",
       "      <td>0.0</td>\n",
       "    </tr>\n",
       "    <tr>\n",
       "      <th>2999</th>\n",
       "      <td>0.0</td>\n",
       "      <td>0.0</td>\n",
       "      <td>0.0</td>\n",
       "      <td>0.0</td>\n",
       "      <td>0.0</td>\n",
       "    </tr>\n",
       "  </tbody>\n",
       "</table>\n",
       "<p>3000 rows × 5 columns</p>\n",
       "</div>"
      ],
      "text/plain": [
       "      Gender  Driving_License  Previously_Insured  Vehicle_Damage  Response\n",
       "0        0.0              0.0                 0.0             0.0       0.0\n",
       "1        0.0              0.0                 0.0             0.0       0.0\n",
       "2        0.0              0.0                 0.0             0.0       1.0\n",
       "3        0.0              0.0                 0.0             0.0       0.0\n",
       "4        0.0              0.0                 1.0             0.0       0.0\n",
       "...      ...              ...                 ...             ...       ...\n",
       "2995     1.0              0.0                 0.0             0.0       1.0\n",
       "2996     0.0              0.0                 0.0             0.0       0.0\n",
       "2997     0.0              0.0                 0.0             0.0       0.0\n",
       "2998     0.0              0.0                 0.0             0.0       0.0\n",
       "2999     0.0              0.0                 0.0             0.0       0.0\n",
       "\n",
       "[3000 rows x 5 columns]"
      ]
     },
     "execution_count": 136,
     "metadata": {},
     "output_type": "execute_result"
    }
   ],
   "source": [
    "data"
   ]
  },
  {
   "cell_type": "code",
   "execution_count": 142,
   "id": "1ac76918",
   "metadata": {
    "scrolled": true
   },
   "outputs": [
    {
     "name": "stdout",
     "output_type": "stream",
     "text": [
      "0.0    2851\n",
      "1.0     149\n",
      "Name: Gender, dtype: int64\n",
      "0.0    2999\n",
      "1.0       1\n",
      "Name: Driving_License, dtype: int64\n",
      "0.0    2877\n",
      "1.0     123\n",
      "Name: Previously_Insured, dtype: int64\n",
      "0.0    2856\n",
      "1.0     144\n",
      "Name: Vehicle_Damage, dtype: int64\n",
      "0.0    2950\n",
      "1.0      50\n",
      "Name: Response, dtype: int64\n"
     ]
    }
   ],
   "source": [
    "\"\"\"\n",
    "Gender                  291\n",
    "Driving_License         284\n",
    "Previously_Insured      298\n",
    "Vehicle_Damage          292\n",
    "Annual_Premium          321\n",
    "Response                314\n",
    "\"\"\"\n",
    "#kac tane benzer olmayan value var gore biliriz\n",
    "#gender column'da 291 nan vardi, fillna etdik ve check 149 tanesi farkli oldu, driving license icin sonuc 1 tanesi uyumsuz\n",
    "\n",
    "\n",
    "for col in data:\n",
    "    print(data[col].value_counts())"
   ]
  },
  {
   "cell_type": "markdown",
   "id": "9562e63f",
   "metadata": {},
   "source": [
    "### Find distance for categoric values"
   ]
  },
  {
   "cell_type": "code",
   "execution_count": 143,
   "id": "e90d5e64",
   "metadata": {
    "scrolled": true
   },
   "outputs": [
    {
     "data": {
      "text/html": [
       "<div>\n",
       "<style scoped>\n",
       "    .dataframe tbody tr th:only-of-type {\n",
       "        vertical-align: middle;\n",
       "    }\n",
       "\n",
       "    .dataframe tbody tr th {\n",
       "        vertical-align: top;\n",
       "    }\n",
       "\n",
       "    .dataframe thead th {\n",
       "        text-align: right;\n",
       "    }\n",
       "</style>\n",
       "<table border=\"1\" class=\"dataframe\">\n",
       "  <thead>\n",
       "    <tr style=\"text-align: right;\">\n",
       "      <th></th>\n",
       "      <th>Region_Code</th>\n",
       "      <th>Vehicle_Age</th>\n",
       "      <th>Policy_Sales_Channel</th>\n",
       "      <th>Vintage</th>\n",
       "    </tr>\n",
       "  </thead>\n",
       "  <tbody>\n",
       "    <tr>\n",
       "      <th>0</th>\n",
       "      <td>28.0</td>\n",
       "      <td>&gt; 2 Years</td>\n",
       "      <td>NaN</td>\n",
       "      <td>217.0</td>\n",
       "    </tr>\n",
       "    <tr>\n",
       "      <th>1</th>\n",
       "      <td>3.0</td>\n",
       "      <td>1-2 Year</td>\n",
       "      <td>26.0</td>\n",
       "      <td>183.0</td>\n",
       "    </tr>\n",
       "    <tr>\n",
       "      <th>2</th>\n",
       "      <td>28.0</td>\n",
       "      <td>&gt; 2 Years</td>\n",
       "      <td>26.0</td>\n",
       "      <td>27.0</td>\n",
       "    </tr>\n",
       "    <tr>\n",
       "      <th>3</th>\n",
       "      <td>11.0</td>\n",
       "      <td>&lt; 1 Year</td>\n",
       "      <td>152.0</td>\n",
       "      <td>203.0</td>\n",
       "    </tr>\n",
       "    <tr>\n",
       "      <th>4</th>\n",
       "      <td>41.0</td>\n",
       "      <td>&lt; 1 Year</td>\n",
       "      <td>152.0</td>\n",
       "      <td>39.0</td>\n",
       "    </tr>\n",
       "    <tr>\n",
       "      <th>...</th>\n",
       "      <td>...</td>\n",
       "      <td>...</td>\n",
       "      <td>...</td>\n",
       "      <td>...</td>\n",
       "    </tr>\n",
       "    <tr>\n",
       "      <th>2995</th>\n",
       "      <td>46.0</td>\n",
       "      <td>&gt; 2 Years</td>\n",
       "      <td>11.0</td>\n",
       "      <td>231.0</td>\n",
       "    </tr>\n",
       "    <tr>\n",
       "      <th>2996</th>\n",
       "      <td>28.0</td>\n",
       "      <td>&gt; 2 Years</td>\n",
       "      <td>26.0</td>\n",
       "      <td>207.0</td>\n",
       "    </tr>\n",
       "    <tr>\n",
       "      <th>2997</th>\n",
       "      <td>28.0</td>\n",
       "      <td>&gt; 2 Years</td>\n",
       "      <td>26.0</td>\n",
       "      <td>43.0</td>\n",
       "    </tr>\n",
       "    <tr>\n",
       "      <th>2998</th>\n",
       "      <td>NaN</td>\n",
       "      <td>1-2 Year</td>\n",
       "      <td>124.0</td>\n",
       "      <td>254.0</td>\n",
       "    </tr>\n",
       "    <tr>\n",
       "      <th>2999</th>\n",
       "      <td>28.0</td>\n",
       "      <td>NaN</td>\n",
       "      <td>26.0</td>\n",
       "      <td>129.0</td>\n",
       "    </tr>\n",
       "  </tbody>\n",
       "</table>\n",
       "<p>3000 rows × 4 columns</p>\n",
       "</div>"
      ],
      "text/plain": [
       "      Region_Code Vehicle_Age  Policy_Sales_Channel  Vintage\n",
       "0            28.0   > 2 Years                   NaN    217.0\n",
       "1             3.0    1-2 Year                  26.0    183.0\n",
       "2            28.0   > 2 Years                  26.0     27.0\n",
       "3            11.0    < 1 Year                 152.0    203.0\n",
       "4            41.0    < 1 Year                 152.0     39.0\n",
       "...           ...         ...                   ...      ...\n",
       "2995         46.0   > 2 Years                  11.0    231.0\n",
       "2996         28.0   > 2 Years                  26.0    207.0\n",
       "2997         28.0   > 2 Years                  26.0     43.0\n",
       "2998          NaN    1-2 Year                 124.0    254.0\n",
       "2999         28.0         NaN                  26.0    129.0\n",
       "\n",
       "[3000 rows x 4 columns]"
      ]
     },
     "execution_count": 143,
     "metadata": {},
     "output_type": "execute_result"
    }
   ],
   "source": [
    "df_null_cat"
   ]
  },
  {
   "cell_type": "code",
   "execution_count": 144,
   "id": "60093cb6",
   "metadata": {},
   "outputs": [
    {
     "name": "stderr",
     "output_type": "stream",
     "text": [
      "C:\\Users\\Acer\\anaconda3\\lib\\site-packages\\scipy\\spatial\\distance.py:798: FutureWarning: elementwise comparison failed; returning scalar instead, but in the future will perform elementwise comparison\n",
      "  u_ne_v = u != v\n"
     ]
    }
   ],
   "source": [
    "d_cat={}\n",
    "for col in df_null_cat:\n",
    "    l_cat=[]\n",
    "    for i in range(len(df)):\n",
    "        l_cat.append(hamming(list(df[col])[i], list(df_null_cat[col])[i]))\n",
    "    d_cat[col]=l_cat"
   ]
  },
  {
   "cell_type": "code",
   "execution_count": 145,
   "id": "81c98e95",
   "metadata": {},
   "outputs": [],
   "source": [
    "data_cat=pd.DataFrame.from_dict(d_cat, orient='index').T"
   ]
  },
  {
   "cell_type": "code",
   "execution_count": 146,
   "id": "5a5ab31e",
   "metadata": {
    "scrolled": true
   },
   "outputs": [
    {
     "data": {
      "text/html": [
       "<div>\n",
       "<style scoped>\n",
       "    .dataframe tbody tr th:only-of-type {\n",
       "        vertical-align: middle;\n",
       "    }\n",
       "\n",
       "    .dataframe tbody tr th {\n",
       "        vertical-align: top;\n",
       "    }\n",
       "\n",
       "    .dataframe thead th {\n",
       "        text-align: right;\n",
       "    }\n",
       "</style>\n",
       "<table border=\"1\" class=\"dataframe\">\n",
       "  <thead>\n",
       "    <tr style=\"text-align: right;\">\n",
       "      <th></th>\n",
       "      <th>Region_Code</th>\n",
       "      <th>Vehicle_Age</th>\n",
       "      <th>Policy_Sales_Channel</th>\n",
       "      <th>Vintage</th>\n",
       "    </tr>\n",
       "  </thead>\n",
       "  <tbody>\n",
       "    <tr>\n",
       "      <th>0</th>\n",
       "      <td>0.0</td>\n",
       "      <td>0.0</td>\n",
       "      <td>1.0</td>\n",
       "      <td>0.0</td>\n",
       "    </tr>\n",
       "    <tr>\n",
       "      <th>1</th>\n",
       "      <td>0.0</td>\n",
       "      <td>0.0</td>\n",
       "      <td>0.0</td>\n",
       "      <td>0.0</td>\n",
       "    </tr>\n",
       "    <tr>\n",
       "      <th>2</th>\n",
       "      <td>0.0</td>\n",
       "      <td>0.0</td>\n",
       "      <td>0.0</td>\n",
       "      <td>0.0</td>\n",
       "    </tr>\n",
       "    <tr>\n",
       "      <th>3</th>\n",
       "      <td>0.0</td>\n",
       "      <td>0.0</td>\n",
       "      <td>0.0</td>\n",
       "      <td>0.0</td>\n",
       "    </tr>\n",
       "    <tr>\n",
       "      <th>4</th>\n",
       "      <td>0.0</td>\n",
       "      <td>0.0</td>\n",
       "      <td>0.0</td>\n",
       "      <td>0.0</td>\n",
       "    </tr>\n",
       "    <tr>\n",
       "      <th>...</th>\n",
       "      <td>...</td>\n",
       "      <td>...</td>\n",
       "      <td>...</td>\n",
       "      <td>...</td>\n",
       "    </tr>\n",
       "    <tr>\n",
       "      <th>2995</th>\n",
       "      <td>0.0</td>\n",
       "      <td>0.0</td>\n",
       "      <td>0.0</td>\n",
       "      <td>0.0</td>\n",
       "    </tr>\n",
       "    <tr>\n",
       "      <th>2996</th>\n",
       "      <td>0.0</td>\n",
       "      <td>0.0</td>\n",
       "      <td>0.0</td>\n",
       "      <td>0.0</td>\n",
       "    </tr>\n",
       "    <tr>\n",
       "      <th>2997</th>\n",
       "      <td>0.0</td>\n",
       "      <td>0.0</td>\n",
       "      <td>0.0</td>\n",
       "      <td>0.0</td>\n",
       "    </tr>\n",
       "    <tr>\n",
       "      <th>2998</th>\n",
       "      <td>1.0</td>\n",
       "      <td>0.0</td>\n",
       "      <td>0.0</td>\n",
       "      <td>0.0</td>\n",
       "    </tr>\n",
       "    <tr>\n",
       "      <th>2999</th>\n",
       "      <td>0.0</td>\n",
       "      <td>1.0</td>\n",
       "      <td>0.0</td>\n",
       "      <td>0.0</td>\n",
       "    </tr>\n",
       "  </tbody>\n",
       "</table>\n",
       "<p>3000 rows × 4 columns</p>\n",
       "</div>"
      ],
      "text/plain": [
       "      Region_Code  Vehicle_Age  Policy_Sales_Channel  Vintage\n",
       "0             0.0          0.0                   1.0      0.0\n",
       "1             0.0          0.0                   0.0      0.0\n",
       "2             0.0          0.0                   0.0      0.0\n",
       "3             0.0          0.0                   0.0      0.0\n",
       "4             0.0          0.0                   0.0      0.0\n",
       "...           ...          ...                   ...      ...\n",
       "2995          0.0          0.0                   0.0      0.0\n",
       "2996          0.0          0.0                   0.0      0.0\n",
       "2997          0.0          0.0                   0.0      0.0\n",
       "2998          1.0          0.0                   0.0      0.0\n",
       "2999          0.0          1.0                   0.0      0.0\n",
       "\n",
       "[3000 rows x 4 columns]"
      ]
     },
     "execution_count": 146,
     "metadata": {},
     "output_type": "execute_result"
    }
   ],
   "source": [
    "data_cat"
   ]
  },
  {
   "cell_type": "code",
   "execution_count": 147,
   "id": "44896f25",
   "metadata": {
    "scrolled": false
   },
   "outputs": [
    {
     "name": "stdout",
     "output_type": "stream",
     "text": [
      "0.0    2695\n",
      "1.0     305\n",
      "Name: Region_Code, dtype: int64\n",
      "0.0    2711\n",
      "1.0     289\n",
      "Name: Vehicle_Age, dtype: int64\n",
      "0.0    2701\n",
      "1.0     299\n",
      "Name: Policy_Sales_Channel, dtype: int64\n",
      "0.0    2680\n",
      "1.0     320\n",
      "Name: Vintage, dtype: int64\n"
     ]
    }
   ],
   "source": [
    "\"\"\"\n",
    "Region_Code             295\n",
    "Vehicle_Age             313\n",
    "Policy_Sales_Channel    278\n",
    "Vintage                 303\n",
    "\"\"\"\n",
    "\n",
    "for col in data_cat:\n",
    "    print(data_cat[col].value_counts())"
   ]
  },
  {
   "cell_type": "markdown",
   "id": "e5c5bda2",
   "metadata": {},
   "source": [
    "### Find distance for numeric values\n"
   ]
  },
  {
   "cell_type": "code",
   "execution_count": 148,
   "id": "8d8cfec7",
   "metadata": {
    "scrolled": false
   },
   "outputs": [
    {
     "data": {
      "text/plain": [
       "0        2630.0\n",
       "1       33536.0\n",
       "2       38294.0\n",
       "3       28619.0\n",
       "4       27496.0\n",
       "         ...   \n",
       "2995     2630.0\n",
       "2996    43780.0\n",
       "2997    40790.0\n",
       "2998    40803.0\n",
       "2999    57197.0\n",
       "Name: Annual_Premium, Length: 3000, dtype: float64"
      ]
     },
     "execution_count": 148,
     "metadata": {},
     "output_type": "execute_result"
    }
   ],
   "source": [
    "df_nulls['Annual_Premium']"
   ]
  },
  {
   "cell_type": "code",
   "execution_count": 149,
   "id": "d2a0334f",
   "metadata": {},
   "outputs": [],
   "source": [
    "def Euclidean_Dist(df1, df2, cols=['Age', 'Annual_Premium' ]):\n",
    "    return np.linalg.norm(df1[cols].values - df2[cols].values,\n",
    "                   axis=1)"
   ]
  },
  {
   "cell_type": "code",
   "execution_count": 150,
   "id": "1433848c",
   "metadata": {
    "scrolled": true
   },
   "outputs": [
    {
     "data": {
      "text/plain": [
       "array([37824.,     0.,     0., ...,     0.,     0.,     0.])"
      ]
     },
     "execution_count": 150,
     "metadata": {},
     "output_type": "execute_result"
    }
   ],
   "source": [
    "Euclidean_Dist(df, df_nulls)"
   ]
  },
  {
   "cell_type": "code",
   "execution_count": null,
   "id": "1cddfb56",
   "metadata": {},
   "outputs": [],
   "source": []
  }
 ],
 "metadata": {
  "kernelspec": {
   "display_name": "Python 3 (ipykernel)",
   "language": "python",
   "name": "python3"
  },
  "language_info": {
   "codemirror_mode": {
    "name": "ipython",
    "version": 3
   },
   "file_extension": ".py",
   "mimetype": "text/x-python",
   "name": "python",
   "nbconvert_exporter": "python",
   "pygments_lexer": "ipython3",
   "version": "3.9.7"
  }
 },
 "nbformat": 4,
 "nbformat_minor": 5
}
