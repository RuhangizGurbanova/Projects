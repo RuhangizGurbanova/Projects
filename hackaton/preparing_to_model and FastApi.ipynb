{
 "cells": [
  {
   "cell_type": "code",
   "execution_count": 15,
   "id": "435d415c",
   "metadata": {},
   "outputs": [],
   "source": [
    "import pandas as pd\n",
    "import numpy as np\n",
    "import warnings\n",
    "warnings.filterwarnings('ignore')\n",
    "import pickle\n",
    "\n",
    "\n",
    "\n",
    "\n",
    "def preProcessRow( row: dict ):\n",
    "       \n",
    "    row['age']=(row['age']-20)/124\n",
    "    row['salary']=(row['salary']-4000)/5996000\n",
    "    \n",
    "    if row['home_ownership']=='RENT':\n",
    "        row['home_ownership'] = 0.312350\n",
    "    elif row['home_ownership']=='MORTGAGE':\n",
    "        row['home_ownership'] = 0.125837 \n",
    "    elif row['home_ownership']=='OWN':\n",
    "        row['home_ownership'] = 0.066606\n",
    "    else:\n",
    "        row['home_ownership'] = 0.287234\n",
    "        \n",
    "    if row['loan_purposes']=='EDUCATION':\n",
    "        row['loan_purposes'] = 0.170231\n",
    "    elif row['loan_purposes']=='MEDICAL':\n",
    "        row['loan_purposes'] = 0.268468 \n",
    "    elif row['loan_purposes']=='HOMEIMPROVEMENT':\n",
    "        row['loan_purposes'] = 0.256723\n",
    "    elif row['loan_purposes']=='DEBTCONSOLIDATION':\n",
    "        row['loan_purposes'] = 0.283899\n",
    "    elif row['loan_purposes']=='VENTURE':\n",
    "        row['loan_purposes'] = 0.146171    \n",
    "    else:\n",
    "        row['loan_purposes'] = 0.197457\n",
    "        \n",
    "    #row['Payment_History']=row['Payment_History'].apply(lambda value: 0 if value=='N' else 1)    \n",
    "    \n",
    "    row['salary']=np.sqrt(row['salary'])\n",
    "    row['loan_rate']=np.power(row['loan_rate'], 2)\n",
    "    row['loan_percentage']=np.cos(row['loan_percentage'])\n",
    "\n",
    "    \n",
    "    return row"
   ]
  },
  {
   "cell_type": "code",
   "execution_count": null,
   "id": "a9ce0180",
   "metadata": {},
   "outputs": [
    {
     "name": "stderr",
     "output_type": "stream",
     "text": [
      "INFO:     Started server process [9624]\n",
      "INFO:     Waiting for application startup.\n",
      "INFO:     Application startup complete.\n",
      "INFO:     Uvicorn running on http://0.0.0.0:5000 (Press CTRL+C to quit)\n"
     ]
    },
    {
     "name": "stdout",
     "output_type": "stream",
     "text": [
      "INFO:     127.0.0.1:59099 - \"POST /predict?data={%22age%22:%2018,%20%22salary%22:%2017000,%20%22home_ownership%22:%20%22RENT%22,%20%22employment_time%22:%203.0,%20%22loan_purposes%22:%20%22EDUCATION%22,%20%20%22Credit_Amount%22:%2012000,%20%22loan_rate%22:%207.9,%20%20%22loan_percentage%22:%203} HTTP/1.1\" 200 OK\n"
     ]
    }
   ],
   "source": [
    "import uvicorn\n",
    "from fastapi import FastAPI\n",
    "import nest_asyncio\n",
    "nest_asyncio.apply()\n",
    "import random\n",
    "import pickle\n",
    "import json\n",
    "\n",
    "app = FastAPI()\n",
    "\n",
    "#! Load the model\n",
    "# model = None\n",
    "with open('model.pickle', 'rb') as f:\n",
    "    model = pickle.load(f)\n",
    "    \n",
    "@app.post(\"/predict\")\n",
    "async def predict(data: str):\n",
    "    #! Try decoding data \n",
    "    data = json.loads(data)\n",
    "    #! Preprocess the data\n",
    "\n",
    "    row = preProcessRow( data )\n",
    "    row = list(row.values())\n",
    "    row = [float(r) for r in row]\n",
    "    return {\"result\": int(model.predict( [row] )[0])}\n",
    "    \n",
    "\n",
    "uvicorn.run(app, host=\"0.0.0.0\", port=5000)"
   ]
  },
  {
   "cell_type": "code",
   "execution_count": null,
   "id": "cef3ab45",
   "metadata": {},
   "outputs": [],
   "source": []
  },
  {
   "cell_type": "code",
   "execution_count": null,
   "id": "90ceec59",
   "metadata": {},
   "outputs": [],
   "source": []
  },
  {
   "cell_type": "code",
   "execution_count": null,
   "id": "17f0d822",
   "metadata": {},
   "outputs": [],
   "source": []
  },
  {
   "cell_type": "code",
   "execution_count": null,
   "id": "5e7d81b3",
   "metadata": {},
   "outputs": [],
   "source": []
  },
  {
   "cell_type": "code",
   "execution_count": null,
   "id": "49618342",
   "metadata": {},
   "outputs": [],
   "source": []
  },
  {
   "cell_type": "code",
   "execution_count": null,
   "id": "8a259452",
   "metadata": {},
   "outputs": [],
   "source": []
  },
  {
   "cell_type": "code",
   "execution_count": null,
   "id": "7a9451a1",
   "metadata": {},
   "outputs": [],
   "source": []
  },
  {
   "cell_type": "code",
   "execution_count": null,
   "id": "51ed93e1",
   "metadata": {},
   "outputs": [],
   "source": []
  },
  {
   "cell_type": "code",
   "execution_count": null,
   "id": "d64792d2",
   "metadata": {},
   "outputs": [],
   "source": []
  },
  {
   "cell_type": "code",
   "execution_count": null,
   "id": "20e61378",
   "metadata": {},
   "outputs": [],
   "source": []
  },
  {
   "cell_type": "code",
   "execution_count": null,
   "id": "9e232fc4",
   "metadata": {},
   "outputs": [],
   "source": []
  },
  {
   "cell_type": "code",
   "execution_count": null,
   "id": "126ceb5c",
   "metadata": {},
   "outputs": [],
   "source": []
  },
  {
   "cell_type": "code",
   "execution_count": null,
   "id": "6e0b40e2",
   "metadata": {},
   "outputs": [],
   "source": []
  }
 ],
 "metadata": {
  "kernelspec": {
   "display_name": "Python 3 (ipykernel)",
   "language": "python",
   "name": "python3"
  },
  "language_info": {
   "codemirror_mode": {
    "name": "ipython",
    "version": 3
   },
   "file_extension": ".py",
   "mimetype": "text/x-python",
   "name": "python",
   "nbconvert_exporter": "python",
   "pygments_lexer": "ipython3",
   "version": "3.9.7"
  }
 },
 "nbformat": 4,
 "nbformat_minor": 5
}
