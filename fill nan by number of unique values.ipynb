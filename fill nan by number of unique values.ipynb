{
 "cells": [
  {
   "cell_type": "code",
   "execution_count": 1,
   "id": "234cf0fb",
   "metadata": {},
   "outputs": [],
   "source": [
    "import pandas as pd\n",
    "import numpy as np\n",
    "import matplotlib.pyplot as plt\n",
    "import random"
   ]
  },
  {
   "cell_type": "code",
   "execution_count": 2,
   "id": "c814ed33",
   "metadata": {},
   "outputs": [],
   "source": [
    "df=pd.read_csv(r'C:/Users/Acer/Downloads/sales_data_sample.csv', encoding='Latin1')"
   ]
  },
  {
   "cell_type": "code",
   "execution_count": 4,
   "id": "8d8420dd",
   "metadata": {
    "scrolled": false
   },
   "outputs": [
    {
     "data": {
      "text/plain": [
       "ORDERNUMBER            0\n",
       "QUANTITYORDERED        0\n",
       "PRICEEACH              0\n",
       "ORDERLINENUMBER        0\n",
       "SALES                  0\n",
       "ORDERDATE              0\n",
       "STATUS                 0\n",
       "QTR_ID                 0\n",
       "MONTH_ID               0\n",
       "YEAR_ID                0\n",
       "PRODUCTLINE            0\n",
       "MSRP                   0\n",
       "PRODUCTCODE            0\n",
       "CUSTOMERNAME           0\n",
       "PHONE                  0\n",
       "ADDRESSLINE1           0\n",
       "ADDRESSLINE2        2521\n",
       "CITY                   0\n",
       "STATE               1486\n",
       "POSTALCODE            76\n",
       "COUNTRY                0\n",
       "TERRITORY           1074\n",
       "CONTACTLASTNAME        0\n",
       "CONTACTFIRSTNAME       0\n",
       "DEALSIZE               0\n",
       "dtype: int64"
      ]
     },
     "execution_count": 4,
     "metadata": {},
     "output_type": "execute_result"
    }
   ],
   "source": [
    "df.isna().sum()"
   ]
  },
  {
   "cell_type": "code",
   "execution_count": 5,
   "id": "439ed868",
   "metadata": {},
   "outputs": [],
   "source": [
    "df=df.dropna(axis=1, thresh=1000)"
   ]
  },
  {
   "cell_type": "code",
   "execution_count": 6,
   "id": "dafd894d",
   "metadata": {
    "scrolled": false
   },
   "outputs": [
    {
     "data": {
      "text/plain": [
       "array(['NY', nan, 'CA', 'Victoria', 'NJ', 'CT', 'MA', 'PA', 'NSW',\n",
       "       'Queensland', 'BC', 'Tokyo', 'NH', 'Quebec', 'Osaka',\n",
       "       'Isle of Wight', 'NV'], dtype=object)"
      ]
     },
     "execution_count": 6,
     "metadata": {},
     "output_type": "execute_result"
    }
   ],
   "source": [
    "df['STATE'].unique()"
   ]
  },
  {
   "cell_type": "code",
   "execution_count": 7,
   "id": "a9dbd94f",
   "metadata": {
    "scrolled": true
   },
   "outputs": [
    {
     "data": {
      "text/plain": [
       "16"
      ]
     },
     "execution_count": 7,
     "metadata": {},
     "output_type": "execute_result"
    }
   ],
   "source": [
    "df['STATE'].nunique()"
   ]
  },
  {
   "cell_type": "code",
   "execution_count": 19,
   "id": "9cffaaab",
   "metadata": {
    "scrolled": true
   },
   "outputs": [
    {
     "data": {
      "image/png": "[encoded data removed]",
      "text/plain": [
       "<Figure size 432x288 with 1 Axes>"
      ]
     },
     "metadata": {
      "needs_background": "light"
     },
     "output_type": "display_data"
    }
   ],
   "source": [
    "plt.hist(df[df['STATE'].notna()]['STATE'])\n",
    "plt.show()"
   ]
  },
  {
   "cell_type": "code",
   "execution_count": 20,
   "id": "963c6e33",
   "metadata": {
    "scrolled": true
   },
   "outputs": [],
   "source": [
    "dict_state=df['STATE'].value_counts().to_dict()"
   ]
  },
  {
   "cell_type": "code",
   "execution_count": 21,
   "id": "b77b7241",
   "metadata": {
    "scrolled": false
   },
   "outputs": [
    {
     "data": {
      "text/plain": [
       "{'CA': 416,\n",
       " 'MA': 190,\n",
       " 'NY': 178,\n",
       " 'NSW': 92,\n",
       " 'Victoria': 78,\n",
       " 'PA': 75,\n",
       " 'CT': 61,\n",
       " 'BC': 48,\n",
       " 'NH': 34,\n",
       " 'Tokyo': 32,\n",
       " 'NV': 29,\n",
       " 'Isle of Wight': 26,\n",
       " 'Quebec': 22,\n",
       " 'NJ': 21,\n",
       " 'Osaka': 20,\n",
       " 'Queensland': 15}"
      ]
     },
     "execution_count": 21,
     "metadata": {},
     "output_type": "execute_result"
    }
   ],
   "source": [
    "dict_state"
   ]
  },
  {
   "cell_type": "code",
   "execution_count": 22,
   "id": "fdf62158",
   "metadata": {},
   "outputs": [
    {
     "name": "stdout",
     "output_type": "stream",
     "text": [
      "{'CA': 31.114435302916977, 'MA': 14.210919970082273, 'NY': 13.313388182498132, 'NSW': 6.881077038145101, 'Victoria': 5.833956619296933, 'PA': 5.609573672400898, 'CT': 4.56245325355273, 'BC': 3.590127150336574, 'NH': 2.543006731488407, 'Tokyo': 2.393418100224383, 'NV': 2.169035153328347, 'Isle of Wight': 1.944652206432311, 'Quebec': 1.6454749439042633, 'NJ': 1.5706806282722512, 'Osaka': 1.4958863126402393, 'Queensland': 1.1219147344801794}\n"
     ]
    }
   ],
   "source": [
    "keys_state=list(dict_state.keys())\n",
    "\n",
    "values_state=list(dict_state.values())/df['STATE'].notna().sum()*100\n",
    "\n",
    "for i in range(len(dict_state)):\n",
    "    dict_state[keys_state[i]]=values_state[i]\n",
    "print(dict_state)    "
   ]
  },
  {
   "cell_type": "code",
   "execution_count": 23,
   "id": "ca9d7c31",
   "metadata": {
    "scrolled": false
   },
   "outputs": [
    {
     "data": {
      "text/plain": [
       "([<matplotlib.patches.Wedge at 0x1f3733b0250>,\n",
       "  <matplotlib.patches.Wedge at 0x1f3733b0820>,\n",
       "  <matplotlib.patches.Wedge at 0x1f3733b0d00>,\n",
       "  <matplotlib.patches.Wedge at 0x1f3733b7220>,\n",
       "  <matplotlib.patches.Wedge at 0x1f3733b7700>,\n",
       "  <matplotlib.patches.Wedge at 0x1f3733b7be0>,\n",
       "  <matplotlib.patches.Wedge at 0x1f3733bf100>,\n",
       "  <matplotlib.patches.Wedge at 0x1f3733bf5e0>,\n",
       "  <matplotlib.patches.Wedge at 0x1f3733bfac0>,\n",
       "  <matplotlib.patches.Wedge at 0x1f3733bffd0>,\n",
       "  <matplotlib.patches.Wedge at 0x1f373394100>,\n",
       "  <matplotlib.patches.Wedge at 0x1f3733c9940>,\n",
       "  <matplotlib.patches.Wedge at 0x1f3733c9e20>,\n",
       "  <matplotlib.patches.Wedge at 0x1f3733d1370>,\n",
       "  <matplotlib.patches.Wedge at 0x1f3733d1850>,\n",
       "  <matplotlib.patches.Wedge at 0x1f3733d1d30>],\n",
       " [Text(0.6150169571565643, 0.9120055605147815, 'CA'),\n",
       "  Text(-0.8121924170946976, 0.7418513851263426, 'MA'),\n",
       "  Text(-1.0914809770617588, -0.13663556166792146, 'NY'),\n",
       "  Text(-0.7981045752518012, -0.7569868472847741, 'NSW'),\n",
       "  Text(-0.4408681867579231, -1.007787299932273, 'Victoria'),\n",
       "  Text(-0.0581288685176486, -1.0984630328986307, 'PA'),\n",
       "  Text(0.2898987711643163, -1.0611120122199256, 'CT'),\n",
       "  Text(0.5492536258145779, -0.9530584738249483, 'BC'),\n",
       "  Text(0.7215890075122349, -0.830246532204446, 'NH'),\n",
       "  Text(0.8411701793466898, -0.7088248933113578, 'Tokyo'),\n",
       "  Text(0.9337951970478641, -0.5814004901703652, 'NV'),\n",
       "  Text(1.0009365184918069, -0.4562083799641353, 'Isle of Wight'),\n",
       "  Text(1.0459222644434278, -0.3406561561773577, 'Quebec'),\n",
       "  Text(1.0749488646806278, -0.23342008979912082, 'NJ'),\n",
       "  Text(1.0924170065559136, -0.12893829449553423, 'Osaka'),\n",
       "  Text(1.099316813367065, -0.03876266049282192, 'Queensland')])"
      ]
     },
     "execution_count": 23,
     "metadata": {},
     "output_type": "execute_result"
    },
    {
     "data": {
      "image/png": "[encoded data removed]",
      "text/plain": [
       "<Figure size 432x288 with 1 Axes>"
      ]
     },
     "metadata": {},
     "output_type": "display_data"
    }
   ],
   "source": [
    "plt.pie( dict_state.values(), labels = dict_state.keys() )"
   ]
  },
  {
   "cell_type": "code",
   "execution_count": 24,
   "id": "ccd55d18",
   "metadata": {
    "scrolled": true
   },
   "outputs": [
    {
     "name": "stderr",
     "output_type": "stream",
     "text": [
      "C:\\Users\\Acer\\AppData\\Local\\Temp/ipykernel_5816/2023702185.py:4: SettingWithCopyWarning: \n",
      "A value is trying to be set on a copy of a slice from a DataFrame.\n",
      "Try using .loc[row_indexer,col_indexer] = value instead\n",
      "\n",
      "See the caveats in the documentation: https://pandas.pydata.org/pandas-docs/stable/user_guide/indexing.html#returning-a-view-versus-a-copy\n",
      "  df['STATE']=df['STATE'].fillna(random_state[n])\n"
     ]
    }
   ],
   "source": [
    "random_state=random.choices(keys_state, weights=tuple(values_state), k=len(df['STATE'].notna()))\n",
    "\n",
    "for n in range(len(random_state)):\n",
    "    df['STATE']=df['STATE'].fillna(random_state[n])"
   ]
  },
  {
   "cell_type": "code",
   "execution_count": 25,
   "id": "0e2dd721",
   "metadata": {
    "scrolled": false
   },
   "outputs": [
    {
     "data": {
      "text/plain": [
       "NH               53.843429\n",
       "CA               14.736096\n",
       "MA                6.730429\n",
       "NY                6.305349\n",
       "NSW               3.258944\n",
       "Victoria          2.763018\n",
       "PA                2.656748\n",
       "CT                2.160822\n",
       "BC                1.700319\n",
       "Tokyo             1.133546\n",
       "NV                1.027276\n",
       "Isle of Wight     0.921006\n",
       "Quebec            0.779313\n",
       "NJ                0.743889\n",
       "Osaka             0.708466\n",
       "Queensland        0.531350\n",
       "Name: STATE, dtype: float64"
      ]
     },
     "execution_count": 25,
     "metadata": {},
     "output_type": "execute_result"
    }
   ],
   "source": [
    "df['STATE'].value_counts()/len(df)*100"
   ]
  },
  {
   "cell_type": "code",
   "execution_count": 27,
   "id": "6f74f8b1",
   "metadata": {
    "scrolled": true
   },
   "outputs": [
    {
     "data": {
      "text/plain": [
       "(array([1698.,  416.,   99.,   61.,  265.,   92.,   63.,   32.,   42.,\n",
       "          55.]),\n",
       " array([ 0. ,  1.5,  3. ,  4.5,  6. ,  7.5,  9. , 10.5, 12. , 13.5, 15. ]),\n",
       " <BarContainer object of 10 artists>)"
      ]
     },
     "execution_count": 27,
     "metadata": {},
     "output_type": "execute_result"
    },
    {
     "data": {
      "image/png": "[encoded data removed]",
      "text/plain": [
       "<Figure size 432x288 with 1 Axes>"
      ]
     },
     "metadata": {
      "needs_background": "light"
     },
     "output_type": "display_data"
    }
   ],
   "source": [
    "plt.hist(df['STATE'])"
   ]
  },
  {
   "cell_type": "markdown",
   "id": "cc47134d",
   "metadata": {},
   "source": [
    "______________________________"
   ]
  },
  {
   "cell_type": "code",
   "execution_count": 28,
   "id": "6ee68cee",
   "metadata": {},
   "outputs": [
    {
     "data": {
      "text/plain": [
       "array(['10022', '51100', '75508', '90003', nan, '94217', '59000',\n",
       "       'N 5804', '75016', '3004', '94019', '97562', '44000', '51247',\n",
       "       '21240', '4110', '70267', '5020', '2067', '50553', 'WX1 6LT',\n",
       "       '28034', 'S-958 22', '28023', '79903', '4101', '71270', '69004',\n",
       "       'V3F 2K1', '97823', '106-0032', '10100', 'S-844 67', '78000',\n",
       "       '62005', '58339', '2060', 'H1J 1C3', '530-0003', '24067', '1734',\n",
       "       'WX3 6FW', '31000', 'WA1 1DP', '8022', '91217', 'B-1180',\n",
       "       'T2F 8M4', '51003', 'PO31 7PJ', '90110', '75012', '8010', '69045',\n",
       "       '1227 MM', '13008', '50739', '1203', '42100', '60528', 'FIN-02271',\n",
       "       '2', 'EC2 5NT', '8200', '92561', '41101', '67000', '83030',\n",
       "       'N 0106', '24100', '3150', '97561', '80686', 'B-6000'],\n",
       "      dtype=object)"
      ]
     },
     "execution_count": 28,
     "metadata": {},
     "output_type": "execute_result"
    }
   ],
   "source": [
    "df['POSTALCODE'].unique()"
   ]
  },
  {
   "cell_type": "code",
   "execution_count": 29,
   "id": "87837ebc",
   "metadata": {
    "scrolled": false
   },
   "outputs": [
    {
     "data": {
      "text/plain": [
       "73"
      ]
     },
     "execution_count": 29,
     "metadata": {},
     "output_type": "execute_result"
    }
   ],
   "source": [
    "df['POSTALCODE'].nunique()"
   ]
  },
  {
   "cell_type": "code",
   "execution_count": 31,
   "id": "97ffcd89",
   "metadata": {},
   "outputs": [
    {
     "data": {
      "image/png": "[encoded data removed]",
      "text/plain": [
       "<Figure size 432x288 with 1 Axes>"
      ]
     },
     "metadata": {
      "needs_background": "light"
     },
     "output_type": "display_data"
    }
   ],
   "source": [
    "plt.hist(df[df['POSTALCODE'].notna()]['POSTALCODE'])\n",
    "plt.show()"
   ]
  },
  {
   "cell_type": "code",
   "execution_count": 32,
   "id": "feb87d5b",
   "metadata": {},
   "outputs": [],
   "source": [
    "dict_postalcode=df['POSTALCODE'].value_counts().to_dict()"
   ]
  },
  {
   "cell_type": "code",
   "execution_count": 33,
   "id": "8c458ab4",
   "metadata": {
    "scrolled": true
   },
   "outputs": [
    {
     "name": "stdout",
     "output_type": "stream",
     "text": [
      "{'28034': 9.428467419002548, '97562': 7.462686567164178, '10022': 5.533309064433928, '94217': 3.2398980706224974, '50553': 2.220604295595195, '44000': 2.184200946487077, '3004': 2.002184200946487, 'EC2 5NT': 1.8565708045140152, '24100': 1.7473607571896617, '58339': 1.7109574080815437, '2067': 1.6745540589734254, '2060': 1.6745540589734254, '28023': 1.6381507098653074, '71270': 1.6017473607571897, '51003': 1.6017473607571897, '79903': 1.5653440116490718, '69004': 1.4925373134328357, '51100': 1.4925373134328357, '5020': 1.456133964324718, '42100': 1.4197306152166, '51247': 1.383327266108482, 'S-844 67': 1.383327266108482, '1734': 1.3105205678922462, '69045': 1.3105205678922462, '94019': 1.2377138696760102, '62005': 1.2377138696760102, '106-0032': 1.1649071714597743, '90110': 1.1649071714597743, '4110': 1.1649071714597743, '1203': 1.1285038223516564, '70267': 1.1285038223516564, '90003': 1.0921004732435384, 'FIN-02271': 1.0921004732435384, '21240': 1.0921004732435384, 'WX1 6LT': 1.0556971241354205, '83030': 1.0556971241354205, 'N 5804': 1.0556971241354205, '8200': 0.9828904259191846, '75016': 0.9828904259191846, '24067': 0.9464870768110666, 'WX3 6FW': 0.9464870768110666, '10100': 0.9464870768110666, 'T2F 8M4': 0.9464870768110666, 'PO31 7PJ': 0.9464870768110666, '50739': 0.9464870768110666, '1227 MM': 0.9464870768110666, '13008': 0.9100837277029487, '91217': 0.9100837277029487, 'B-1180': 0.9100837277029487, 'N 0106': 0.8736803785948308, '8022': 0.8372770294867127, '75012': 0.8372770294867127, '3150': 0.8372770294867127, '60528': 0.8008736803785949, 'H1J 1C3': 0.8008736803785949, 'V3F 2K1': 0.8008736803785949, '31000': 0.728066982162359, '530-0003': 0.728066982162359, '75508': 0.728066982162359, '59000': 0.728066982162359, 'S-958 22': 0.691663633054241, '97561': 0.691663633054241, '67000': 0.691663633054241, '78000': 0.6552602839461231, '97823': 0.6188569348380051, '2': 0.5824535857298871, '8010': 0.5460502366217692, '41101': 0.5460502366217692, '4101': 0.5460502366217692, '80686': 0.5096468875136513, 'WA1 1DP': 0.4368401892974154, 'B-6000': 0.2912267928649436, '92561': 0.10921004732435385}\n"
     ]
    }
   ],
   "source": [
    "keys_postal=list(dict_postalcode.keys())\n",
    "values_postal=list(dict_postalcode.values())/df['POSTALCODE'].notna().sum()*100\n",
    "\n",
    "for i in range(len(dict_postalcode)):\n",
    "    dict_postalcode[keys_postal[i]]=values_postal[i]\n",
    "print(dict_postalcode)    "
   ]
  },
  {
   "cell_type": "code",
   "execution_count": 34,
   "id": "4d347f46",
   "metadata": {
    "scrolled": true
   },
   "outputs": [
    {
     "data": {
      "text/plain": [
       "([<matplotlib.patches.Wedge at 0x1f373c4b3a0>,\n",
       "  <matplotlib.patches.Wedge at 0x1f373c4b910>,\n",
       "  <matplotlib.patches.Wedge at 0x1f373c4bdf0>,\n",
       "  <matplotlib.patches.Wedge at 0x1f373c55310>,\n",
       "  <matplotlib.patches.Wedge at 0x1f373c557f0>,\n",
       "  <matplotlib.patches.Wedge at 0x1f373c55cd0>,\n",
       "  <matplotlib.patches.Wedge at 0x1f373c5d1f0>,\n",
       "  <matplotlib.patches.Wedge at 0x1f373c5d6d0>,\n",
       "  <matplotlib.patches.Wedge at 0x1f373c5dbb0>,\n",
       "  <matplotlib.patches.Wedge at 0x1f373c670d0>,\n",
       "  <matplotlib.patches.Wedge at 0x1f373c119a0>,\n",
       "  <matplotlib.patches.Wedge at 0x1f373c67a30>,\n",
       "  <matplotlib.patches.Wedge at 0x1f373c67f10>,\n",
       "  <matplotlib.patches.Wedge at 0x1f373c72430>,\n",
       "  <matplotlib.patches.Wedge at 0x1f373c72910>,\n",
       "  <matplotlib.patches.Wedge at 0x1f373c72df0>,\n",
       "  <matplotlib.patches.Wedge at 0x1f373c7a310>,\n",
       "  <matplotlib.patches.Wedge at 0x1f373c7a7f0>,\n",
       "  <matplotlib.patches.Wedge at 0x1f373c7acd0>,\n",
       "  <matplotlib.patches.Wedge at 0x1f373c841f0>,\n",
       "  <matplotlib.patches.Wedge at 0x1f373c846d0>,\n",
       "  <matplotlib.patches.Wedge at 0x1f373c84bb0>,\n",
       "  <matplotlib.patches.Wedge at 0x1f373c8e0d0>,\n",
       "  <matplotlib.patches.Wedge at 0x1f373c8e5b0>,\n",
       "  <matplotlib.patches.Wedge at 0x1f373c8ea90>,\n",
       "  <matplotlib.patches.Wedge at 0x1f373c8ef70>,\n",
       "  <matplotlib.patches.Wedge at 0x1f373c98490>,\n",
       "  <matplotlib.patches.Wedge at 0x1f373c98970>,\n",
       "  <matplotlib.patches.Wedge at 0x1f373c98e50>,\n",
       "  <matplotlib.patches.Wedge at 0x1f373ca2370>,\n",
       "  <matplotlib.patches.Wedge at 0x1f373ca2850>,\n",
       "  <matplotlib.patches.Wedge at 0x1f373ca2d30>,\n",
       "  <matplotlib.patches.Wedge at 0x1f373cab250>,\n",
       "  <matplotlib.patches.Wedge at 0x1f373cab730>,\n",
       "  <matplotlib.patches.Wedge at 0x1f373cabc10>,\n",
       "  <matplotlib.patches.Wedge at 0x1f373cb4130>,\n",
       "  <matplotlib.patches.Wedge at 0x1f373cb4610>,\n",
       "  <matplotlib.patches.Wedge at 0x1f373cb4af0>,\n",
       "  <matplotlib.patches.Wedge at 0x1f373cb4fd0>,\n",
       "  <matplotlib.patches.Wedge at 0x1f373cc14f0>,\n",
       "  <matplotlib.patches.Wedge at 0x1f373cc19d0>,\n",
       "  <matplotlib.patches.Wedge at 0x1f373cc1eb0>,\n",
       "  <matplotlib.patches.Wedge at 0x1f373cca3d0>,\n",
       "  <matplotlib.patches.Wedge at 0x1f373cca8b0>,\n",
       "  <matplotlib.patches.Wedge at 0x1f373ccad90>,\n",
       "  <matplotlib.patches.Wedge at 0x1f373cd52b0>,\n",
       "  <matplotlib.patches.Wedge at 0x1f373cd5790>,\n",
       "  <matplotlib.patches.Wedge at 0x1f373cd5c70>,\n",
       "  <matplotlib.patches.Wedge at 0x1f373cde190>,\n",
       "  <matplotlib.patches.Wedge at 0x1f373cde670>,\n",
       "  <matplotlib.patches.Wedge at 0x1f373cdeb50>,\n",
       "  <matplotlib.patches.Wedge at 0x1f373cdefd0>,\n",
       "  <matplotlib.patches.Wedge at 0x1f373ce8550>,\n",
       "  <matplotlib.patches.Wedge at 0x1f373ce8a30>,\n",
       "  <matplotlib.patches.Wedge at 0x1f373ce8f10>,\n",
       "  <matplotlib.patches.Wedge at 0x1f373cf31f0>,\n",
       "  <matplotlib.patches.Wedge at 0x1f373cf36d0>,\n",
       "  <matplotlib.patches.Wedge at 0x1f373cf3bb0>,\n",
       "  <matplotlib.patches.Wedge at 0x1f373cfd0d0>,\n",
       "  <matplotlib.patches.Wedge at 0x1f373cfd5b0>,\n",
       "  <matplotlib.patches.Wedge at 0x1f373cfda90>,\n",
       "  <matplotlib.patches.Wedge at 0x1f373cfdf70>,\n",
       "  <matplotlib.patches.Wedge at 0x1f373d07490>,\n",
       "  <matplotlib.patches.Wedge at 0x1f373d07970>,\n",
       "  <matplotlib.patches.Wedge at 0x1f373d07e50>,\n",
       "  <matplotlib.patches.Wedge at 0x1f373d11370>,\n",
       "  <matplotlib.patches.Wedge at 0x1f373d11850>,\n",
       "  <matplotlib.patches.Wedge at 0x1f373d11d30>,\n",
       "  <matplotlib.patches.Wedge at 0x1f373d1a250>,\n",
       "  <matplotlib.patches.Wedge at 0x1f373d1a730>,\n",
       "  <matplotlib.patches.Wedge at 0x1f373d1ac10>,\n",
       "  <matplotlib.patches.Wedge at 0x1f373d24130>,\n",
       "  <matplotlib.patches.Wedge at 0x1f373d24610>],\n",
       " [Text(1.0520965233267872, 0.3210808396707707, '28034'),\n",
       "  Text(0.744912294828128, 0.8093859851849995, '97562'),\n",
       "  Text(0.3623314426829817, 1.0386125002344566, '10022'),\n",
       "  Text(0.06600583920241905, 1.0980178637850955, '94217'),\n",
       "  Text(-0.12240188118428062, 1.0931686875695577, '50553'),\n",
       "  Text(-0.27202327519853003, 1.0658345733509798, '44000'),\n",
       "  Text(-0.40944794098604, 1.0209566022227843, '3004'),\n",
       "  Text(-0.5299069699784035, 0.9639494816474086, 'EC2 5NT'),\n",
       "  Text(-0.6354203202138926, 0.8979092474516979, '24100'),\n",
       "  Text(-0.7290364328093142, 0.8237146833926603, '58339'),\n",
       "  Text(-0.8123611769216083, 0.7416665815786361, '2067'),\n",
       "  Text(-0.8857595985321552, 0.6522499011944388, '2060'),\n",
       "  Text(-0.9487254150570454, 0.5567046675076804, '28023'),\n",
       "  Text(-1.0003812911166727, 0.45742460841513427, '71270'),\n",
       "  Text(-1.0412772403418566, 0.3546007737527476, '51003'),\n",
       "  Text(-1.0713509054001056, 0.24941378770704306, '79903'),\n",
       "  Text(-1.0903345039419678, 0.14550144162042827, '69004'),\n",
       "  Text(-1.0991685261588662, 0.04276156103027535, '51100'),\n",
       "  Text(-1.0984113216808633, -0.059097955999332576, '5020'),\n",
       "  Text(-1.0885992224093313, -0.1579611755141099, '42100'),\n",
       "  Text(-1.070488885662011, -0.2530880196178913, '51247'),\n",
       "  Text(-1.0444779224829883, -0.3450592259969595, 'S-844 67'),\n",
       "  Text(-1.0115723591695227, -0.43211267299653044, '1734'),\n",
       "  Text(-0.9726039122517863, -0.5138498125644495, '69045'),\n",
       "  Text(-0.9283965566576308, -0.589982909571332, '94019'),\n",
       "  Text(-0.8797551040604947, -0.6603264017737805, '62005'),\n",
       "  Text(-0.8274556756195525, -0.724787627436472, '106-0032'),\n",
       "  Text(-0.7722379898727578, -0.7833571899186746, '90110'),\n",
       "  Text(-0.7128850740581025, -0.8377319805195298, '4110'),\n",
       "  Text(-0.6507294556143401, -0.8868772043501089, '1203'),\n",
       "  Text(-0.5862620986348005, -0.9307506388417467, '70267'),\n",
       "  Text(-0.5199573828838249, -0.969352526166102, '90003'),\n",
       "  Text(-0.4522702235590511, -1.002722117479138, 'FIN-02271'),\n",
       "  Text(-0.3824543736307568, -1.0313722180138, '21240'),\n",
       "  Text(-0.31204497098641637, -1.0548118012622378, 'WX1 6LT'),\n",
       "  Text(-0.2414428955586452, -1.0731753482932123, '83030'),\n",
       "  Text(-0.1697788958282163, -1.0868188103503509, 'N 5804'),\n",
       "  Text(-0.09987405018685522, -1.095456605301768, '8200'),\n",
       "  Text(-0.03207472389127238, -1.099532269688934, '75016'),\n",
       "  Text(0.034589529027196614, -1.0994560311725416, '24067'),\n",
       "  Text(0.09987399249457768, -1.0954566105616386, 'WX3 6FW'),\n",
       "  Text(0.1648053430807077, -1.0875841111803954, '10100'),\n",
       "  Text(0.22915401054696852, -1.075866366910984, 'T2F 8M4'),\n",
       "  Text(0.2926924847798043, -1.060344806821547, 'PO31 7PJ'),\n",
       "  Text(0.3551961201718222, -1.0410743086902514, '50739'),\n",
       "  Text(0.4164439298751913, -1.0181230049802956, '1227 MM'),\n",
       "  Text(0.4750850466402972, -0.9921160206643106, '13008'),\n",
       "  Text(0.531009047646315, -0.9633428212831369, '91217'),\n",
       "  Text(0.5851972235695397, -0.9314205331248084, 'B-1180'),\n",
       "  Text(0.6364467964831084, -0.8971819632863719, 'N 0106'),\n",
       "  Text(0.6837290943036278, -0.8616928255490706, '8022'),\n",
       "  Text(0.7280939239100951, -0.8245478991333376, '75012'),\n",
       "  Text(0.7704441695798435, -0.7851215075135984, '3150'),\n",
       "  Text(0.8098117951934132, -0.7444493645410826, '60528'),\n",
       "  Text(0.8462318999136803, -0.7027741967150496, 'H1J 1C3'),\n",
       "  Text(0.8805096786121622, -0.6593198812945861, 'V3F 2K1'),\n",
       "  Text(0.9111511213291614, -0.6162821059390025, '31000'),\n",
       "  Text(0.9383803986049143, -0.5739705807043445, '530-0003'),\n",
       "  Text(0.9636462903902838, -0.5304581293721919, '75508'),\n",
       "  Text(0.9868959325318767, -0.48583579360936113, '59000'),\n",
       "  Text(1.0075765913448396, -0.44134953559952267, 'S-958 22'),\n",
       "  Text(1.0257996202245934, -0.39715883365107285, '97561'),\n",
       "  Text(1.0420855859695999, -0.3522181589787726, '67000'),\n",
       "  Text(1.0560523885883195, -0.30782032511987417, '78000'),\n",
       "  Text(1.0675245046959954, -0.2653138365663766, '97823'),\n",
       "  Text(1.0767749843845622, -0.2248457982787885, '2'),\n",
       "  Text(1.0840681351043593, -0.18653760599770922, '8010'),\n",
       "  Text(1.089828880736572, -0.14924145105322123, '41101'),\n",
       "  Text(1.0943068803353988, -0.11176963653250153, '4101'),\n",
       "  Text(1.097411325641258, -0.07542136537014411, '80686'),\n",
       "  Text(1.0991685260963096, -0.04276156263826866, 'WA1 1DP'),\n",
       "  Text(1.099859008511375, -0.017611399614312195, 'B-6000'),\n",
       "  Text(1.0999935257156404, -0.003774040762216766, '92561')])"
      ]
     },
     "execution_count": 34,
     "metadata": {},
     "output_type": "execute_result"
    },
    {
     "data": {
      "image/png": "[encoded data removed]",
      "text/plain": [
       "<Figure size 432x288 with 1 Axes>"
      ]
     },
     "metadata": {},
     "output_type": "display_data"
    }
   ],
   "source": [
    "plt.pie( dict_postalcode.values(), labels = dict_postalcode.keys() )"
   ]
  },
  {
   "cell_type": "code",
   "execution_count": 35,
   "id": "d2d1fc4b",
   "metadata": {
    "scrolled": true
   },
   "outputs": [
    {
     "name": "stderr",
     "output_type": "stream",
     "text": [
      "C:\\Users\\Acer\\AppData\\Local\\Temp/ipykernel_5816/1301705407.py:4: SettingWithCopyWarning: \n",
      "A value is trying to be set on a copy of a slice from a DataFrame.\n",
      "Try using .loc[row_indexer,col_indexer] = value instead\n",
      "\n",
      "See the caveats in the documentation: https://pandas.pydata.org/pandas-docs/stable/user_guide/indexing.html#returning-a-view-versus-a-copy\n",
      "  df['POSTALCODE']=df['POSTALCODE'].fillna(random_postalcode[n])\n"
     ]
    }
   ],
   "source": [
    "random_postalcode=random.choices(keys_postal, weights=tuple(values_postal), k=len(df['POSTALCODE'].notna()))\n",
    "\n",
    "for n in range(len(random_postalcode)):\n",
    "    df['POSTALCODE']=df['POSTALCODE'].fillna(random_postalcode[n])"
   ]
  },
  {
   "cell_type": "code",
   "execution_count": 36,
   "id": "dc4dd9fb",
   "metadata": {
    "scrolled": false
   },
   "outputs": [
    {
     "data": {
      "text/plain": [
       "28034      9.174637\n",
       "97562      7.261778\n",
       "10022      5.384343\n",
       "2067       4.321644\n",
       "94217      3.152674\n",
       "             ...   \n",
       "4101       0.531350\n",
       "80686      0.495926\n",
       "WA1 1DP    0.425080\n",
       "B-6000     0.283386\n",
       "92561      0.106270\n",
       "Name: POSTALCODE, Length: 73, dtype: float64"
      ]
     },
     "execution_count": 36,
     "metadata": {},
     "output_type": "execute_result"
    }
   ],
   "source": [
    "df['POSTALCODE'].value_counts()/len(df)*100"
   ]
  },
  {
   "cell_type": "code",
   "execution_count": 37,
   "id": "85e495f3",
   "metadata": {},
   "outputs": [
    {
     "data": {
      "text/plain": [
       "(array([503., 449., 471., 227., 241., 185., 201., 198., 164., 184.]),\n",
       " array([ 0. ,  7.2, 14.4, 21.6, 28.8, 36. , 43.2, 50.4, 57.6, 64.8, 72. ]),\n",
       " <BarContainer object of 10 artists>)"
      ]
     },
     "execution_count": 37,
     "metadata": {},
     "output_type": "execute_result"
    },
    {
     "data": {
      "image/png": "[encoded data removed]",
      "text/plain": [
       "<Figure size 432x288 with 1 Axes>"
      ]
     },
     "metadata": {
      "needs_background": "light"
     },
     "output_type": "display_data"
    }
   ],
   "source": [
    "plt.hist(df['POSTALCODE'])"
   ]
  },
  {
   "cell_type": "markdown",
   "id": "676b870e",
   "metadata": {},
   "source": [
    "_________________________________________________________"
   ]
  },
  {
   "cell_type": "code",
   "execution_count": 38,
   "id": "899af2f8",
   "metadata": {},
   "outputs": [
    {
     "data": {
      "text/plain": [
       "array([nan, 'EMEA', 'APAC', 'Japan'], dtype=object)"
      ]
     },
     "execution_count": 38,
     "metadata": {},
     "output_type": "execute_result"
    }
   ],
   "source": [
    "df['TERRITORY'].unique()"
   ]
  },
  {
   "cell_type": "code",
   "execution_count": 39,
   "id": "9e9db76e",
   "metadata": {},
   "outputs": [
    {
     "data": {
      "text/plain": [
       "3"
      ]
     },
     "execution_count": 39,
     "metadata": {},
     "output_type": "execute_result"
    }
   ],
   "source": [
    "df['TERRITORY'].nunique()"
   ]
  },
  {
   "cell_type": "code",
   "execution_count": 41,
   "id": "3c0c6090",
   "metadata": {},
   "outputs": [
    {
     "data": {
      "image/png": "[encoded data removed]",
      "text/plain": [
       "<Figure size 432x288 with 1 Axes>"
      ]
     },
     "metadata": {
      "needs_background": "light"
     },
     "output_type": "display_data"
    }
   ],
   "source": [
    "plt.hist(df[df['TERRITORY'].notna()]['TERRITORY'])\n",
    "plt.show()"
   ]
  },
  {
   "cell_type": "code",
   "execution_count": 42,
   "id": "4c8e7bee",
   "metadata": {},
   "outputs": [],
   "source": [
    "dict_territory=df['TERRITORY'].value_counts().to_dict()"
   ]
  },
  {
   "cell_type": "code",
   "execution_count": 43,
   "id": "6d96366b",
   "metadata": {},
   "outputs": [
    {
     "name": "stdout",
     "output_type": "stream",
     "text": [
      "{'EMEA': 80.44596912521442, 'APAC': 12.635791881074901, 'Japan': 6.918238993710692}\n"
     ]
    }
   ],
   "source": [
    "keys_territory=list(dict_territory.keys())\n",
    "values_territory=list(dict_territory.values())/df['TERRITORY'].notna().sum()*100\n",
    "\n",
    "for i in range(len(dict_territory)):\n",
    "    dict_territory[keys_territory[i]]=values_territory[i]\n",
    "print(dict_territory)    "
   ]
  },
  {
   "cell_type": "code",
   "execution_count": 44,
   "id": "072ebdd8",
   "metadata": {},
   "outputs": [
    {
     "data": {
      "text/plain": [
       "([<matplotlib.patches.Wedge at 0x1f373ef1820>,\n",
       "  <matplotlib.patches.Wedge at 0x1f373ef1d90>,\n",
       "  <matplotlib.patches.Wedge at 0x1f373efe2b0>],\n",
       " [Text(-0.8988898772039201, 0.6340323246178554, 'EMEA'),\n",
       "  Text(0.7410225875701202, -0.8129486605628203, 'APAC'),\n",
       "  Text(1.074121357154847, -0.23719888301556077, 'Japan')])"
      ]
     },
     "execution_count": 44,
     "metadata": {},
     "output_type": "execute_result"
    },
    {
     "data": {
      "image/png": "[encoded data removed]",
      "text/plain": [
       "<Figure size 432x288 with 1 Axes>"
      ]
     },
     "metadata": {},
     "output_type": "display_data"
    }
   ],
   "source": [
    "plt.pie( dict_territory.values(), labels = dict_territory.keys() )"
   ]
  },
  {
   "cell_type": "code",
   "execution_count": 45,
   "id": "341af796",
   "metadata": {},
   "outputs": [
    {
     "name": "stderr",
     "output_type": "stream",
     "text": [
      "C:\\Users\\Acer\\AppData\\Local\\Temp/ipykernel_5816/790690288.py:4: SettingWithCopyWarning: \n",
      "A value is trying to be set on a copy of a slice from a DataFrame.\n",
      "Try using .loc[row_indexer,col_indexer] = value instead\n",
      "\n",
      "See the caveats in the documentation: https://pandas.pydata.org/pandas-docs/stable/user_guide/indexing.html#returning-a-view-versus-a-copy\n",
      "  df['TERRITORY']=df['TERRITORY'].fillna(random_territory[n])\n"
     ]
    }
   ],
   "source": [
    "random_territory=random.choices(keys_territory, weights=tuple(values_territory), k=len(df['TERRITORY'].notna()))\n",
    "\n",
    "for n in range(len(random_territory)):\n",
    "    df['TERRITORY']=df['TERRITORY'].fillna(random_territory[n])"
   ]
  },
  {
   "cell_type": "code",
   "execution_count": 46,
   "id": "01d51d42",
   "metadata": {},
   "outputs": [
    {
     "data": {
      "text/plain": [
       "(80.44596912521442, 12.635791881074901, 6.918238993710692)"
      ]
     },
     "execution_count": 46,
     "metadata": {},
     "output_type": "execute_result"
    }
   ],
   "source": [
    "tuple(values_territory)"
   ]
  },
  {
   "cell_type": "code",
   "execution_count": 47,
   "id": "011b89c9",
   "metadata": {},
   "outputs": [
    {
     "data": {
      "text/plain": [
       "EMEA     87.885228\n",
       "APAC      7.828551\n",
       "Japan     4.286220\n",
       "Name: TERRITORY, dtype: float64"
      ]
     },
     "execution_count": 47,
     "metadata": {},
     "output_type": "execute_result"
    }
   ],
   "source": [
    "df['TERRITORY'].value_counts()/len(df)*100"
   ]
  },
  {
   "cell_type": "code",
   "execution_count": 48,
   "id": "d24c4df2",
   "metadata": {},
   "outputs": [
    {
     "data": {
      "text/plain": [
       "(array([2481.,    0.,    0.,    0.,    0.,  221.,    0.,    0.,    0.,\n",
       "         121.]),\n",
       " array([0. , 0.2, 0.4, 0.6, 0.8, 1. , 1.2, 1.4, 1.6, 1.8, 2. ]),\n",
       " <BarContainer object of 10 artists>)"
      ]
     },
     "execution_count": 48,
     "metadata": {},
     "output_type": "execute_result"
    },
    {
     "data": {
      "image/png": "[encoded data removed]",
      "text/plain": [
       "<Figure size 432x288 with 1 Axes>"
      ]
     },
     "metadata": {
      "needs_background": "light"
     },
     "output_type": "display_data"
    }
   ],
   "source": [
    "plt.hist(df['TERRITORY'])"
   ]
  },
  {
   "cell_type": "code",
   "execution_count": null,
   "id": "6ddb1137",
   "metadata": {},
   "outputs": [],
   "source": []
  }
 ],
 "metadata": {
  "kernelspec": {
   "display_name": "Python 3 (ipykernel)",
   "language": "python",
   "name": "python3"
  },
  "language_info": {
   "codemirror_mode": {
    "name": "ipython",
    "version": 3
   },
   "file_extension": ".py",
   "mimetype": "text/x-python",
   "name": "python",
   "nbconvert_exporter": "python",
   "pygments_lexer": "ipython3",
   "version": "3.9.7"
  }
 },
 "nbformat": 4,
 "nbformat_minor": 5
}
